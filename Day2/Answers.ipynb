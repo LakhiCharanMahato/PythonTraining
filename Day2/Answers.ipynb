{
  "nbformat": 4,
  "nbformat_minor": 0,
  "metadata": {
    "colab": {
      "name": "Answers.ipynb",
      "provenance": [],
      "collapsed_sections": [],
      "authorship_tag": "ABX9TyNL9OwQrD1XShgqqYecrLzX",
      "include_colab_link": true
    },
    "kernelspec": {
      "name": "python3",
      "display_name": "Python 3"
    },
    "language_info": {
      "name": "python"
    }
  },
  "cells": [
    {
      "cell_type": "markdown",
      "metadata": {
        "id": "view-in-github",
        "colab_type": "text"
      },
      "source": [
        "<a href=\"https://colab.research.google.com/github/LakhiCharanMahato/PythonTraining/blob/main/Day2/Answers.ipynb\" target=\"_parent\"><img src=\"https://colab.research.google.com/assets/colab-badge.svg\" alt=\"Open In Colab\"/></a>"
      ]
    },
    {
      "cell_type": "markdown",
      "source": [
        "#1. Find the largest element of a python list and also find it’s index."
      ],
      "metadata": {
        "id": "zBo67F76EToh"
      }
    },
    {
      "cell_type": "code",
      "execution_count": null,
      "metadata": {
        "colab": {
          "base_uri": "https://localhost:8080/"
        },
        "id": "n2L5JOb2D5gI",
        "outputId": "7a8d45e8-f676-4ce4-9cd3-b6ad54675539"
      },
      "outputs": [
        {
          "output_type": "stream",
          "name": "stdout",
          "text": [
            "100 5\n"
          ]
        }
      ],
      "source": [
        "a=[1,2,30,5,9,100,51,49]\n",
        "m=max(a)\n",
        "\n",
        "\n",
        "ind=a.index(m)\n",
        "print(m,ind)"
      ]
    },
    {
      "cell_type": "markdown",
      "source": [
        "#2. Concatenate 2 lists index-wise\n",
        "\t    A=[“M”, “na”, “i”, “La”]\n",
        "\t    B=[“y”, “me”, “s”, “khi”]\n"
      ],
      "metadata": {
        "id": "5LVSwXKpE5gE"
      }
    },
    {
      "cell_type": "code",
      "source": [
        "A=[\"M\", \"na\", \"i\", \"La\"]\n",
        "B=[\"y\", \"me\", \"s\", \"khi\"]\n",
        "\n",
        "C=[i+j for i,j in zip(A,B)]\n",
        "C"
      ],
      "metadata": {
        "colab": {
          "base_uri": "https://localhost:8080/"
        },
        "id": "5hZt-tTMEoV1",
        "outputId": "033ca985-f34d-4a2e-f88c-92b9bc210896"
      },
      "execution_count": null,
      "outputs": [
        {
          "output_type": "execute_result",
          "data": {
            "text/plain": [
              "['My', 'name', 'is', 'Lakhi']"
            ]
          },
          "metadata": {},
          "execution_count": 5
        }
      ]
    },
    {
      "cell_type": "markdown",
      "source": [
        "#3. Remove all occurences of a specific item from a list\n",
        "\t    A=[2,10,2,5,8,2,13]\n",
        "\t    C=2\n",
        "\t    Output: [10,5,8,13]\n"
      ],
      "metadata": {
        "id": "YjL-C3wWGTn6"
      }
    },
    {
      "cell_type": "code",
      "source": [
        "A=[2,10,2,5,8,2,13]\n",
        "C=2"
      ],
      "metadata": {
        "id": "8OepFP3vFs0L"
      },
      "execution_count": null,
      "outputs": []
    },
    {
      "cell_type": "code",
      "source": [
        "## Method 1\n",
        "\n",
        "while True:\n",
        "  try:\n",
        "    A.remove(C)\n",
        "    print(A)\n",
        "  except ValueError:\n",
        "    break\n",
        "print(A)"
      ],
      "metadata": {
        "colab": {
          "base_uri": "https://localhost:8080/"
        },
        "id": "FDfxAwiQHI1a",
        "outputId": "25f4b104-a98b-43e3-e14a-8a9d572b9c14"
      },
      "execution_count": null,
      "outputs": [
        {
          "output_type": "stream",
          "name": "stdout",
          "text": [
            "[10, 2, 5, 8, 2, 13]\n",
            "[10, 5, 8, 2, 13]\n",
            "[10, 5, 8, 13]\n",
            "[10, 5, 8, 13]\n"
          ]
        }
      ]
    },
    {
      "cell_type": "code",
      "source": [
        "## Method 2\n",
        "A=[2,10,2,5,8,2,13]\n",
        "C=2\n",
        "D=[i for i in A if i!=C]\n",
        "D"
      ],
      "metadata": {
        "colab": {
          "base_uri": "https://localhost:8080/"
        },
        "id": "pJktcVAUIE7a",
        "outputId": "91565844-83ce-46ca-9f74-67913711e348"
      },
      "execution_count": null,
      "outputs": [
        {
          "output_type": "execute_result",
          "data": {
            "text/plain": [
              "[10, 5, 8, 13]"
            ]
          },
          "metadata": {},
          "execution_count": 21
        }
      ]
    },
    {
      "cell_type": "code",
      "source": [
        "## Method 3\n",
        "A=[2,10,2,5,8,2,13]\n",
        "C=2\n",
        "D=filter(lambda x:x!=C,A)\n",
        "print(D)\n",
        "E=list(D)\n",
        "print(E)"
      ],
      "metadata": {
        "colab": {
          "base_uri": "https://localhost:8080/"
        },
        "id": "otNOENBKI-qg",
        "outputId": "90a87d7f-7bdf-4f8e-db02-a1ff4e38d78e"
      },
      "execution_count": null,
      "outputs": [
        {
          "output_type": "stream",
          "name": "stdout",
          "text": [
            "<filter object at 0x7fd3447d2150>\n",
            "[10, 5, 8, 13]\n"
          ]
        }
      ]
    },
    {
      "cell_type": "markdown",
      "source": [
        "#4. Replace the first occurence of a number from a Python list\n",
        "\tA=[5,10,15,20,25,50,20]\n",
        "\tC=20\n",
        "\tR=200\n",
        "\tOutput: [5,10,15,200,25,50,20]\n"
      ],
      "metadata": {
        "id": "KoEiYdJKJyCn"
      }
    },
    {
      "cell_type": "code",
      "source": [
        "A=[5,10,15,20,25,50,20]\n",
        "C=20\n",
        "R=200\n",
        "print(A.index(C))\n",
        "A[A.index(C)]=R\n",
        "A"
      ],
      "metadata": {
        "colab": {
          "base_uri": "https://localhost:8080/"
        },
        "id": "I7J1KGCwJejv",
        "outputId": "9cf571b9-adeb-4de7-a827-3edaf002d525"
      },
      "execution_count": null,
      "outputs": [
        {
          "output_type": "stream",
          "name": "stdout",
          "text": [
            "3\n"
          ]
        },
        {
          "output_type": "execute_result",
          "data": {
            "text/plain": [
              "[5, 10, 15, 200, 25, 50, 20]"
            ]
          },
          "metadata": {},
          "execution_count": 25
        }
      ]
    },
    {
      "cell_type": "markdown",
      "source": [
        "#5. Write a program to remove 0.th, 4.th, 5.th elements from a python list with atleast 8 elements."
      ],
      "metadata": {
        "id": "Mql_yLhGKPQ1"
      }
    },
    {
      "cell_type": "code",
      "source": [
        "A=[2,5,7,11,13,17,19,23,31]\n",
        "B=[0,1,2,3 ,4 ,5 ,6 ,7 ,8 ]\n",
        "\n",
        "\n",
        "R=[0,4,5]\n",
        "length=len(A)\n",
        "C=[A[i] for i in range(length) if i not in R]\n",
        "C"
      ],
      "metadata": {
        "colab": {
          "base_uri": "https://localhost:8080/"
        },
        "id": "x6AvyDa3J79e",
        "outputId": "88773e38-1367-4983-df81-2d9d08291240"
      },
      "execution_count": null,
      "outputs": [
        {
          "output_type": "execute_result",
          "data": {
            "text/plain": [
              "[5, 7, 11, 19, 23, 31]"
            ]
          },
          "metadata": {},
          "execution_count": 29
        }
      ]
    },
    {
      "cell_type": "markdown",
      "source": [
        "#1. What is the output of:-\n",
        "\tT1=(1,2,3)\n",
        "\tprint(T1*3)\n"
      ],
      "metadata": {
        "id": "N9OmdS-jNGFQ"
      }
    },
    {
      "cell_type": "code",
      "source": [
        "T1=(1,2,3)\n",
        "print(T1*3)"
      ],
      "metadata": {
        "colab": {
          "base_uri": "https://localhost:8080/"
        },
        "id": "bcHS_19zKx6Q",
        "outputId": "e6900dc9-3c31-4be8-ae9e-8bc63b1121a8"
      },
      "execution_count": null,
      "outputs": [
        {
          "output_type": "stream",
          "name": "stdout",
          "text": [
            "(1, 2, 3, 1, 2, 3, 1, 2, 3)\n"
          ]
        }
      ]
    },
    {
      "cell_type": "markdown",
      "source": [
        "#2. Write a program to remove an item from a python tuple"
      ],
      "metadata": {
        "id": "ly_He_oxNXL4"
      }
    },
    {
      "cell_type": "code",
      "source": [
        "A=(1,5,7,4,11,3)\n",
        "R=5\n",
        "\n",
        "B=list(A)\n",
        "B.remove(R)\n",
        "A=tuple(B)\n",
        "A"
      ],
      "metadata": {
        "colab": {
          "base_uri": "https://localhost:8080/"
        },
        "id": "1k7-UYUONWIw",
        "outputId": "8665a859-9ec0-4411-a2ff-a535bfd170ac"
      },
      "execution_count": null,
      "outputs": [
        {
          "output_type": "execute_result",
          "data": {
            "text/plain": [
              "(1, 7, 4, 11, 3)"
            ]
          },
          "metadata": {},
          "execution_count": 32
        }
      ]
    },
    {
      "cell_type": "markdown",
      "source": [
        "#3. Write a program to add an element to a tuple at a given index"
      ],
      "metadata": {
        "id": "SZrEbD40NzsX"
      }
    },
    {
      "cell_type": "code",
      "source": [
        "A=(1,5,7,4,11,3)\n",
        "I=5\n",
        "Ele=100\n",
        "\n",
        "B=list(A)\n",
        "B.insert(I,Ele)\n",
        "A=tuple(B)\n",
        "A"
      ],
      "metadata": {
        "colab": {
          "base_uri": "https://localhost:8080/"
        },
        "id": "Va9AzW-INRAx",
        "outputId": "57270c7c-f1dd-4090-99fa-9eb6948b3f6e"
      },
      "execution_count": null,
      "outputs": [
        {
          "output_type": "execute_result",
          "data": {
            "text/plain": [
              "(1, 5, 7, 4, 11, 100, 3)"
            ]
          },
          "metadata": {},
          "execution_count": 34
        }
      ]
    },
    {
      "cell_type": "markdown",
      "source": [
        "#4. Convert a python string to a tuple:-\n",
        "\tS= “Lakhi”\n",
        "\tOutput: (“L”, “a”, “k”, “h”, “i”)\n"
      ],
      "metadata": {
        "id": "gElkidwqOUbu"
      }
    },
    {
      "cell_type": "code",
      "source": [
        "S=\"Lakhi\"\n",
        "\n",
        "L=tuple(S)\n",
        "print(L)"
      ],
      "metadata": {
        "colab": {
          "base_uri": "https://localhost:8080/"
        },
        "id": "dvWVWsWQODNA",
        "outputId": "630e79ad-6b13-4d75-d6fb-94b16b177882"
      },
      "execution_count": null,
      "outputs": [
        {
          "output_type": "stream",
          "name": "stdout",
          "text": [
            "('L', 'a', 'k', 'h', 'i')\n"
          ]
        }
      ]
    },
    {
      "cell_type": "markdown",
      "source": [
        "#1. Add a list to a set"
      ],
      "metadata": {
        "id": "QWaABbrrPUAj"
      }
    },
    {
      "cell_type": "code",
      "source": [
        "A=[1,2,3]\n",
        "B=set()\n",
        "B.update(A)\n",
        "B"
      ],
      "metadata": {
        "colab": {
          "base_uri": "https://localhost:8080/"
        },
        "id": "ZpJOWlh3OuQe",
        "outputId": "0f3663f4-c9c9-4e02-b29f-ec0b9d0a3515"
      },
      "execution_count": null,
      "outputs": [
        {
          "output_type": "execute_result",
          "data": {
            "text/plain": [
              "{1, 2, 3}"
            ]
          },
          "metadata": {},
          "execution_count": 44
        }
      ]
    },
    {
      "cell_type": "markdown",
      "source": [
        "#2. Get unique elements from 2 sets"
      ],
      "metadata": {
        "id": "dVclCX9pQbPT"
      }
    },
    {
      "cell_type": "code",
      "source": [
        "A={1,2,3}\n",
        "B={3,4,5,6}\n",
        "A.union(B)"
      ],
      "metadata": {
        "colab": {
          "base_uri": "https://localhost:8080/"
        },
        "id": "tUqYZrH1Piaf",
        "outputId": "953ec497-040e-41b6-a91f-7325ea9fd9dd"
      },
      "execution_count": null,
      "outputs": [
        {
          "output_type": "execute_result",
          "data": {
            "text/plain": [
              "{1, 2, 3, 4, 5, 6}"
            ]
          },
          "metadata": {},
          "execution_count": 45
        }
      ]
    },
    {
      "cell_type": "markdown",
      "source": [
        "#3. Return set of elements in A but not in B"
      ],
      "metadata": {
        "id": "jtfGRwa9QqV7"
      }
    },
    {
      "cell_type": "code",
      "source": [
        "A={1,2,3}\n",
        "B={3,4,5,6}\n",
        "A.difference(B)"
      ],
      "metadata": {
        "colab": {
          "base_uri": "https://localhost:8080/"
        },
        "id": "NxKTVh2EQopj",
        "outputId": "93f910be-9d62-4d09-98d7-b1f6a235340a"
      },
      "execution_count": null,
      "outputs": [
        {
          "output_type": "execute_result",
          "data": {
            "text/plain": [
              "{1, 2}"
            ]
          },
          "metadata": {},
          "execution_count": 47
        }
      ]
    },
    {
      "cell_type": "markdown",
      "source": [
        "#4. Check if 2 sets have any elements in common. If yes display elements\n"
      ],
      "metadata": {
        "id": "fIivOdrYQ2cl"
      }
    },
    {
      "cell_type": "code",
      "source": [
        "A={1,2,3}\n",
        "B={3,4,5,6}\n",
        "if A.isdisjoint(B):\n",
        "  print(\"No elements common\")\n",
        "else:\n",
        "  print(A.intersection(B))"
      ],
      "metadata": {
        "colab": {
          "base_uri": "https://localhost:8080/"
        },
        "id": "drc4LZJXQysc",
        "outputId": "25869410-3476-4b6f-a301-39787c5aa45c"
      },
      "execution_count": null,
      "outputs": [
        {
          "output_type": "stream",
          "name": "stdout",
          "text": [
            "{3}\n"
          ]
        }
      ]
    },
    {
      "cell_type": "markdown",
      "source": [
        "#5. Update A with elements of B except common items.\n"
      ],
      "metadata": {
        "id": "hahQGvzTRZnK"
      }
    },
    {
      "cell_type": "code",
      "source": [
        "A={1,2,3}\n",
        "B={3,4,5,6}\n",
        "\n",
        "A.symmetric_difference_update(B)\n",
        "A"
      ],
      "metadata": {
        "colab": {
          "base_uri": "https://localhost:8080/"
        },
        "id": "7PlFXTMfRK6U",
        "outputId": "8a69ae92-e11c-40b9-b20f-494303ffdedd"
      },
      "execution_count": null,
      "outputs": [
        {
          "output_type": "execute_result",
          "data": {
            "text/plain": [
              "{1, 2, 4, 5, 6}"
            ]
          },
          "metadata": {},
          "execution_count": 50
        }
      ]
    },
    {
      "cell_type": "markdown",
      "source": [
        "#6. Remove items in A not in B"
      ],
      "metadata": {
        "id": "ZgSxKK5fR2Xu"
      }
    },
    {
      "cell_type": "code",
      "source": [
        "A={1,2,3}\n",
        "B={3,4,5,6}\n",
        "\n",
        "A.difference_update(B)\n",
        "A"
      ],
      "metadata": {
        "colab": {
          "base_uri": "https://localhost:8080/"
        },
        "id": "gxXOZcfyR1ci",
        "outputId": "3ccd9ffd-bad2-4202-ae57-9ea26b8e09aa"
      },
      "execution_count": null,
      "outputs": [
        {
          "output_type": "execute_result",
          "data": {
            "text/plain": [
              "{1, 2}"
            ]
          },
          "metadata": {},
          "execution_count": 53
        }
      ]
    },
    {
      "cell_type": "markdown",
      "source": [
        "#1.Print marks in history\n",
        "A={“class”:{\n",
        "\t\t“student”:{\n",
        "\t\t\t“name”: “Mike”,\n",
        "\t\t“marks:{\n",
        "\t\t\t“physics”:70,\n",
        "\t\t\t“history”:80\n",
        "\t\t\t}\n",
        "\t\t\t}\t\t\n",
        "\t\t}\n",
        "\t}\n"
      ],
      "metadata": {
        "id": "-Wfk0T8JSSDt"
      }
    },
    {
      "cell_type": "code",
      "source": [
        "A={\"class\":{\n",
        "\t\t\"student\":{\n",
        "\t\t\t\"name\": \"Mike\",\n",
        "\t\t  \"marks\":{\n",
        "\t\t\t    \"physics\":70,\n",
        "\t\t\t    \"history\":80\n",
        "\t\t\t        }\n",
        "\t\t\t  }\t\t\n",
        "\t\t}\n",
        "}\n",
        "\n",
        "A[\"class\"][\"student\"][\"marks\"][\"history\"]"
      ],
      "metadata": {
        "colab": {
          "base_uri": "https://localhost:8080/"
        },
        "id": "UORCmtqORmdV",
        "outputId": "d113dc55-5ef3-44fd-e1e2-f11089524dbc"
      },
      "execution_count": null,
      "outputs": [
        {
          "output_type": "execute_result",
          "data": {
            "text/plain": [
              "80"
            ]
          },
          "metadata": {},
          "execution_count": 59
        }
      ]
    },
    {
      "cell_type": "code",
      "source": [
        "Physics=[10,20,30,40]\n",
        "History=[100,99,90,36]\n",
        "Names=[\"Mike\",\"Josh\",\"Robert\",\"Elena\"]"
      ],
      "metadata": {
        "id": "gnJv2j8FS4Uc"
      },
      "execution_count": null,
      "outputs": []
    },
    {
      "cell_type": "code",
      "source": [
        "length=len(Physics)\n",
        "\n",
        "A={}\n",
        "A[\"physics\"]=Physics\n",
        "A[\"history\"]=History\n",
        "print(A)\n",
        "\n",
        "B={\"name\":Names}\n",
        "print(B)\n",
        "\n",
        "B[\"marks\"]=A\n",
        "print(B)\n",
        "\n",
        "\n",
        "C={}\n",
        "C[\"student\"]=B\n",
        "print(C)\n",
        "\n",
        "D={}\n",
        "D[\"class\"]=C\n",
        "D"
      ],
      "metadata": {
        "colab": {
          "base_uri": "https://localhost:8080/"
        },
        "id": "xFQKlJtBURE0",
        "outputId": "4505381e-f184-449e-c961-a6c339350c89"
      },
      "execution_count": null,
      "outputs": [
        {
          "output_type": "stream",
          "name": "stdout",
          "text": [
            "{'physics': [10, 20, 30, 40], 'history': [100, 99, 90, 36]}\n",
            "{'name': ['Mike', 'Josh', 'Robert', 'Elena']}\n",
            "{'name': ['Mike', 'Josh', 'Robert', 'Elena'], 'marks': {'physics': [10, 20, 30, 40], 'history': [100, 99, 90, 36]}}\n",
            "{'student': {'name': ['Mike', 'Josh', 'Robert', 'Elena'], 'marks': {'physics': [10, 20, 30, 40], 'history': [100, 99, 90, 36]}}}\n"
          ]
        },
        {
          "output_type": "execute_result",
          "data": {
            "text/plain": [
              "{'class': {'student': {'marks': {'history': [100, 99, 90, 36],\n",
              "    'physics': [10, 20, 30, 40]},\n",
              "   'name': ['Mike', 'Josh', 'Robert', 'Elena']}}}"
            ]
          },
          "metadata": {},
          "execution_count": 75
        }
      ]
    },
    {
      "cell_type": "code",
      "source": [
        ""
      ],
      "metadata": {
        "id": "uFSqHfAaZXWX"
      },
      "execution_count": null,
      "outputs": []
    }
  ]
}