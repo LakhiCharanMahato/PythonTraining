{
  "nbformat": 4,
  "nbformat_minor": 0,
  "metadata": {
    "colab": {
      "name": "LakhiCharanMahato.ipynb",
      "provenance": [],
      "collapsed_sections": [
        "5n7a8MxVbHt1",
        "6sOLdvL34MwX",
        "joMn5P279FxD",
        "j6zHFcU9rs6r",
        "390jvadvxOmn",
        "WdXIZqM0xyxC",
        "Y0f9PKKDyiRi",
        "sG4UtGi3z2tB",
        "Bxpuzv5G0KWj",
        "0_6h9hJB0vZM",
        "T6P4R76I1fyg",
        "uGUKOFoH176J",
        "YJGCHkY12bs1",
        "ASEey5xG2884",
        "SZsNlYV239zu"
      ],
      "authorship_tag": "ABX9TyNm4d08aaVWAWFULUNP1tCc",
      "include_colab_link": true
    },
    "kernelspec": {
      "name": "python3",
      "display_name": "Python 3"
    },
    "language_info": {
      "name": "python"
    }
  },
  "cells": [
    {
      "cell_type": "markdown",
      "metadata": {
        "id": "view-in-github",
        "colab_type": "text"
      },
      "source": [
        "<a href=\"https://colab.research.google.com/github/LakhiCharanMahato/PythonTraining/blob/main/Day2/LakhiCharanMahato.ipynb\" target=\"_parent\"><img src=\"https://colab.research.google.com/assets/colab-badge.svg\" alt=\"Open In Colab\"/></a>"
      ]
    },
    {
      "cell_type": "markdown",
      "source": [
        "# **Lists**"
      ],
      "metadata": {
        "id": "5n7a8MxVbHt1"
      }
    },
    {
      "cell_type": "markdown",
      "source": [
        "## *Basics*"
      ],
      "metadata": {
        "id": "JyciOqhUb2Sl"
      }
    },
    {
      "cell_type": "code",
      "source": [
        "!pip install numpy"
      ],
      "metadata": {
        "id": "WcvgOC9Jee8a",
        "outputId": "76b72b19-3396-4446-8560-80a8692621b3",
        "colab": {
          "base_uri": "https://localhost:8080/"
        }
      },
      "execution_count": null,
      "outputs": [
        {
          "output_type": "stream",
          "name": "stdout",
          "text": [
            "Requirement already satisfied: numpy in /usr/local/lib/python3.7/dist-packages (1.19.5)\n"
          ]
        }
      ]
    },
    {
      "cell_type": "code",
      "source": [
        "[1,5,7]"
      ],
      "metadata": {
        "id": "_eydfxLChtiw"
      },
      "execution_count": null,
      "outputs": []
    },
    {
      "cell_type": "code",
      "source": [
        "[1,5,6,6,7]"
      ],
      "metadata": {
        "colab": {
          "base_uri": "https://localhost:8080/"
        },
        "id": "0V2WqVnVbbnN",
        "outputId": "4d4c7e93-e6b4-4af2-d1a2-71bc411ee056"
      },
      "execution_count": null,
      "outputs": [
        {
          "output_type": "execute_result",
          "data": {
            "text/plain": [
              "[1, 5, 6, 6, 7]"
            ]
          },
          "metadata": {},
          "execution_count": 2
        }
      ]
    },
    {
      "cell_type": "code",
      "source": [
        "[\"apple\",\"mango\",\"banana\",\"pineapple\",[1,3]]"
      ],
      "metadata": {
        "colab": {
          "base_uri": "https://localhost:8080/"
        },
        "id": "6imTkHknc0e0",
        "outputId": "498c5cb8-74b2-4e81-d717-a917e8b30c14"
      },
      "execution_count": null,
      "outputs": [
        {
          "output_type": "execute_result",
          "data": {
            "text/plain": [
              "['apple', 'mango', 'banana', 'pineapple', [1, 3]]"
            ]
          },
          "metadata": {},
          "execution_count": 7
        }
      ]
    },
    {
      "cell_type": "code",
      "source": [
        "\n",
        "B=[1,4,6]\n",
        "B=[2]\n",
        "A=[B,2,B]\n",
        "\n",
        "A"
      ],
      "metadata": {
        "colab": {
          "base_uri": "https://localhost:8080/"
        },
        "id": "wZJmeTQiigFa",
        "outputId": "d2a0ea51-5eaa-4e42-f6c8-1ef6632d6f2f"
      },
      "execution_count": null,
      "outputs": [
        {
          "output_type": "execute_result",
          "data": {
            "text/plain": [
              "[[2], 2, [2]]"
            ]
          },
          "metadata": {},
          "execution_count": 12
        }
      ]
    },
    {
      "cell_type": "code",
      "source": [
        "A=[1,5,6]\n",
        "print(type(A))\n",
        "print(len(A))\n",
        "print(len(\"Abcd\"))"
      ],
      "metadata": {
        "colab": {
          "base_uri": "https://localhost:8080/"
        },
        "id": "5SlmQsPDdGSd",
        "outputId": "fc65ce45-d70e-4d4a-946e-0098cf0fc9e9"
      },
      "execution_count": null,
      "outputs": [
        {
          "output_type": "stream",
          "name": "stdout",
          "text": [
            "<class 'list'>\n",
            "3\n",
            "4\n"
          ]
        }
      ]
    },
    {
      "cell_type": "code",
      "source": [
        "[\"apple\",3,False,[1,4,5]]"
      ],
      "metadata": {
        "colab": {
          "base_uri": "https://localhost:8080/"
        },
        "id": "f1y8-Y-QcG1-",
        "outputId": "d0ebfad5-0de1-47da-b10f-1ae8774367ef"
      },
      "execution_count": null,
      "outputs": [
        {
          "output_type": "execute_result",
          "data": {
            "text/plain": [
              "['apple', 3, False, [1, 4, 5]]"
            ]
          },
          "metadata": {},
          "execution_count": 2
        }
      ]
    },
    {
      "cell_type": "markdown",
      "source": [
        "## *Access List Items*\n",
        "List items are indexed and you can access them by referring to the index number"
      ],
      "metadata": {
        "id": "Y4LhUpC2fjEH"
      }
    },
    {
      "cell_type": "code",
      "source": [
        "A=[1,5,7,22,6,3,10]\n",
        "A[0]"
      ],
      "metadata": {
        "colab": {
          "base_uri": "https://localhost:8080/"
        },
        "id": "qmbmpUa3cv0s",
        "outputId": "035d0d55-8064-40d6-c028-3d08e8afcdd1"
      },
      "execution_count": null,
      "outputs": [
        {
          "output_type": "execute_result",
          "data": {
            "text/plain": [
              "1"
            ]
          },
          "metadata": {},
          "execution_count": 16
        }
      ]
    },
    {
      "cell_type": "code",
      "source": [
        "A[2]"
      ],
      "metadata": {
        "colab": {
          "base_uri": "https://localhost:8080/"
        },
        "id": "llRWhp2WgRbr",
        "outputId": "caf85c1e-ce10-423d-c27f-36a237174458"
      },
      "execution_count": null,
      "outputs": [
        {
          "output_type": "execute_result",
          "data": {
            "text/plain": [
              "7"
            ]
          },
          "metadata": {},
          "execution_count": 17
        }
      ]
    },
    {
      "cell_type": "code",
      "source": [
        "A[-1]"
      ],
      "metadata": {
        "colab": {
          "base_uri": "https://localhost:8080/"
        },
        "id": "-t7iP2ZvgS5q",
        "outputId": "0813c2f7-f0ab-4196-b1f7-7b581b913cf7"
      },
      "execution_count": null,
      "outputs": [
        {
          "output_type": "execute_result",
          "data": {
            "text/plain": [
              "10"
            ]
          },
          "metadata": {},
          "execution_count": 18
        }
      ]
    },
    {
      "cell_type": "code",
      "source": [
        "A[-2]"
      ],
      "metadata": {
        "colab": {
          "base_uri": "https://localhost:8080/"
        },
        "id": "SV4Cz1SIgpW6",
        "outputId": "6ccbc644-b820-4801-ad54-79fe55427296"
      },
      "execution_count": null,
      "outputs": [
        {
          "output_type": "execute_result",
          "data": {
            "text/plain": [
              "3"
            ]
          },
          "metadata": {},
          "execution_count": 19
        }
      ]
    },
    {
      "cell_type": "code",
      "source": [
        "A=[1,5,7,22,6,3,10,\"a\",False]\n",
        "A[1:4]"
      ],
      "metadata": {
        "colab": {
          "base_uri": "https://localhost:8080/"
        },
        "id": "2bJ86Ptsgs3t",
        "outputId": "b94e046b-c2c7-4e53-d100-49cde359cf32"
      },
      "execution_count": null,
      "outputs": [
        {
          "output_type": "execute_result",
          "data": {
            "text/plain": [
              "[5, 7, 22]"
            ]
          },
          "metadata": {},
          "execution_count": 26
        }
      ]
    },
    {
      "cell_type": "code",
      "source": [
        "A[:]"
      ],
      "metadata": {
        "colab": {
          "base_uri": "https://localhost:8080/"
        },
        "id": "wpJjDY2xg2Xv",
        "outputId": "1df924e9-21fb-43bf-c30a-ca7e529e7ddc"
      },
      "execution_count": null,
      "outputs": [
        {
          "output_type": "execute_result",
          "data": {
            "text/plain": [
              "[1, 5, 7, 22, 6, 3, 10, 'a', False]"
            ]
          },
          "metadata": {},
          "execution_count": 27
        }
      ]
    },
    {
      "cell_type": "code",
      "source": [
        "A[4:]"
      ],
      "metadata": {
        "colab": {
          "base_uri": "https://localhost:8080/"
        },
        "id": "pafY0-NGg7A4",
        "outputId": "c0104014-0172-4b16-a505-99c607cdfe4d"
      },
      "execution_count": null,
      "outputs": [
        {
          "output_type": "execute_result",
          "data": {
            "text/plain": [
              "[6, 3, 10]"
            ]
          },
          "metadata": {},
          "execution_count": 13
        }
      ]
    },
    {
      "cell_type": "code",
      "source": [
        "A[-4:-1]"
      ],
      "metadata": {
        "colab": {
          "base_uri": "https://localhost:8080/"
        },
        "id": "rwKb9lvsg9FD",
        "outputId": "46748c26-692e-4b0d-984d-4e73f86507a7"
      },
      "execution_count": null,
      "outputs": [
        {
          "output_type": "execute_result",
          "data": {
            "text/plain": [
              "[22, 6, 3]"
            ]
          },
          "metadata": {},
          "execution_count": 25
        }
      ]
    },
    {
      "cell_type": "code",
      "source": [
        "B=[\"apple\",\"mango\",\"banana\",\"pineapple\"]\n",
        "if \"man{%s}\" in B:\n",
        "  print(\"Frooti\")\n",
        "else:\n",
        "  print(\"NA\")"
      ],
      "metadata": {
        "colab": {
          "base_uri": "https://localhost:8080/"
        },
        "id": "I4rFUWavhNke",
        "outputId": "36cb67ee-17ab-406e-b01d-8b59334904dc"
      },
      "execution_count": null,
      "outputs": [
        {
          "output_type": "stream",
          "name": "stdout",
          "text": [
            "NA\n"
          ]
        }
      ]
    },
    {
      "cell_type": "markdown",
      "source": [
        "## *Updating Lists*"
      ],
      "metadata": {
        "id": "Cu-ktI5PjXJm"
      }
    },
    {
      "cell_type": "code",
      "source": [
        "B=[\"apple\",\"mango\",\"banana\",\"pineapple\"]\n",
        "B[1]=\"woodapple\"\n",
        "B"
      ],
      "metadata": {
        "colab": {
          "base_uri": "https://localhost:8080/"
        },
        "id": "y5yGfeKxirNy",
        "outputId": "deff4ef0-d176-418d-d12d-b8003e153f23"
      },
      "execution_count": null,
      "outputs": [
        {
          "output_type": "execute_result",
          "data": {
            "text/plain": [
              "['apple', 'woodapple', 'banana', 'pineapple']"
            ]
          },
          "metadata": {},
          "execution_count": 38
        }
      ]
    },
    {
      "cell_type": "code",
      "source": [
        "fruits = [\"apple\", \"banana\", \"cherry\", \"orange\", \"kiwi\", \"mango\"]\n",
        "fruits[1:3] = [\"blackcurrant\"]\n",
        "fruits"
      ],
      "metadata": {
        "colab": {
          "base_uri": "https://localhost:8080/"
        },
        "id": "W-kKUylZj7pc",
        "outputId": "4155feb2-e976-44b2-d3ab-afa23f32e844"
      },
      "execution_count": null,
      "outputs": [
        {
          "output_type": "execute_result",
          "data": {
            "text/plain": [
              "['apple', 'blackcurrant', 'orange', 'kiwi', 'mango']"
            ]
          },
          "metadata": {},
          "execution_count": 40
        }
      ]
    },
    {
      "cell_type": "markdown",
      "source": [
        "## *Append and Extend*"
      ],
      "metadata": {
        "id": "4sgn9Ln9kz04"
      }
    },
    {
      "cell_type": "code",
      "source": [
        "B=[\"apple\",\"mango\",\"banana\",\"pineapple\"]\n",
        "\n",
        "\n",
        "\n",
        "B.append(\"woodapple\")\n",
        "B"
      ],
      "metadata": {
        "colab": {
          "base_uri": "https://localhost:8080/"
        },
        "id": "YLZYkSi4kNVf",
        "outputId": "803f738b-694b-410e-fcf1-2173c2c137d6"
      },
      "execution_count": null,
      "outputs": [
        {
          "output_type": "execute_result",
          "data": {
            "text/plain": [
              "['apple', 'mango', 'banana', 'pineapple', 'woodapple']"
            ]
          },
          "metadata": {},
          "execution_count": 41
        }
      ]
    },
    {
      "cell_type": "code",
      "source": [
        "C = [\"apple\", \"banana\", \"cherry\"]\n",
        "D = [\"mango\", \"pineapple\", \"papaya\"]\n",
        "C.extend(D)\n",
        "C"
      ],
      "metadata": {
        "colab": {
          "base_uri": "https://localhost:8080/"
        },
        "id": "EPPm3AmdlcOz",
        "outputId": "9fddbfa4-d542-46ee-be9a-6f3c48140d24"
      },
      "execution_count": null,
      "outputs": [
        {
          "output_type": "execute_result",
          "data": {
            "text/plain": [
              "['apple', 'banana', 'cherry', 'mango', 'pineapple', 'papaya']"
            ]
          },
          "metadata": {},
          "execution_count": 42
        }
      ]
    },
    {
      "cell_type": "code",
      "source": [
        "C = [\"apple\", \"banana\", \"cherry\"]\n",
        "D = [\"mango\", \"pineapple\", \"papaya\"]\n",
        "C.append(D)\n",
        "print(C)\n",
        "C[3][0]\n",
        "len(C)\n",
        "\n",
        "for i in C:\n",
        "  if type([])==type(i):\n",
        "    print(i)\n",
        "help C"
      ],
      "metadata": {
        "colab": {
          "base_uri": "https://localhost:8080/",
          "height": 130
        },
        "id": "a4BFXfgyl6Uz",
        "outputId": "33929190-81ab-4276-b0ad-9ef6a93f216d"
      },
      "execution_count": null,
      "outputs": [
        {
          "output_type": "error",
          "ename": "SyntaxError",
          "evalue": "ignored",
          "traceback": [
            "\u001b[0;36m  File \u001b[0;32m\"<ipython-input-49-ad3b8c29915b>\"\u001b[0;36m, line \u001b[0;32m11\u001b[0m\n\u001b[0;31m    help C\u001b[0m\n\u001b[0m         ^\u001b[0m\n\u001b[0;31mSyntaxError\u001b[0m\u001b[0;31m:\u001b[0m invalid syntax\n"
          ]
        }
      ]
    },
    {
      "cell_type": "code",
      "source": [
        "id(C)"
      ],
      "metadata": {
        "colab": {
          "base_uri": "https://localhost:8080/"
        },
        "id": "qKGRuADRqaoS",
        "outputId": "b11c07e3-485c-40b7-8d05-0cc76b5c5420"
      },
      "execution_count": null,
      "outputs": [
        {
          "output_type": "execute_result",
          "data": {
            "text/plain": [
              "139924043483728"
            ]
          },
          "metadata": {},
          "execution_count": 54
        }
      ]
    },
    {
      "cell_type": "markdown",
      "source": [
        "## *Insert*"
      ],
      "metadata": {
        "id": "x4egS2nRijgE"
      }
    },
    {
      "cell_type": "code",
      "source": [
        "A = [\"apple\", \"banana\", \"cherry\"]\n",
        "A.insert(1, \"orange\")\n",
        "print(A)"
      ],
      "metadata": {
        "colab": {
          "base_uri": "https://localhost:8080/"
        },
        "id": "RKVReCpyipKM",
        "outputId": "500048c8-47ea-4a9b-df76-f5b66bba6a0e"
      },
      "execution_count": null,
      "outputs": [
        {
          "output_type": "stream",
          "name": "stdout",
          "text": [
            "['apple', 'orange', 'banana', 'cherry']\n"
          ]
        }
      ]
    },
    {
      "cell_type": "markdown",
      "source": [
        "## *Deletion*"
      ],
      "metadata": {
        "id": "iPj-1cZWmjVJ"
      }
    },
    {
      "cell_type": "code",
      "source": [
        "B=[\"apple\",\"mango\",\"banana\",\"pineapple\",\"mango\"]\n",
        "B.remove(\"mango\")\n",
        "B"
      ],
      "metadata": {
        "colab": {
          "base_uri": "https://localhost:8080/"
        },
        "id": "XmRDVg6emGOc",
        "outputId": "544e3e5f-d76a-4ea3-9ea4-0a68d9a26686"
      },
      "execution_count": null,
      "outputs": [
        {
          "output_type": "execute_result",
          "data": {
            "text/plain": [
              "['apple', 'banana', 'pineapple', 'mango']"
            ]
          },
          "metadata": {},
          "execution_count": 43
        }
      ]
    },
    {
      "cell_type": "code",
      "source": [
        "B=[\"apple\",\"mango\",\"banana\",\"pineapple\"]\n",
        "B.pop(1)\n",
        "B"
      ],
      "metadata": {
        "colab": {
          "base_uri": "https://localhost:8080/"
        },
        "id": "Rma_zR3EnDby",
        "outputId": "191bc0e7-ca2a-4d5d-fa78-dcfd885941b5"
      },
      "execution_count": null,
      "outputs": [
        {
          "output_type": "execute_result",
          "data": {
            "text/plain": [
              "['apple', 'banana', 'pineapple']"
            ]
          },
          "metadata": {},
          "execution_count": 55
        }
      ]
    },
    {
      "cell_type": "code",
      "source": [
        "B=[\"apple\",\"mango\",\"banana\",\"pineapple\"]\n",
        "del B[0]\n",
        "B"
      ],
      "metadata": {
        "colab": {
          "base_uri": "https://localhost:8080/"
        },
        "id": "jPSw0PnGnICF",
        "outputId": "241c1717-7cf3-418a-a045-e06765660f35"
      },
      "execution_count": null,
      "outputs": [
        {
          "output_type": "execute_result",
          "data": {
            "text/plain": [
              "['mango', 'banana', 'pineapple']"
            ]
          },
          "metadata": {},
          "execution_count": 56
        }
      ]
    },
    {
      "cell_type": "markdown",
      "source": [
        "## *Iterating of Lists*"
      ],
      "metadata": {
        "id": "Gr5MZJR7oljN"
      }
    },
    {
      "cell_type": "code",
      "source": [
        "names=[\"Ram\",\"Shyam\",\"Radha\",\"Sita\",\"Pushpa\"]\n",
        "marks=[100,99,95,96,90]"
      ],
      "metadata": {
        "id": "-VN2QrarnpNP"
      },
      "execution_count": null,
      "outputs": []
    },
    {
      "cell_type": "code",
      "source": [
        "for i in names:\n",
        "  print(i)"
      ],
      "metadata": {
        "colab": {
          "base_uri": "https://localhost:8080/"
        },
        "id": "n9WzhATapjll",
        "outputId": "846c0232-95dd-470c-e2d4-38b045ea83d4"
      },
      "execution_count": null,
      "outputs": [
        {
          "output_type": "stream",
          "name": "stdout",
          "text": [
            "Ram\n",
            "Shyam\n",
            "Radha\n",
            "Sita\n",
            "Pushpa\n"
          ]
        }
      ]
    },
    {
      "cell_type": "code",
      "source": [
        "list(range(0,5))"
      ],
      "metadata": {
        "colab": {
          "base_uri": "https://localhost:8080/"
        },
        "id": "QTenOeiprn6j",
        "outputId": "4d90c9e1-714e-424f-def0-692d053abbad"
      },
      "execution_count": null,
      "outputs": [
        {
          "output_type": "execute_result",
          "data": {
            "text/plain": [
              "[0, 1, 2, 3, 4]"
            ]
          },
          "metadata": {},
          "execution_count": 62
        }
      ]
    },
    {
      "cell_type": "code",
      "source": [
        "for i in range(len(names)):\n",
        "  print(i,names[i])"
      ],
      "metadata": {
        "colab": {
          "base_uri": "https://localhost:8080/"
        },
        "id": "hqX9tGDUpoPE",
        "outputId": "109844f8-62f8-4704-e928-f1f4a76bcd36"
      },
      "execution_count": null,
      "outputs": [
        {
          "output_type": "stream",
          "name": "stdout",
          "text": [
            "0 Ram\n",
            "1 Shyam\n",
            "2 Radha\n",
            "3 Sita\n",
            "4 Pushpa\n"
          ]
        }
      ]
    },
    {
      "cell_type": "code",
      "source": [
        "names=[\"Ram\",\"Shyam\",\"Radha\",\"Sita\",\"Pushpa\"]\n",
        "marks=[100,99,95,96,90]"
      ],
      "metadata": {
        "id": "NBY64KZvsMry"
      },
      "execution_count": null,
      "outputs": []
    },
    {
      "cell_type": "code",
      "source": [
        "for x,y in zip(names,marks):\n",
        "  print(x,y)"
      ],
      "metadata": {
        "colab": {
          "base_uri": "https://localhost:8080/"
        },
        "id": "ikqxYgQ1p0jp",
        "outputId": "8adabec1-3554-4d64-ff26-9771c298bfb8"
      },
      "execution_count": null,
      "outputs": [
        {
          "output_type": "stream",
          "name": "stdout",
          "text": [
            "Ram 100\n",
            "Shyam 99\n",
            "Radha 95\n",
            "Sita 96\n",
            "Pushpa 90\n"
          ]
        }
      ]
    },
    {
      "cell_type": "markdown",
      "source": [
        "## *Sorting Lists*"
      ],
      "metadata": {
        "id": "3ywh38JqrpH-"
      }
    },
    {
      "cell_type": "code",
      "source": [
        "A = [100, 50, 65, 82, 23]\n",
        "A.sort()\n",
        "A"
      ],
      "metadata": {
        "colab": {
          "base_uri": "https://localhost:8080/"
        },
        "id": "R4bcf_h3q5Co",
        "outputId": "eac0b512-c079-4262-e31d-9566572fbc97"
      },
      "execution_count": null,
      "outputs": [
        {
          "output_type": "execute_result",
          "data": {
            "text/plain": [
              "[23, 50, 65, 82, 100]"
            ]
          },
          "metadata": {},
          "execution_count": 67
        }
      ]
    },
    {
      "cell_type": "code",
      "source": [
        "A = [100, 50, 65, 82, 23]\n",
        "A.sort(reverse=True)\n",
        "A"
      ],
      "metadata": {
        "colab": {
          "base_uri": "https://localhost:8080/"
        },
        "id": "XFRetNBrr8L5",
        "outputId": "69c0db33-f1a0-46d4-9cc6-3e0cae6445cc"
      },
      "execution_count": null,
      "outputs": [
        {
          "output_type": "execute_result",
          "data": {
            "text/plain": [
              "[100, 82, 65, 50, 23]"
            ]
          },
          "metadata": {},
          "execution_count": 68
        }
      ]
    },
    {
      "cell_type": "code",
      "source": [
        "A = [100, 50, 65, 82, 23]\n",
        "A.reverse()\n",
        "A"
      ],
      "metadata": {
        "colab": {
          "base_uri": "https://localhost:8080/"
        },
        "id": "33lyIPZOsED9",
        "outputId": "bc5ff60c-9a1f-4aa5-8717-c611b0898115"
      },
      "execution_count": null,
      "outputs": [
        {
          "output_type": "execute_result",
          "data": {
            "text/plain": [
              "[23, 82, 65, 50, 100]"
            ]
          },
          "metadata": {},
          "execution_count": 69
        }
      ]
    },
    {
      "cell_type": "code",
      "source": [
        "a=[[1,2],[1,3]]"
      ],
      "metadata": {
        "id": "AfapbfpNsx-S"
      },
      "execution_count": null,
      "outputs": []
    },
    {
      "cell_type": "markdown",
      "source": [
        "## **Question**"
      ],
      "metadata": {
        "id": "Nu9mZtEqe97E"
      }
    },
    {
      "cell_type": "code",
      "source": [
        "A=[1,5,6,10,19,21]\n",
        "\n",
        "B=A\n",
        "##Pass by refernce\n",
        "A[1]=2\n",
        "\n",
        "print(A[1],B[1])"
      ],
      "metadata": {
        "id": "IEK9pfT5fV3h",
        "colab": {
          "base_uri": "https://localhost:8080/"
        },
        "outputId": "b2dc0ef2-b791-4e41-c60a-54786fb676ce"
      },
      "execution_count": null,
      "outputs": [
        {
          "output_type": "stream",
          "name": "stdout",
          "text": [
            "2 2\n"
          ]
        }
      ]
    },
    {
      "cell_type": "markdown",
      "source": [
        "## *Copy*"
      ],
      "metadata": {
        "id": "0Xanc33Nsrb8"
      }
    },
    {
      "cell_type": "code",
      "source": [
        "A = [100, 50, 65, 82, 23]\n",
        "B=A\n",
        "A[1]=51\n",
        "print(A)\n",
        "print(B)"
      ],
      "metadata": {
        "colab": {
          "base_uri": "https://localhost:8080/"
        },
        "id": "M2rLhgDAs7hC",
        "outputId": "fe237748-8ad0-4ae8-8aa5-0d352f50cd44"
      },
      "execution_count": null,
      "outputs": [
        {
          "output_type": "stream",
          "name": "stdout",
          "text": [
            "[100, 51, 65, 82, 23]\n",
            "[100, 51, 65, 82, 23]\n"
          ]
        }
      ]
    },
    {
      "cell_type": "code",
      "source": [
        "A = [100, 50, 65, 82, 23]\n",
        "B=list(A)\n",
        "A[1]=51\n",
        "print(A)\n",
        "print(B)"
      ],
      "metadata": {
        "colab": {
          "base_uri": "https://localhost:8080/"
        },
        "id": "ZiTZdV_lsXUX",
        "outputId": "ee55abd6-4ba1-4a63-b075-ba0425eaa18c"
      },
      "execution_count": null,
      "outputs": [
        {
          "output_type": "stream",
          "name": "stdout",
          "text": [
            "[100, 51, 65, 82, 23]\n",
            "[100, 50, 65, 82, 23]\n"
          ]
        }
      ]
    },
    {
      "cell_type": "markdown",
      "source": [
        "## *Occurrence of element*"
      ],
      "metadata": {
        "id": "mZxkp1fQg4cP"
      }
    },
    {
      "cell_type": "code",
      "source": [
        "A=[1,2,1,6,1,1,8,6,5]\n",
        "A.count(6)"
      ],
      "metadata": {
        "id": "dhcyOSE7twLI",
        "colab": {
          "base_uri": "https://localhost:8080/"
        },
        "outputId": "5101b27d-ede1-4af7-ae24-3cc0093b4a00"
      },
      "execution_count": null,
      "outputs": [
        {
          "output_type": "execute_result",
          "data": {
            "text/plain": [
              "2"
            ]
          },
          "metadata": {},
          "execution_count": 74
        }
      ]
    },
    {
      "cell_type": "markdown",
      "source": [
        "## **Question**"
      ],
      "metadata": {
        "id": "tJXgi3u0f3ID"
      }
    },
    {
      "cell_type": "markdown",
      "source": [
        "Square each term of a list."
      ],
      "metadata": {
        "id": "SJKLHVJIgBiV"
      }
    },
    {
      "cell_type": "code",
      "source": [
        "a = [1,2,4,9]\n",
        "\n",
        "for i in range(len(a)):\n",
        "    a[i]**=2\n",
        "print(a)"
      ],
      "metadata": {
        "colab": {
          "base_uri": "https://localhost:8080/"
        },
        "id": "UaQy18hPx9GA",
        "outputId": "6358c3ea-813e-4f0e-a5b5-e8df7f7a9c3e"
      },
      "execution_count": null,
      "outputs": [
        {
          "output_type": "stream",
          "name": "stdout",
          "text": [
            "[1, 4, 16, 81]\n"
          ]
        }
      ]
    },
    {
      "cell_type": "code",
      "source": [
        "a=[1,2,4,9]\n",
        "##[1,4,16,81]"
      ],
      "metadata": {
        "id": "1XLQQLadf2JT"
      },
      "execution_count": null,
      "outputs": []
    },
    {
      "cell_type": "markdown",
      "source": [
        "## *List Comprehension*"
      ],
      "metadata": {
        "id": "nNO2X5j7k2qu"
      }
    },
    {
      "cell_type": "code",
      "source": [
        "%%time\n",
        "B=list(range(100000))\n",
        "\n",
        "\n",
        "\n",
        "C=[i*5 for i in B]\n",
        "C"
      ],
      "metadata": {
        "colab": {
          "base_uri": "https://localhost:8080/"
        },
        "id": "y8TKo5Pph0dQ",
        "outputId": "f74d6a15-5fac-4255-b89b-3536fd73224c"
      },
      "execution_count": null,
      "outputs": [
        {
          "output_type": "stream",
          "name": "stdout",
          "text": [
            "CPU times: user 15.5 ms, sys: 6.26 ms, total: 21.8 ms\n",
            "Wall time: 22.8 ms\n"
          ]
        }
      ]
    },
    {
      "cell_type": "code",
      "source": [
        "%%time\n",
        "a = list(range(10000))\n",
        "\n",
        "b = map(lambda n: n ** 2, a)\n",
        "d = list(b)\n",
        "\n",
        "print(d)"
      ],
      "metadata": {
        "colab": {
          "base_uri": "https://localhost:8080/"
        },
        "id": "ur_R4tk4y6V8",
        "outputId": "0b087770-70ec-4e81-9a28-9a419177e7ea"
      },
      "execution_count": null,
      "outputs": [
        {
          "output_type": "stream",
          "name": "stdout",
          "text": [
            "[0, 1, 4, 9, 16, 25, 36, 49, 64, 81, 100, 121, 144, 169, 196, 225, 256, 289, 324, 361, 400, 441, 484, 529, 576, 625, 676, 729, 784, 841, 900, 961, 1024, 1089, 1156, 1225, 1296, 1369, 1444, 1521, 1600, 1681, 1764, 1849, 1936, 2025, 2116, 2209, 2304, 2401, 2500, 2601, 2704, 2809, 2916, 3025, 3136, 3249, 3364, 3481, 3600, 3721, 3844, 3969, 4096, 4225, 4356, 4489, 4624, 4761, 4900, 5041, 5184, 5329, 5476, 5625, 5776, 5929, 6084, 6241, 6400, 6561, 6724, 6889, 7056, 7225, 7396, 7569, 7744, 7921, 8100, 8281, 8464, 8649, 8836, 9025, 9216, 9409, 9604, 9801, 10000, 10201, 10404, 10609, 10816, 11025, 11236, 11449, 11664, 11881, 12100, 12321, 12544, 12769, 12996, 13225, 13456, 13689, 13924, 14161, 14400, 14641, 14884, 15129, 15376, 15625, 15876, 16129, 16384, 16641, 16900, 17161, 17424, 17689, 17956, 18225, 18496, 18769, 19044, 19321, 19600, 19881, 20164, 20449, 20736, 21025, 21316, 21609, 21904, 22201, 22500, 22801, 23104, 23409, 23716, 24025, 24336, 24649, 24964, 25281, 25600, 25921, 26244, 26569, 26896, 27225, 27556, 27889, 28224, 28561, 28900, 29241, 29584, 29929, 30276, 30625, 30976, 31329, 31684, 32041, 32400, 32761, 33124, 33489, 33856, 34225, 34596, 34969, 35344, 35721, 36100, 36481, 36864, 37249, 37636, 38025, 38416, 38809, 39204, 39601, 40000, 40401, 40804, 41209, 41616, 42025, 42436, 42849, 43264, 43681, 44100, 44521, 44944, 45369, 45796, 46225, 46656, 47089, 47524, 47961, 48400, 48841, 49284, 49729, 50176, 50625, 51076, 51529, 51984, 52441, 52900, 53361, 53824, 54289, 54756, 55225, 55696, 56169, 56644, 57121, 57600, 58081, 58564, 59049, 59536, 60025, 60516, 61009, 61504, 62001, 62500, 63001, 63504, 64009, 64516, 65025, 65536, 66049, 66564, 67081, 67600, 68121, 68644, 69169, 69696, 70225, 70756, 71289, 71824, 72361, 72900, 73441, 73984, 74529, 75076, 75625, 76176, 76729, 77284, 77841, 78400, 78961, 79524, 80089, 80656, 81225, 81796, 82369, 82944, 83521, 84100, 84681, 85264, 85849, 86436, 87025, 87616, 88209, 88804, 89401, 90000, 90601, 91204, 91809, 92416, 93025, 93636, 94249, 94864, 95481, 96100, 96721, 97344, 97969, 98596, 99225, 99856, 100489, 101124, 101761, 102400, 103041, 103684, 104329, 104976, 105625, 106276, 106929, 107584, 108241, 108900, 109561, 110224, 110889, 111556, 112225, 112896, 113569, 114244, 114921, 115600, 116281, 116964, 117649, 118336, 119025, 119716, 120409, 121104, 121801, 122500, 123201, 123904, 124609, 125316, 126025, 126736, 127449, 128164, 128881, 129600, 130321, 131044, 131769, 132496, 133225, 133956, 134689, 135424, 136161, 136900, 137641, 138384, 139129, 139876, 140625, 141376, 142129, 142884, 143641, 144400, 145161, 145924, 146689, 147456, 148225, 148996, 149769, 150544, 151321, 152100, 152881, 153664, 154449, 155236, 156025, 156816, 157609, 158404, 159201, 160000, 160801, 161604, 162409, 163216, 164025, 164836, 165649, 166464, 167281, 168100, 168921, 169744, 170569, 171396, 172225, 173056, 173889, 174724, 175561, 176400, 177241, 178084, 178929, 179776, 180625, 181476, 182329, 183184, 184041, 184900, 185761, 186624, 187489, 188356, 189225, 190096, 190969, 191844, 192721, 193600, 194481, 195364, 196249, 197136, 198025, 198916, 199809, 200704, 201601, 202500, 203401, 204304, 205209, 206116, 207025, 207936, 208849, 209764, 210681, 211600, 212521, 213444, 214369, 215296, 216225, 217156, 218089, 219024, 219961, 220900, 221841, 222784, 223729, 224676, 225625, 226576, 227529, 228484, 229441, 230400, 231361, 232324, 233289, 234256, 235225, 236196, 237169, 238144, 239121, 240100, 241081, 242064, 243049, 244036, 245025, 246016, 247009, 248004, 249001, 250000, 251001, 252004, 253009, 254016, 255025, 256036, 257049, 258064, 259081, 260100, 261121, 262144, 263169, 264196, 265225, 266256, 267289, 268324, 269361, 270400, 271441, 272484, 273529, 274576, 275625, 276676, 277729, 278784, 279841, 280900, 281961, 283024, 284089, 285156, 286225, 287296, 288369, 289444, 290521, 291600, 292681, 293764, 294849, 295936, 297025, 298116, 299209, 300304, 301401, 302500, 303601, 304704, 305809, 306916, 308025, 309136, 310249, 311364, 312481, 313600, 314721, 315844, 316969, 318096, 319225, 320356, 321489, 322624, 323761, 324900, 326041, 327184, 328329, 329476, 330625, 331776, 332929, 334084, 335241, 336400, 337561, 338724, 339889, 341056, 342225, 343396, 344569, 345744, 346921, 348100, 349281, 350464, 351649, 352836, 354025, 355216, 356409, 357604, 358801, 360000, 361201, 362404, 363609, 364816, 366025, 367236, 368449, 369664, 370881, 372100, 373321, 374544, 375769, 376996, 378225, 379456, 380689, 381924, 383161, 384400, 385641, 386884, 388129, 389376, 390625, 391876, 393129, 394384, 395641, 396900, 398161, 399424, 400689, 401956, 403225, 404496, 405769, 407044, 408321, 409600, 410881, 412164, 413449, 414736, 416025, 417316, 418609, 419904, 421201, 422500, 423801, 425104, 426409, 427716, 429025, 430336, 431649, 432964, 434281, 435600, 436921, 438244, 439569, 440896, 442225, 443556, 444889, 446224, 447561, 448900, 450241, 451584, 452929, 454276, 455625, 456976, 458329, 459684, 461041, 462400, 463761, 465124, 466489, 467856, 469225, 470596, 471969, 473344, 474721, 476100, 477481, 478864, 480249, 481636, 483025, 484416, 485809, 487204, 488601, 490000, 491401, 492804, 494209, 495616, 497025, 498436, 499849, 501264, 502681, 504100, 505521, 506944, 508369, 509796, 511225, 512656, 514089, 515524, 516961, 518400, 519841, 521284, 522729, 524176, 525625, 527076, 528529, 529984, 531441, 532900, 534361, 535824, 537289, 538756, 540225, 541696, 543169, 544644, 546121, 547600, 549081, 550564, 552049, 553536, 555025, 556516, 558009, 559504, 561001, 562500, 564001, 565504, 567009, 568516, 570025, 571536, 573049, 574564, 576081, 577600, 579121, 580644, 582169, 583696, 585225, 586756, 588289, 589824, 591361, 592900, 594441, 595984, 597529, 599076, 600625, 602176, 603729, 605284, 606841, 608400, 609961, 611524, 613089, 614656, 616225, 617796, 619369, 620944, 622521, 624100, 625681, 627264, 628849, 630436, 632025, 633616, 635209, 636804, 638401, 640000, 641601, 643204, 644809, 646416, 648025, 649636, 651249, 652864, 654481, 656100, 657721, 659344, 660969, 662596, 664225, 665856, 667489, 669124, 670761, 672400, 674041, 675684, 677329, 678976, 680625, 682276, 683929, 685584, 687241, 688900, 690561, 692224, 693889, 695556, 697225, 698896, 700569, 702244, 703921, 705600, 707281, 708964, 710649, 712336, 714025, 715716, 717409, 719104, 720801, 722500, 724201, 725904, 727609, 729316, 731025, 732736, 734449, 736164, 737881, 739600, 741321, 743044, 744769, 746496, 748225, 749956, 751689, 753424, 755161, 756900, 758641, 760384, 762129, 763876, 765625, 767376, 769129, 770884, 772641, 774400, 776161, 777924, 779689, 781456, 783225, 784996, 786769, 788544, 790321, 792100, 793881, 795664, 797449, 799236, 801025, 802816, 804609, 806404, 808201, 810000, 811801, 813604, 815409, 817216, 819025, 820836, 822649, 824464, 826281, 828100, 829921, 831744, 833569, 835396, 837225, 839056, 840889, 842724, 844561, 846400, 848241, 850084, 851929, 853776, 855625, 857476, 859329, 861184, 863041, 864900, 866761, 868624, 870489, 872356, 874225, 876096, 877969, 879844, 881721, 883600, 885481, 887364, 889249, 891136, 893025, 894916, 896809, 898704, 900601, 902500, 904401, 906304, 908209, 910116, 912025, 913936, 915849, 917764, 919681, 921600, 923521, 925444, 927369, 929296, 931225, 933156, 935089, 937024, 938961, 940900, 942841, 944784, 946729, 948676, 950625, 952576, 954529, 956484, 958441, 960400, 962361, 964324, 966289, 968256, 970225, 972196, 974169, 976144, 978121, 980100, 982081, 984064, 986049, 988036, 990025, 992016, 994009, 996004, 998001, 1000000, 1002001, 1004004, 1006009, 1008016, 1010025, 1012036, 1014049, 1016064, 1018081, 1020100, 1022121, 1024144, 1026169, 1028196, 1030225, 1032256, 1034289, 1036324, 1038361, 1040400, 1042441, 1044484, 1046529, 1048576, 1050625, 1052676, 1054729, 1056784, 1058841, 1060900, 1062961, 1065024, 1067089, 1069156, 1071225, 1073296, 1075369, 1077444, 1079521, 1081600, 1083681, 1085764, 1087849, 1089936, 1092025, 1094116, 1096209, 1098304, 1100401, 1102500, 1104601, 1106704, 1108809, 1110916, 1113025, 1115136, 1117249, 1119364, 1121481, 1123600, 1125721, 1127844, 1129969, 1132096, 1134225, 1136356, 1138489, 1140624, 1142761, 1144900, 1147041, 1149184, 1151329, 1153476, 1155625, 1157776, 1159929, 1162084, 1164241, 1166400, 1168561, 1170724, 1172889, 1175056, 1177225, 1179396, 1181569, 1183744, 1185921, 1188100, 1190281, 1192464, 1194649, 1196836, 1199025, 1201216, 1203409, 1205604, 1207801, 1210000, 1212201, 1214404, 1216609, 1218816, 1221025, 1223236, 1225449, 1227664, 1229881, 1232100, 1234321, 1236544, 1238769, 1240996, 1243225, 1245456, 1247689, 1249924, 1252161, 1254400, 1256641, 1258884, 1261129, 1263376, 1265625, 1267876, 1270129, 1272384, 1274641, 1276900, 1279161, 1281424, 1283689, 1285956, 1288225, 1290496, 1292769, 1295044, 1297321, 1299600, 1301881, 1304164, 1306449, 1308736, 1311025, 1313316, 1315609, 1317904, 1320201, 1322500, 1324801, 1327104, 1329409, 1331716, 1334025, 1336336, 1338649, 1340964, 1343281, 1345600, 1347921, 1350244, 1352569, 1354896, 1357225, 1359556, 1361889, 1364224, 1366561, 1368900, 1371241, 1373584, 1375929, 1378276, 1380625, 1382976, 1385329, 1387684, 1390041, 1392400, 1394761, 1397124, 1399489, 1401856, 1404225, 1406596, 1408969, 1411344, 1413721, 1416100, 1418481, 1420864, 1423249, 1425636, 1428025, 1430416, 1432809, 1435204, 1437601, 1440000, 1442401, 1444804, 1447209, 1449616, 1452025, 1454436, 1456849, 1459264, 1461681, 1464100, 1466521, 1468944, 1471369, 1473796, 1476225, 1478656, 1481089, 1483524, 1485961, 1488400, 1490841, 1493284, 1495729, 1498176, 1500625, 1503076, 1505529, 1507984, 1510441, 1512900, 1515361, 1517824, 1520289, 1522756, 1525225, 1527696, 1530169, 1532644, 1535121, 1537600, 1540081, 1542564, 1545049, 1547536, 1550025, 1552516, 1555009, 1557504, 1560001, 1562500, 1565001, 1567504, 1570009, 1572516, 1575025, 1577536, 1580049, 1582564, 1585081, 1587600, 1590121, 1592644, 1595169, 1597696, 1600225, 1602756, 1605289, 1607824, 1610361, 1612900, 1615441, 1617984, 1620529, 1623076, 1625625, 1628176, 1630729, 1633284, 1635841, 1638400, 1640961, 1643524, 1646089, 1648656, 1651225, 1653796, 1656369, 1658944, 1661521, 1664100, 1666681, 1669264, 1671849, 1674436, 1677025, 1679616, 1682209, 1684804, 1687401, 1690000, 1692601, 1695204, 1697809, 1700416, 1703025, 1705636, 1708249, 1710864, 1713481, 1716100, 1718721, 1721344, 1723969, 1726596, 1729225, 1731856, 1734489, 1737124, 1739761, 1742400, 1745041, 1747684, 1750329, 1752976, 1755625, 1758276, 1760929, 1763584, 1766241, 1768900, 1771561, 1774224, 1776889, 1779556, 1782225, 1784896, 1787569, 1790244, 1792921, 1795600, 1798281, 1800964, 1803649, 1806336, 1809025, 1811716, 1814409, 1817104, 1819801, 1822500, 1825201, 1827904, 1830609, 1833316, 1836025, 1838736, 1841449, 1844164, 1846881, 1849600, 1852321, 1855044, 1857769, 1860496, 1863225, 1865956, 1868689, 1871424, 1874161, 1876900, 1879641, 1882384, 1885129, 1887876, 1890625, 1893376, 1896129, 1898884, 1901641, 1904400, 1907161, 1909924, 1912689, 1915456, 1918225, 1920996, 1923769, 1926544, 1929321, 1932100, 1934881, 1937664, 1940449, 1943236, 1946025, 1948816, 1951609, 1954404, 1957201, 1960000, 1962801, 1965604, 1968409, 1971216, 1974025, 1976836, 1979649, 1982464, 1985281, 1988100, 1990921, 1993744, 1996569, 1999396, 2002225, 2005056, 2007889, 2010724, 2013561, 2016400, 2019241, 2022084, 2024929, 2027776, 2030625, 2033476, 2036329, 2039184, 2042041, 2044900, 2047761, 2050624, 2053489, 2056356, 2059225, 2062096, 2064969, 2067844, 2070721, 2073600, 2076481, 2079364, 2082249, 2085136, 2088025, 2090916, 2093809, 2096704, 2099601, 2102500, 2105401, 2108304, 2111209, 2114116, 2117025, 2119936, 2122849, 2125764, 2128681, 2131600, 2134521, 2137444, 2140369, 2143296, 2146225, 2149156, 2152089, 2155024, 2157961, 2160900, 2163841, 2166784, 2169729, 2172676, 2175625, 2178576, 2181529, 2184484, 2187441, 2190400, 2193361, 2196324, 2199289, 2202256, 2205225, 2208196, 2211169, 2214144, 2217121, 2220100, 2223081, 2226064, 2229049, 2232036, 2235025, 2238016, 2241009, 2244004, 2247001, 2250000, 2253001, 2256004, 2259009, 2262016, 2265025, 2268036, 2271049, 2274064, 2277081, 2280100, 2283121, 2286144, 2289169, 2292196, 2295225, 2298256, 2301289, 2304324, 2307361, 2310400, 2313441, 2316484, 2319529, 2322576, 2325625, 2328676, 2331729, 2334784, 2337841, 2340900, 2343961, 2347024, 2350089, 2353156, 2356225, 2359296, 2362369, 2365444, 2368521, 2371600, 2374681, 2377764, 2380849, 2383936, 2387025, 2390116, 2393209, 2396304, 2399401, 2402500, 2405601, 2408704, 2411809, 2414916, 2418025, 2421136, 2424249, 2427364, 2430481, 2433600, 2436721, 2439844, 2442969, 2446096, 2449225, 2452356, 2455489, 2458624, 2461761, 2464900, 2468041, 2471184, 2474329, 2477476, 2480625, 2483776, 2486929, 2490084, 2493241, 2496400, 2499561, 2502724, 2505889, 2509056, 2512225, 2515396, 2518569, 2521744, 2524921, 2528100, 2531281, 2534464, 2537649, 2540836, 2544025, 2547216, 2550409, 2553604, 2556801, 2560000, 2563201, 2566404, 2569609, 2572816, 2576025, 2579236, 2582449, 2585664, 2588881, 2592100, 2595321, 2598544, 2601769, 2604996, 2608225, 2611456, 2614689, 2617924, 2621161, 2624400, 2627641, 2630884, 2634129, 2637376, 2640625, 2643876, 2647129, 2650384, 2653641, 2656900, 2660161, 2663424, 2666689, 2669956, 2673225, 2676496, 2679769, 2683044, 2686321, 2689600, 2692881, 2696164, 2699449, 2702736, 2706025, 2709316, 2712609, 2715904, 2719201, 2722500, 2725801, 2729104, 2732409, 2735716, 2739025, 2742336, 2745649, 2748964, 2752281, 2755600, 2758921, 2762244, 2765569, 2768896, 2772225, 2775556, 2778889, 2782224, 2785561, 2788900, 2792241, 2795584, 2798929, 2802276, 2805625, 2808976, 2812329, 2815684, 2819041, 2822400, 2825761, 2829124, 2832489, 2835856, 2839225, 2842596, 2845969, 2849344, 2852721, 2856100, 2859481, 2862864, 2866249, 2869636, 2873025, 2876416, 2879809, 2883204, 2886601, 2890000, 2893401, 2896804, 2900209, 2903616, 2907025, 2910436, 2913849, 2917264, 2920681, 2924100, 2927521, 2930944, 2934369, 2937796, 2941225, 2944656, 2948089, 2951524, 2954961, 2958400, 2961841, 2965284, 2968729, 2972176, 2975625, 2979076, 2982529, 2985984, 2989441, 2992900, 2996361, 2999824, 3003289, 3006756, 3010225, 3013696, 3017169, 3020644, 3024121, 3027600, 3031081, 3034564, 3038049, 3041536, 3045025, 3048516, 3052009, 3055504, 3059001, 3062500, 3066001, 3069504, 3073009, 3076516, 3080025, 3083536, 3087049, 3090564, 3094081, 3097600, 3101121, 3104644, 3108169, 3111696, 3115225, 3118756, 3122289, 3125824, 3129361, 3132900, 3136441, 3139984, 3143529, 3147076, 3150625, 3154176, 3157729, 3161284, 3164841, 3168400, 3171961, 3175524, 3179089, 3182656, 3186225, 3189796, 3193369, 3196944, 3200521, 3204100, 3207681, 3211264, 3214849, 3218436, 3222025, 3225616, 3229209, 3232804, 3236401, 3240000, 3243601, 3247204, 3250809, 3254416, 3258025, 3261636, 3265249, 3268864, 3272481, 3276100, 3279721, 3283344, 3286969, 3290596, 3294225, 3297856, 3301489, 3305124, 3308761, 3312400, 3316041, 3319684, 3323329, 3326976, 3330625, 3334276, 3337929, 3341584, 3345241, 3348900, 3352561, 3356224, 3359889, 3363556, 3367225, 3370896, 3374569, 3378244, 3381921, 3385600, 3389281, 3392964, 3396649, 3400336, 3404025, 3407716, 3411409, 3415104, 3418801, 3422500, 3426201, 3429904, 3433609, 3437316, 3441025, 3444736, 3448449, 3452164, 3455881, 3459600, 3463321, 3467044, 3470769, 3474496, 3478225, 3481956, 3485689, 3489424, 3493161, 3496900, 3500641, 3504384, 3508129, 3511876, 3515625, 3519376, 3523129, 3526884, 3530641, 3534400, 3538161, 3541924, 3545689, 3549456, 3553225, 3556996, 3560769, 3564544, 3568321, 3572100, 3575881, 3579664, 3583449, 3587236, 3591025, 3594816, 3598609, 3602404, 3606201, 3610000, 3613801, 3617604, 3621409, 3625216, 3629025, 3632836, 3636649, 3640464, 3644281, 3648100, 3651921, 3655744, 3659569, 3663396, 3667225, 3671056, 3674889, 3678724, 3682561, 3686400, 3690241, 3694084, 3697929, 3701776, 3705625, 3709476, 3713329, 3717184, 3721041, 3724900, 3728761, 3732624, 3736489, 3740356, 3744225, 3748096, 3751969, 3755844, 3759721, 3763600, 3767481, 3771364, 3775249, 3779136, 3783025, 3786916, 3790809, 3794704, 3798601, 3802500, 3806401, 3810304, 3814209, 3818116, 3822025, 3825936, 3829849, 3833764, 3837681, 3841600, 3845521, 3849444, 3853369, 3857296, 3861225, 3865156, 3869089, 3873024, 3876961, 3880900, 3884841, 3888784, 3892729, 3896676, 3900625, 3904576, 3908529, 3912484, 3916441, 3920400, 3924361, 3928324, 3932289, 3936256, 3940225, 3944196, 3948169, 3952144, 3956121, 3960100, 3964081, 3968064, 3972049, 3976036, 3980025, 3984016, 3988009, 3992004, 3996001, 4000000, 4004001, 4008004, 4012009, 4016016, 4020025, 4024036, 4028049, 4032064, 4036081, 4040100, 4044121, 4048144, 4052169, 4056196, 4060225, 4064256, 4068289, 4072324, 4076361, 4080400, 4084441, 4088484, 4092529, 4096576, 4100625, 4104676, 4108729, 4112784, 4116841, 4120900, 4124961, 4129024, 4133089, 4137156, 4141225, 4145296, 4149369, 4153444, 4157521, 4161600, 4165681, 4169764, 4173849, 4177936, 4182025, 4186116, 4190209, 4194304, 4198401, 4202500, 4206601, 4210704, 4214809, 4218916, 4223025, 4227136, 4231249, 4235364, 4239481, 4243600, 4247721, 4251844, 4255969, 4260096, 4264225, 4268356, 4272489, 4276624, 4280761, 4284900, 4289041, 4293184, 4297329, 4301476, 4305625, 4309776, 4313929, 4318084, 4322241, 4326400, 4330561, 4334724, 4338889, 4343056, 4347225, 4351396, 4355569, 4359744, 4363921, 4368100, 4372281, 4376464, 4380649, 4384836, 4389025, 4393216, 4397409, 4401604, 4405801, 4410000, 4414201, 4418404, 4422609, 4426816, 4431025, 4435236, 4439449, 4443664, 4447881, 4452100, 4456321, 4460544, 4464769, 4468996, 4473225, 4477456, 4481689, 4485924, 4490161, 4494400, 4498641, 4502884, 4507129, 4511376, 4515625, 4519876, 4524129, 4528384, 4532641, 4536900, 4541161, 4545424, 4549689, 4553956, 4558225, 4562496, 4566769, 4571044, 4575321, 4579600, 4583881, 4588164, 4592449, 4596736, 4601025, 4605316, 4609609, 4613904, 4618201, 4622500, 4626801, 4631104, 4635409, 4639716, 4644025, 4648336, 4652649, 4656964, 4661281, 4665600, 4669921, 4674244, 4678569, 4682896, 4687225, 4691556, 4695889, 4700224, 4704561, 4708900, 4713241, 4717584, 4721929, 4726276, 4730625, 4734976, 4739329, 4743684, 4748041, 4752400, 4756761, 4761124, 4765489, 4769856, 4774225, 4778596, 4782969, 4787344, 4791721, 4796100, 4800481, 4804864, 4809249, 4813636, 4818025, 4822416, 4826809, 4831204, 4835601, 4840000, 4844401, 4848804, 4853209, 4857616, 4862025, 4866436, 4870849, 4875264, 4879681, 4884100, 4888521, 4892944, 4897369, 4901796, 4906225, 4910656, 4915089, 4919524, 4923961, 4928400, 4932841, 4937284, 4941729, 4946176, 4950625, 4955076, 4959529, 4963984, 4968441, 4972900, 4977361, 4981824, 4986289, 4990756, 4995225, 4999696, 5004169, 5008644, 5013121, 5017600, 5022081, 5026564, 5031049, 5035536, 5040025, 5044516, 5049009, 5053504, 5058001, 5062500, 5067001, 5071504, 5076009, 5080516, 5085025, 5089536, 5094049, 5098564, 5103081, 5107600, 5112121, 5116644, 5121169, 5125696, 5130225, 5134756, 5139289, 5143824, 5148361, 5152900, 5157441, 5161984, 5166529, 5171076, 5175625, 5180176, 5184729, 5189284, 5193841, 5198400, 5202961, 5207524, 5212089, 5216656, 5221225, 5225796, 5230369, 5234944, 5239521, 5244100, 5248681, 5253264, 5257849, 5262436, 5267025, 5271616, 5276209, 5280804, 5285401, 5290000, 5294601, 5299204, 5303809, 5308416, 5313025, 5317636, 5322249, 5326864, 5331481, 5336100, 5340721, 5345344, 5349969, 5354596, 5359225, 5363856, 5368489, 5373124, 5377761, 5382400, 5387041, 5391684, 5396329, 5400976, 5405625, 5410276, 5414929, 5419584, 5424241, 5428900, 5433561, 5438224, 5442889, 5447556, 5452225, 5456896, 5461569, 5466244, 5470921, 5475600, 5480281, 5484964, 5489649, 5494336, 5499025, 5503716, 5508409, 5513104, 5517801, 5522500, 5527201, 5531904, 5536609, 5541316, 5546025, 5550736, 5555449, 5560164, 5564881, 5569600, 5574321, 5579044, 5583769, 5588496, 5593225, 5597956, 5602689, 5607424, 5612161, 5616900, 5621641, 5626384, 5631129, 5635876, 5640625, 5645376, 5650129, 5654884, 5659641, 5664400, 5669161, 5673924, 5678689, 5683456, 5688225, 5692996, 5697769, 5702544, 5707321, 5712100, 5716881, 5721664, 5726449, 5731236, 5736025, 5740816, 5745609, 5750404, 5755201, 5760000, 5764801, 5769604, 5774409, 5779216, 5784025, 5788836, 5793649, 5798464, 5803281, 5808100, 5812921, 5817744, 5822569, 5827396, 5832225, 5837056, 5841889, 5846724, 5851561, 5856400, 5861241, 5866084, 5870929, 5875776, 5880625, 5885476, 5890329, 5895184, 5900041, 5904900, 5909761, 5914624, 5919489, 5924356, 5929225, 5934096, 5938969, 5943844, 5948721, 5953600, 5958481, 5963364, 5968249, 5973136, 5978025, 5982916, 5987809, 5992704, 5997601, 6002500, 6007401, 6012304, 6017209, 6022116, 6027025, 6031936, 6036849, 6041764, 6046681, 6051600, 6056521, 6061444, 6066369, 6071296, 6076225, 6081156, 6086089, 6091024, 6095961, 6100900, 6105841, 6110784, 6115729, 6120676, 6125625, 6130576, 6135529, 6140484, 6145441, 6150400, 6155361, 6160324, 6165289, 6170256, 6175225, 6180196, 6185169, 6190144, 6195121, 6200100, 6205081, 6210064, 6215049, 6220036, 6225025, 6230016, 6235009, 6240004, 6245001, 6250000, 6255001, 6260004, 6265009, 6270016, 6275025, 6280036, 6285049, 6290064, 6295081, 6300100, 6305121, 6310144, 6315169, 6320196, 6325225, 6330256, 6335289, 6340324, 6345361, 6350400, 6355441, 6360484, 6365529, 6370576, 6375625, 6380676, 6385729, 6390784, 6395841, 6400900, 6405961, 6411024, 6416089, 6421156, 6426225, 6431296, 6436369, 6441444, 6446521, 6451600, 6456681, 6461764, 6466849, 6471936, 6477025, 6482116, 6487209, 6492304, 6497401, 6502500, 6507601, 6512704, 6517809, 6522916, 6528025, 6533136, 6538249, 6543364, 6548481, 6553600, 6558721, 6563844, 6568969, 6574096, 6579225, 6584356, 6589489, 6594624, 6599761, 6604900, 6610041, 6615184, 6620329, 6625476, 6630625, 6635776, 6640929, 6646084, 6651241, 6656400, 6661561, 6666724, 6671889, 6677056, 6682225, 6687396, 6692569, 6697744, 6702921, 6708100, 6713281, 6718464, 6723649, 6728836, 6734025, 6739216, 6744409, 6749604, 6754801, 6760000, 6765201, 6770404, 6775609, 6780816, 6786025, 6791236, 6796449, 6801664, 6806881, 6812100, 6817321, 6822544, 6827769, 6832996, 6838225, 6843456, 6848689, 6853924, 6859161, 6864400, 6869641, 6874884, 6880129, 6885376, 6890625, 6895876, 6901129, 6906384, 6911641, 6916900, 6922161, 6927424, 6932689, 6937956, 6943225, 6948496, 6953769, 6959044, 6964321, 6969600, 6974881, 6980164, 6985449, 6990736, 6996025, 7001316, 7006609, 7011904, 7017201, 7022500, 7027801, 7033104, 7038409, 7043716, 7049025, 7054336, 7059649, 7064964, 7070281, 7075600, 7080921, 7086244, 7091569, 7096896, 7102225, 7107556, 7112889, 7118224, 7123561, 7128900, 7134241, 7139584, 7144929, 7150276, 7155625, 7160976, 7166329, 7171684, 7177041, 7182400, 7187761, 7193124, 7198489, 7203856, 7209225, 7214596, 7219969, 7225344, 7230721, 7236100, 7241481, 7246864, 7252249, 7257636, 7263025, 7268416, 7273809, 7279204, 7284601, 7290000, 7295401, 7300804, 7306209, 7311616, 7317025, 7322436, 7327849, 7333264, 7338681, 7344100, 7349521, 7354944, 7360369, 7365796, 7371225, 7376656, 7382089, 7387524, 7392961, 7398400, 7403841, 7409284, 7414729, 7420176, 7425625, 7431076, 7436529, 7441984, 7447441, 7452900, 7458361, 7463824, 7469289, 7474756, 7480225, 7485696, 7491169, 7496644, 7502121, 7507600, 7513081, 7518564, 7524049, 7529536, 7535025, 7540516, 7546009, 7551504, 7557001, 7562500, 7568001, 7573504, 7579009, 7584516, 7590025, 7595536, 7601049, 7606564, 7612081, 7617600, 7623121, 7628644, 7634169, 7639696, 7645225, 7650756, 7656289, 7661824, 7667361, 7672900, 7678441, 7683984, 7689529, 7695076, 7700625, 7706176, 7711729, 7717284, 7722841, 7728400, 7733961, 7739524, 7745089, 7750656, 7756225, 7761796, 7767369, 7772944, 7778521, 7784100, 7789681, 7795264, 7800849, 7806436, 7812025, 7817616, 7823209, 7828804, 7834401, 7840000, 7845601, 7851204, 7856809, 7862416, 7868025, 7873636, 7879249, 7884864, 7890481, 7896100, 7901721, 7907344, 7912969, 7918596, 7924225, 7929856, 7935489, 7941124, 7946761, 7952400, 7958041, 7963684, 7969329, 7974976, 7980625, 7986276, 7991929, 7997584, 8003241, 8008900, 8014561, 8020224, 8025889, 8031556, 8037225, 8042896, 8048569, 8054244, 8059921, 8065600, 8071281, 8076964, 8082649, 8088336, 8094025, 8099716, 8105409, 8111104, 8116801, 8122500, 8128201, 8133904, 8139609, 8145316, 8151025, 8156736, 8162449, 8168164, 8173881, 8179600, 8185321, 8191044, 8196769, 8202496, 8208225, 8213956, 8219689, 8225424, 8231161, 8236900, 8242641, 8248384, 8254129, 8259876, 8265625, 8271376, 8277129, 8282884, 8288641, 8294400, 8300161, 8305924, 8311689, 8317456, 8323225, 8328996, 8334769, 8340544, 8346321, 8352100, 8357881, 8363664, 8369449, 8375236, 8381025, 8386816, 8392609, 8398404, 8404201, 8410000, 8415801, 8421604, 8427409, 8433216, 8439025, 8444836, 8450649, 8456464, 8462281, 8468100, 8473921, 8479744, 8485569, 8491396, 8497225, 8503056, 8508889, 8514724, 8520561, 8526400, 8532241, 8538084, 8543929, 8549776, 8555625, 8561476, 8567329, 8573184, 8579041, 8584900, 8590761, 8596624, 8602489, 8608356, 8614225, 8620096, 8625969, 8631844, 8637721, 8643600, 8649481, 8655364, 8661249, 8667136, 8673025, 8678916, 8684809, 8690704, 8696601, 8702500, 8708401, 8714304, 8720209, 8726116, 8732025, 8737936, 8743849, 8749764, 8755681, 8761600, 8767521, 8773444, 8779369, 8785296, 8791225, 8797156, 8803089, 8809024, 8814961, 8820900, 8826841, 8832784, 8838729, 8844676, 8850625, 8856576, 8862529, 8868484, 8874441, 8880400, 8886361, 8892324, 8898289, 8904256, 8910225, 8916196, 8922169, 8928144, 8934121, 8940100, 8946081, 8952064, 8958049, 8964036, 8970025, 8976016, 8982009, 8988004, 8994001, 9000000, 9006001, 9012004, 9018009, 9024016, 9030025, 9036036, 9042049, 9048064, 9054081, 9060100, 9066121, 9072144, 9078169, 9084196, 9090225, 9096256, 9102289, 9108324, 9114361, 9120400, 9126441, 9132484, 9138529, 9144576, 9150625, 9156676, 9162729, 9168784, 9174841, 9180900, 9186961, 9193024, 9199089, 9205156, 9211225, 9217296, 9223369, 9229444, 9235521, 9241600, 9247681, 9253764, 9259849, 9265936, 9272025, 9278116, 9284209, 9290304, 9296401, 9302500, 9308601, 9314704, 9320809, 9326916, 9333025, 9339136, 9345249, 9351364, 9357481, 9363600, 9369721, 9375844, 9381969, 9388096, 9394225, 9400356, 9406489, 9412624, 9418761, 9424900, 9431041, 9437184, 9443329, 9449476, 9455625, 9461776, 9467929, 9474084, 9480241, 9486400, 9492561, 9498724, 9504889, 9511056, 9517225, 9523396, 9529569, 9535744, 9541921, 9548100, 9554281, 9560464, 9566649, 9572836, 9579025, 9585216, 9591409, 9597604, 9603801, 9610000, 9616201, 9622404, 9628609, 9634816, 9641025, 9647236, 9653449, 9659664, 9665881, 9672100, 9678321, 9684544, 9690769, 9696996, 9703225, 9709456, 9715689, 9721924, 9728161, 9734400, 9740641, 9746884, 9753129, 9759376, 9765625, 9771876, 9778129, 9784384, 9790641, 9796900, 9803161, 9809424, 9815689, 9821956, 9828225, 9834496, 9840769, 9847044, 9853321, 9859600, 9865881, 9872164, 9878449, 9884736, 9891025, 9897316, 9903609, 9909904, 9916201, 9922500, 9928801, 9935104, 9941409, 9947716, 9954025, 9960336, 9966649, 9972964, 9979281, 9985600, 9991921, 9998244, 10004569, 10010896, 10017225, 10023556, 10029889, 10036224, 10042561, 10048900, 10055241, 10061584, 10067929, 10074276, 10080625, 10086976, 10093329, 10099684, 10106041, 10112400, 10118761, 10125124, 10131489, 10137856, 10144225, 10150596, 10156969, 10163344, 10169721, 10176100, 10182481, 10188864, 10195249, 10201636, 10208025, 10214416, 10220809, 10227204, 10233601, 10240000, 10246401, 10252804, 10259209, 10265616, 10272025, 10278436, 10284849, 10291264, 10297681, 10304100, 10310521, 10316944, 10323369, 10329796, 10336225, 10342656, 10349089, 10355524, 10361961, 10368400, 10374841, 10381284, 10387729, 10394176, 10400625, 10407076, 10413529, 10419984, 10426441, 10432900, 10439361, 10445824, 10452289, 10458756, 10465225, 10471696, 10478169, 10484644, 10491121, 10497600, 10504081, 10510564, 10517049, 10523536, 10530025, 10536516, 10543009, 10549504, 10556001, 10562500, 10569001, 10575504, 10582009, 10588516, 10595025, 10601536, 10608049, 10614564, 10621081, 10627600, 10634121, 10640644, 10647169, 10653696, 10660225, 10666756, 10673289, 10679824, 10686361, 10692900, 10699441, 10705984, 10712529, 10719076, 10725625, 10732176, 10738729, 10745284, 10751841, 10758400, 10764961, 10771524, 10778089, 10784656, 10791225, 10797796, 10804369, 10810944, 10817521, 10824100, 10830681, 10837264, 10843849, 10850436, 10857025, 10863616, 10870209, 10876804, 10883401, 10890000, 10896601, 10903204, 10909809, 10916416, 10923025, 10929636, 10936249, 10942864, 10949481, 10956100, 10962721, 10969344, 10975969, 10982596, 10989225, 10995856, 11002489, 11009124, 11015761, 11022400, 11029041, 11035684, 11042329, 11048976, 11055625, 11062276, 11068929, 11075584, 11082241, 11088900, 11095561, 11102224, 11108889, 11115556, 11122225, 11128896, 11135569, 11142244, 11148921, 11155600, 11162281, 11168964, 11175649, 11182336, 11189025, 11195716, 11202409, 11209104, 11215801, 11222500, 11229201, 11235904, 11242609, 11249316, 11256025, 11262736, 11269449, 11276164, 11282881, 11289600, 11296321, 11303044, 11309769, 11316496, 11323225, 11329956, 11336689, 11343424, 11350161, 11356900, 11363641, 11370384, 11377129, 11383876, 11390625, 11397376, 11404129, 11410884, 11417641, 11424400, 11431161, 11437924, 11444689, 11451456, 11458225, 11464996, 11471769, 11478544, 11485321, 11492100, 11498881, 11505664, 11512449, 11519236, 11526025, 11532816, 11539609, 11546404, 11553201, 11560000, 11566801, 11573604, 11580409, 11587216, 11594025, 11600836, 11607649, 11614464, 11621281, 11628100, 11634921, 11641744, 11648569, 11655396, 11662225, 11669056, 11675889, 11682724, 11689561, 11696400, 11703241, 11710084, 11716929, 11723776, 11730625, 11737476, 11744329, 11751184, 11758041, 11764900, 11771761, 11778624, 11785489, 11792356, 11799225, 11806096, 11812969, 11819844, 11826721, 11833600, 11840481, 11847364, 11854249, 11861136, 11868025, 11874916, 11881809, 11888704, 11895601, 11902500, 11909401, 11916304, 11923209, 11930116, 11937025, 11943936, 11950849, 11957764, 11964681, 11971600, 11978521, 11985444, 11992369, 11999296, 12006225, 12013156, 12020089, 12027024, 12033961, 12040900, 12047841, 12054784, 12061729, 12068676, 12075625, 12082576, 12089529, 12096484, 12103441, 12110400, 12117361, 12124324, 12131289, 12138256, 12145225, 12152196, 12159169, 12166144, 12173121, 12180100, 12187081, 12194064, 12201049, 12208036, 12215025, 12222016, 12229009, 12236004, 12243001, 12250000, 12257001, 12264004, 12271009, 12278016, 12285025, 12292036, 12299049, 12306064, 12313081, 12320100, 12327121, 12334144, 12341169, 12348196, 12355225, 12362256, 12369289, 12376324, 12383361, 12390400, 12397441, 12404484, 12411529, 12418576, 12425625, 12432676, 12439729, 12446784, 12453841, 12460900, 12467961, 12475024, 12482089, 12489156, 12496225, 12503296, 12510369, 12517444, 12524521, 12531600, 12538681, 12545764, 12552849, 12559936, 12567025, 12574116, 12581209, 12588304, 12595401, 12602500, 12609601, 12616704, 12623809, 12630916, 12638025, 12645136, 12652249, 12659364, 12666481, 12673600, 12680721, 12687844, 12694969, 12702096, 12709225, 12716356, 12723489, 12730624, 12737761, 12744900, 12752041, 12759184, 12766329, 12773476, 12780625, 12787776, 12794929, 12802084, 12809241, 12816400, 12823561, 12830724, 12837889, 12845056, 12852225, 12859396, 12866569, 12873744, 12880921, 12888100, 12895281, 12902464, 12909649, 12916836, 12924025, 12931216, 12938409, 12945604, 12952801, 12960000, 12967201, 12974404, 12981609, 12988816, 12996025, 13003236, 13010449, 13017664, 13024881, 13032100, 13039321, 13046544, 13053769, 13060996, 13068225, 13075456, 13082689, 13089924, 13097161, 13104400, 13111641, 13118884, 13126129, 13133376, 13140625, 13147876, 13155129, 13162384, 13169641, 13176900, 13184161, 13191424, 13198689, 13205956, 13213225, 13220496, 13227769, 13235044, 13242321, 13249600, 13256881, 13264164, 13271449, 13278736, 13286025, 13293316, 13300609, 13307904, 13315201, 13322500, 13329801, 13337104, 13344409, 13351716, 13359025, 13366336, 13373649, 13380964, 13388281, 13395600, 13402921, 13410244, 13417569, 13424896, 13432225, 13439556, 13446889, 13454224, 13461561, 13468900, 13476241, 13483584, 13490929, 13498276, 13505625, 13512976, 13520329, 13527684, 13535041, 13542400, 13549761, 13557124, 13564489, 13571856, 13579225, 13586596, 13593969, 13601344, 13608721, 13616100, 13623481, 13630864, 13638249, 13645636, 13653025, 13660416, 13667809, 13675204, 13682601, 13690000, 13697401, 13704804, 13712209, 13719616, 13727025, 13734436, 13741849, 13749264, 13756681, 13764100, 13771521, 13778944, 13786369, 13793796, 13801225, 13808656, 13816089, 13823524, 13830961, 13838400, 13845841, 13853284, 13860729, 13868176, 13875625, 13883076, 13890529, 13897984, 13905441, 13912900, 13920361, 13927824, 13935289, 13942756, 13950225, 13957696, 13965169, 13972644, 13980121, 13987600, 13995081, 14002564, 14010049, 14017536, 14025025, 14032516, 14040009, 14047504, 14055001, 14062500, 14070001, 14077504, 14085009, 14092516, 14100025, 14107536, 14115049, 14122564, 14130081, 14137600, 14145121, 14152644, 14160169, 14167696, 14175225, 14182756, 14190289, 14197824, 14205361, 14212900, 14220441, 14227984, 14235529, 14243076, 14250625, 14258176, 14265729, 14273284, 14280841, 14288400, 14295961, 14303524, 14311089, 14318656, 14326225, 14333796, 14341369, 14348944, 14356521, 14364100, 14371681, 14379264, 14386849, 14394436, 14402025, 14409616, 14417209, 14424804, 14432401, 14440000, 14447601, 14455204, 14462809, 14470416, 14478025, 14485636, 14493249, 14500864, 14508481, 14516100, 14523721, 14531344, 14538969, 14546596, 14554225, 14561856, 14569489, 14577124, 14584761, 14592400, 14600041, 14607684, 14615329, 14622976, 14630625, 14638276, 14645929, 14653584, 14661241, 14668900, 14676561, 14684224, 14691889, 14699556, 14707225, 14714896, 14722569, 14730244, 14737921, 14745600, 14753281, 14760964, 14768649, 14776336, 14784025, 14791716, 14799409, 14807104, 14814801, 14822500, 14830201, 14837904, 14845609, 14853316, 14861025, 14868736, 14876449, 14884164, 14891881, 14899600, 14907321, 14915044, 14922769, 14930496, 14938225, 14945956, 14953689, 14961424, 14969161, 14976900, 14984641, 14992384, 15000129, 15007876, 15015625, 15023376, 15031129, 15038884, 15046641, 15054400, 15062161, 15069924, 15077689, 15085456, 15093225, 15100996, 15108769, 15116544, 15124321, 15132100, 15139881, 15147664, 15155449, 15163236, 15171025, 15178816, 15186609, 15194404, 15202201, 15210000, 15217801, 15225604, 15233409, 15241216, 15249025, 15256836, 15264649, 15272464, 15280281, 15288100, 15295921, 15303744, 15311569, 15319396, 15327225, 15335056, 15342889, 15350724, 15358561, 15366400, 15374241, 15382084, 15389929, 15397776, 15405625, 15413476, 15421329, 15429184, 15437041, 15444900, 15452761, 15460624, 15468489, 15476356, 15484225, 15492096, 15499969, 15507844, 15515721, 15523600, 15531481, 15539364, 15547249, 15555136, 15563025, 15570916, 15578809, 15586704, 15594601, 15602500, 15610401, 15618304, 15626209, 15634116, 15642025, 15649936, 15657849, 15665764, 15673681, 15681600, 15689521, 15697444, 15705369, 15713296, 15721225, 15729156, 15737089, 15745024, 15752961, 15760900, 15768841, 15776784, 15784729, 15792676, 15800625, 15808576, 15816529, 15824484, 15832441, 15840400, 15848361, 15856324, 15864289, 15872256, 15880225, 15888196, 15896169, 15904144, 15912121, 15920100, 15928081, 15936064, 15944049, 15952036, 15960025, 15968016, 15976009, 15984004, 15992001, 16000000, 16008001, 16016004, 16024009, 16032016, 16040025, 16048036, 16056049, 16064064, 16072081, 16080100, 16088121, 16096144, 16104169, 16112196, 16120225, 16128256, 16136289, 16144324, 16152361, 16160400, 16168441, 16176484, 16184529, 16192576, 16200625, 16208676, 16216729, 16224784, 16232841, 16240900, 16248961, 16257024, 16265089, 16273156, 16281225, 16289296, 16297369, 16305444, 16313521, 16321600, 16329681, 16337764, 16345849, 16353936, 16362025, 16370116, 16378209, 16386304, 16394401, 16402500, 16410601, 16418704, 16426809, 16434916, 16443025, 16451136, 16459249, 16467364, 16475481, 16483600, 16491721, 16499844, 16507969, 16516096, 16524225, 16532356, 16540489, 16548624, 16556761, 16564900, 16573041, 16581184, 16589329, 16597476, 16605625, 16613776, 16621929, 16630084, 16638241, 16646400, 16654561, 16662724, 16670889, 16679056, 16687225, 16695396, 16703569, 16711744, 16719921, 16728100, 16736281, 16744464, 16752649, 16760836, 16769025, 16777216, 16785409, 16793604, 16801801, 16810000, 16818201, 16826404, 16834609, 16842816, 16851025, 16859236, 16867449, 16875664, 16883881, 16892100, 16900321, 16908544, 16916769, 16924996, 16933225, 16941456, 16949689, 16957924, 16966161, 16974400, 16982641, 16990884, 16999129, 17007376, 17015625, 17023876, 17032129, 17040384, 17048641, 17056900, 17065161, 17073424, 17081689, 17089956, 17098225, 17106496, 17114769, 17123044, 17131321, 17139600, 17147881, 17156164, 17164449, 17172736, 17181025, 17189316, 17197609, 17205904, 17214201, 17222500, 17230801, 17239104, 17247409, 17255716, 17264025, 17272336, 17280649, 17288964, 17297281, 17305600, 17313921, 17322244, 17330569, 17338896, 17347225, 17355556, 17363889, 17372224, 17380561, 17388900, 17397241, 17405584, 17413929, 17422276, 17430625, 17438976, 17447329, 17455684, 17464041, 17472400, 17480761, 17489124, 17497489, 17505856, 17514225, 17522596, 17530969, 17539344, 17547721, 17556100, 17564481, 17572864, 17581249, 17589636, 17598025, 17606416, 17614809, 17623204, 17631601, 17640000, 17648401, 17656804, 17665209, 17673616, 17682025, 17690436, 17698849, 17707264, 17715681, 17724100, 17732521, 17740944, 17749369, 17757796, 17766225, 17774656, 17783089, 17791524, 17799961, 17808400, 17816841, 17825284, 17833729, 17842176, 17850625, 17859076, 17867529, 17875984, 17884441, 17892900, 17901361, 17909824, 17918289, 17926756, 17935225, 17943696, 17952169, 17960644, 17969121, 17977600, 17986081, 17994564, 18003049, 18011536, 18020025, 18028516, 18037009, 18045504, 18054001, 18062500, 18071001, 18079504, 18088009, 18096516, 18105025, 18113536, 18122049, 18130564, 18139081, 18147600, 18156121, 18164644, 18173169, 18181696, 18190225, 18198756, 18207289, 18215824, 18224361, 18232900, 18241441, 18249984, 18258529, 18267076, 18275625, 18284176, 18292729, 18301284, 18309841, 18318400, 18326961, 18335524, 18344089, 18352656, 18361225, 18369796, 18378369, 18386944, 18395521, 18404100, 18412681, 18421264, 18429849, 18438436, 18447025, 18455616, 18464209, 18472804, 18481401, 18490000, 18498601, 18507204, 18515809, 18524416, 18533025, 18541636, 18550249, 18558864, 18567481, 18576100, 18584721, 18593344, 18601969, 18610596, 18619225, 18627856, 18636489, 18645124, 18653761, 18662400, 18671041, 18679684, 18688329, 18696976, 18705625, 18714276, 18722929, 18731584, 18740241, 18748900, 18757561, 18766224, 18774889, 18783556, 18792225, 18800896, 18809569, 18818244, 18826921, 18835600, 18844281, 18852964, 18861649, 18870336, 18879025, 18887716, 18896409, 18905104, 18913801, 18922500, 18931201, 18939904, 18948609, 18957316, 18966025, 18974736, 18983449, 18992164, 19000881, 19009600, 19018321, 19027044, 19035769, 19044496, 19053225, 19061956, 19070689, 19079424, 19088161, 19096900, 19105641, 19114384, 19123129, 19131876, 19140625, 19149376, 19158129, 19166884, 19175641, 19184400, 19193161, 19201924, 19210689, 19219456, 19228225, 19236996, 19245769, 19254544, 19263321, 19272100, 19280881, 19289664, 19298449, 19307236, 19316025, 19324816, 19333609, 19342404, 19351201, 19360000, 19368801, 19377604, 19386409, 19395216, 19404025, 19412836, 19421649, 19430464, 19439281, 19448100, 19456921, 19465744, 19474569, 19483396, 19492225, 19501056, 19509889, 19518724, 19527561, 19536400, 19545241, 19554084, 19562929, 19571776, 19580625, 19589476, 19598329, 19607184, 19616041, 19624900, 19633761, 19642624, 19651489, 19660356, 19669225, 19678096, 19686969, 19695844, 19704721, 19713600, 19722481, 19731364, 19740249, 19749136, 19758025, 19766916, 19775809, 19784704, 19793601, 19802500, 19811401, 19820304, 19829209, 19838116, 19847025, 19855936, 19864849, 19873764, 19882681, 19891600, 19900521, 19909444, 19918369, 19927296, 19936225, 19945156, 19954089, 19963024, 19971961, 19980900, 19989841, 19998784, 20007729, 20016676, 20025625, 20034576, 20043529, 20052484, 20061441, 20070400, 20079361, 20088324, 20097289, 20106256, 20115225, 20124196, 20133169, 20142144, 20151121, 20160100, 20169081, 20178064, 20187049, 20196036, 20205025, 20214016, 20223009, 20232004, 20241001, 20250000, 20259001, 20268004, 20277009, 20286016, 20295025, 20304036, 20313049, 20322064, 20331081, 20340100, 20349121, 20358144, 20367169, 20376196, 20385225, 20394256, 20403289, 20412324, 20421361, 20430400, 20439441, 20448484, 20457529, 20466576, 20475625, 20484676, 20493729, 20502784, 20511841, 20520900, 20529961, 20539024, 20548089, 20557156, 20566225, 20575296, 20584369, 20593444, 20602521, 20611600, 20620681, 20629764, 20638849, 20647936, 20657025, 20666116, 20675209, 20684304, 20693401, 20702500, 20711601, 20720704, 20729809, 20738916, 20748025, 20757136, 20766249, 20775364, 20784481, 20793600, 20802721, 20811844, 20820969, 20830096, 20839225, 20848356, 20857489, 20866624, 20875761, 20884900, 20894041, 20903184, 20912329, 20921476, 20930625, 20939776, 20948929, 20958084, 20967241, 20976400, 20985561, 20994724, 21003889, 21013056, 21022225, 21031396, 21040569, 21049744, 21058921, 21068100, 21077281, 21086464, 21095649, 21104836, 21114025, 21123216, 21132409, 21141604, 21150801, 21160000, 21169201, 21178404, 21187609, 21196816, 21206025, 21215236, 21224449, 21233664, 21242881, 21252100, 21261321, 21270544, 21279769, 21288996, 21298225, 21307456, 21316689, 21325924, 21335161, 21344400, 21353641, 21362884, 21372129, 21381376, 21390625, 21399876, 21409129, 21418384, 21427641, 21436900, 21446161, 21455424, 21464689, 21473956, 21483225, 21492496, 21501769, 21511044, 21520321, 21529600, 21538881, 21548164, 21557449, 21566736, 21576025, 21585316, 21594609, 21603904, 21613201, 21622500, 21631801, 21641104, 21650409, 21659716, 21669025, 21678336, 21687649, 21696964, 21706281, 21715600, 21724921, 21734244, 21743569, 21752896, 21762225, 21771556, 21780889, 21790224, 21799561, 21808900, 21818241, 21827584, 21836929, 21846276, 21855625, 21864976, 21874329, 21883684, 21893041, 21902400, 21911761, 21921124, 21930489, 21939856, 21949225, 21958596, 21967969, 21977344, 21986721, 21996100, 22005481, 22014864, 22024249, 22033636, 22043025, 22052416, 22061809, 22071204, 22080601, 22090000, 22099401, 22108804, 22118209, 22127616, 22137025, 22146436, 22155849, 22165264, 22174681, 22184100, 22193521, 22202944, 22212369, 22221796, 22231225, 22240656, 22250089, 22259524, 22268961, 22278400, 22287841, 22297284, 22306729, 22316176, 22325625, 22335076, 22344529, 22353984, 22363441, 22372900, 22382361, 22391824, 22401289, 22410756, 22420225, 22429696, 22439169, 22448644, 22458121, 22467600, 22477081, 22486564, 22496049, 22505536, 22515025, 22524516, 22534009, 22543504, 22553001, 22562500, 22572001, 22581504, 22591009, 22600516, 22610025, 22619536, 22629049, 22638564, 22648081, 22657600, 22667121, 22676644, 22686169, 22695696, 22705225, 22714756, 22724289, 22733824, 22743361, 22752900, 22762441, 22771984, 22781529, 22791076, 22800625, 22810176, 22819729, 22829284, 22838841, 22848400, 22857961, 22867524, 22877089, 22886656, 22896225, 22905796, 22915369, 22924944, 22934521, 22944100, 22953681, 22963264, 22972849, 22982436, 22992025, 23001616, 23011209, 23020804, 23030401, 23040000, 23049601, 23059204, 23068809, 23078416, 23088025, 23097636, 23107249, 23116864, 23126481, 23136100, 23145721, 23155344, 23164969, 23174596, 23184225, 23193856, 23203489, 23213124, 23222761, 23232400, 23242041, 23251684, 23261329, 23270976, 23280625, 23290276, 23299929, 23309584, 23319241, 23328900, 23338561, 23348224, 23357889, 23367556, 23377225, 23386896, 23396569, 23406244, 23415921, 23425600, 23435281, 23444964, 23454649, 23464336, 23474025, 23483716, 23493409, 23503104, 23512801, 23522500, 23532201, 23541904, 23551609, 23561316, 23571025, 23580736, 23590449, 23600164, 23609881, 23619600, 23629321, 23639044, 23648769, 23658496, 23668225, 23677956, 23687689, 23697424, 23707161, 23716900, 23726641, 23736384, 23746129, 23755876, 23765625, 23775376, 23785129, 23794884, 23804641, 23814400, 23824161, 23833924, 23843689, 23853456, 23863225, 23872996, 23882769, 23892544, 23902321, 23912100, 23921881, 23931664, 23941449, 23951236, 23961025, 23970816, 23980609, 23990404, 24000201, 24010000, 24019801, 24029604, 24039409, 24049216, 24059025, 24068836, 24078649, 24088464, 24098281, 24108100, 24117921, 24127744, 24137569, 24147396, 24157225, 24167056, 24176889, 24186724, 24196561, 24206400, 24216241, 24226084, 24235929, 24245776, 24255625, 24265476, 24275329, 24285184, 24295041, 24304900, 24314761, 24324624, 24334489, 24344356, 24354225, 24364096, 24373969, 24383844, 24393721, 24403600, 24413481, 24423364, 24433249, 24443136, 24453025, 24462916, 24472809, 24482704, 24492601, 24502500, 24512401, 24522304, 24532209, 24542116, 24552025, 24561936, 24571849, 24581764, 24591681, 24601600, 24611521, 24621444, 24631369, 24641296, 24651225, 24661156, 24671089, 24681024, 24690961, 24700900, 24710841, 24720784, 24730729, 24740676, 24750625, 24760576, 24770529, 24780484, 24790441, 24800400, 24810361, 24820324, 24830289, 24840256, 24850225, 24860196, 24870169, 24880144, 24890121, 24900100, 24910081, 24920064, 24930049, 24940036, 24950025, 24960016, 24970009, 24980004, 24990001, 25000000, 25010001, 25020004, 25030009, 25040016, 25050025, 25060036, 25070049, 25080064, 25090081, 25100100, 25110121, 25120144, 25130169, 25140196, 25150225, 25160256, 25170289, 25180324, 25190361, 25200400, 25210441, 25220484, 25230529, 25240576, 25250625, 25260676, 25270729, 25280784, 25290841, 25300900, 25310961, 25321024, 25331089, 25341156, 25351225, 25361296, 25371369, 25381444, 25391521, 25401600, 25411681, 25421764, 25431849, 25441936, 25452025, 25462116, 25472209, 25482304, 25492401, 25502500, 25512601, 25522704, 25532809, 25542916, 25553025, 25563136, 25573249, 25583364, 25593481, 25603600, 25613721, 25623844, 25633969, 25644096, 25654225, 25664356, 25674489, 25684624, 25694761, 25704900, 25715041, 25725184, 25735329, 25745476, 25755625, 25765776, 25775929, 25786084, 25796241, 25806400, 25816561, 25826724, 25836889, 25847056, 25857225, 25867396, 25877569, 25887744, 25897921, 25908100, 25918281, 25928464, 25938649, 25948836, 25959025, 25969216, 25979409, 25989604, 25999801, 26010000, 26020201, 26030404, 26040609, 26050816, 26061025, 26071236, 26081449, 26091664, 26101881, 26112100, 26122321, 26132544, 26142769, 26152996, 26163225, 26173456, 26183689, 26193924, 26204161, 26214400, 26224641, 26234884, 26245129, 26255376, 26265625, 26275876, 26286129, 26296384, 26306641, 26316900, 26327161, 26337424, 26347689, 26357956, 26368225, 26378496, 26388769, 26399044, 26409321, 26419600, 26429881, 26440164, 26450449, 26460736, 26471025, 26481316, 26491609, 26501904, 26512201, 26522500, 26532801, 26543104, 26553409, 26563716, 26574025, 26584336, 26594649, 26604964, 26615281, 26625600, 26635921, 26646244, 26656569, 26666896, 26677225, 26687556, 26697889, 26708224, 26718561, 26728900, 26739241, 26749584, 26759929, 26770276, 26780625, 26790976, 26801329, 26811684, 26822041, 26832400, 26842761, 26853124, 26863489, 26873856, 26884225, 26894596, 26904969, 26915344, 26925721, 26936100, 26946481, 26956864, 26967249, 26977636, 26988025, 26998416, 27008809, 27019204, 27029601, 27040000, 27050401, 27060804, 27071209, 27081616, 27092025, 27102436, 27112849, 27123264, 27133681, 27144100, 27154521, 27164944, 27175369, 27185796, 27196225, 27206656, 27217089, 27227524, 27237961, 27248400, 27258841, 27269284, 27279729, 27290176, 27300625, 27311076, 27321529, 27331984, 27342441, 27352900, 27363361, 27373824, 27384289, 27394756, 27405225, 27415696, 27426169, 27436644, 27447121, 27457600, 27468081, 27478564, 27489049, 27499536, 27510025, 27520516, 27531009, 27541504, 27552001, 27562500, 27573001, 27583504, 27594009, 27604516, 27615025, 27625536, 27636049, 27646564, 27657081, 27667600, 27678121, 27688644, 27699169, 27709696, 27720225, 27730756, 27741289, 27751824, 27762361, 27772900, 27783441, 27793984, 27804529, 27815076, 27825625, 27836176, 27846729, 27857284, 27867841, 27878400, 27888961, 27899524, 27910089, 27920656, 27931225, 27941796, 27952369, 27962944, 27973521, 27984100, 27994681, 28005264, 28015849, 28026436, 28037025, 28047616, 28058209, 28068804, 28079401, 28090000, 28100601, 28111204, 28121809, 28132416, 28143025, 28153636, 28164249, 28174864, 28185481, 28196100, 28206721, 28217344, 28227969, 28238596, 28249225, 28259856, 28270489, 28281124, 28291761, 28302400, 28313041, 28323684, 28334329, 28344976, 28355625, 28366276, 28376929, 28387584, 28398241, 28408900, 28419561, 28430224, 28440889, 28451556, 28462225, 28472896, 28483569, 28494244, 28504921, 28515600, 28526281, 28536964, 28547649, 28558336, 28569025, 28579716, 28590409, 28601104, 28611801, 28622500, 28633201, 28643904, 28654609, 28665316, 28676025, 28686736, 28697449, 28708164, 28718881, 28729600, 28740321, 28751044, 28761769, 28772496, 28783225, 28793956, 28804689, 28815424, 28826161, 28836900, 28847641, 28858384, 28869129, 28879876, 28890625, 28901376, 28912129, 28922884, 28933641, 28944400, 28955161, 28965924, 28976689, 28987456, 28998225, 29008996, 29019769, 29030544, 29041321, 29052100, 29062881, 29073664, 29084449, 29095236, 29106025, 29116816, 29127609, 29138404, 29149201, 29160000, 29170801, 29181604, 29192409, 29203216, 29214025, 29224836, 29235649, 29246464, 29257281, 29268100, 29278921, 29289744, 29300569, 29311396, 29322225, 29333056, 29343889, 29354724, 29365561, 29376400, 29387241, 29398084, 29408929, 29419776, 29430625, 29441476, 29452329, 29463184, 29474041, 29484900, 29495761, 29506624, 29517489, 29528356, 29539225, 29550096, 29560969, 29571844, 29582721, 29593600, 29604481, 29615364, 29626249, 29637136, 29648025, 29658916, 29669809, 29680704, 29691601, 29702500, 29713401, 29724304, 29735209, 29746116, 29757025, 29767936, 29778849, 29789764, 29800681, 29811600, 29822521, 29833444, 29844369, 29855296, 29866225, 29877156, 29888089, 29899024, 29909961, 29920900, 29931841, 29942784, 29953729, 29964676, 29975625, 29986576, 29997529, 30008484, 30019441, 30030400, 30041361, 30052324, 30063289, 30074256, 30085225, 30096196, 30107169, 30118144, 30129121, 30140100, 30151081, 30162064, 30173049, 30184036, 30195025, 30206016, 30217009, 30228004, 30239001, 30250000, 30261001, 30272004, 30283009, 30294016, 30305025, 30316036, 30327049, 30338064, 30349081, 30360100, 30371121, 30382144, 30393169, 30404196, 30415225, 30426256, 30437289, 30448324, 30459361, 30470400, 30481441, 30492484, 30503529, 30514576, 30525625, 30536676, 30547729, 30558784, 30569841, 30580900, 30591961, 30603024, 30614089, 30625156, 30636225, 30647296, 30658369, 30669444, 30680521, 30691600, 30702681, 30713764, 30724849, 30735936, 30747025, 30758116, 30769209, 30780304, 30791401, 30802500, 30813601, 30824704, 30835809, 30846916, 30858025, 30869136, 30880249, 30891364, 30902481, 30913600, 30924721, 30935844, 30946969, 30958096, 30969225, 30980356, 30991489, 31002624, 31013761, 31024900, 31036041, 31047184, 31058329, 31069476, 31080625, 31091776, 31102929, 31114084, 31125241, 31136400, 31147561, 31158724, 31169889, 31181056, 31192225, 31203396, 31214569, 31225744, 31236921, 31248100, 31259281, 31270464, 31281649, 31292836, 31304025, 31315216, 31326409, 31337604, 31348801, 31360000, 31371201, 31382404, 31393609, 31404816, 31416025, 31427236, 31438449, 31449664, 31460881, 31472100, 31483321, 31494544, 31505769, 31516996, 31528225, 31539456, 31550689, 31561924, 31573161, 31584400, 31595641, 31606884, 31618129, 31629376, 31640625, 31651876, 31663129, 31674384, 31685641, 31696900, 31708161, 31719424, 31730689, 31741956, 31753225, 31764496, 31775769, 31787044, 31798321, 31809600, 31820881, 31832164, 31843449, 31854736, 31866025, 31877316, 31888609, 31899904, 31911201, 31922500, 31933801, 31945104, 31956409, 31967716, 31979025, 31990336, 32001649, 32012964, 32024281, 32035600, 32046921, 32058244, 32069569, 32080896, 32092225, 32103556, 32114889, 32126224, 32137561, 32148900, 32160241, 32171584, 32182929, 32194276, 32205625, 32216976, 32228329, 32239684, 32251041, 32262400, 32273761, 32285124, 32296489, 32307856, 32319225, 32330596, 32341969, 32353344, 32364721, 32376100, 32387481, 32398864, 32410249, 32421636, 32433025, 32444416, 32455809, 32467204, 32478601, 32490000, 32501401, 32512804, 32524209, 32535616, 32547025, 32558436, 32569849, 32581264, 32592681, 32604100, 32615521, 32626944, 32638369, 32649796, 32661225, 32672656, 32684089, 32695524, 32706961, 32718400, 32729841, 32741284, 32752729, 32764176, 32775625, 32787076, 32798529, 32809984, 32821441, 32832900, 32844361, 32855824, 32867289, 32878756, 32890225, 32901696, 32913169, 32924644, 32936121, 32947600, 32959081, 32970564, 32982049, 32993536, 33005025, 33016516, 33028009, 33039504, 33051001, 33062500, 33074001, 33085504, 33097009, 33108516, 33120025, 33131536, 33143049, 33154564, 33166081, 33177600, 33189121, 33200644, 33212169, 33223696, 33235225, 33246756, 33258289, 33269824, 33281361, 33292900, 33304441, 33315984, 33327529, 33339076, 33350625, 33362176, 33373729, 33385284, 33396841, 33408400, 33419961, 33431524, 33443089, 33454656, 33466225, 33477796, 33489369, 33500944, 33512521, 33524100, 33535681, 33547264, 33558849, 33570436, 33582025, 33593616, 33605209, 33616804, 33628401, 33640000, 33651601, 33663204, 33674809, 33686416, 33698025, 33709636, 33721249, 33732864, 33744481, 33756100, 33767721, 33779344, 33790969, 33802596, 33814225, 33825856, 33837489, 33849124, 33860761, 33872400, 33884041, 33895684, 33907329, 33918976, 33930625, 33942276, 33953929, 33965584, 33977241, 33988900, 34000561, 34012224, 34023889, 34035556, 34047225, 34058896, 34070569, 34082244, 34093921, 34105600, 34117281, 34128964, 34140649, 34152336, 34164025, 34175716, 34187409, 34199104, 34210801, 34222500, 34234201, 34245904, 34257609, 34269316, 34281025, 34292736, 34304449, 34316164, 34327881, 34339600, 34351321, 34363044, 34374769, 34386496, 34398225, 34409956, 34421689, 34433424, 34445161, 34456900, 34468641, 34480384, 34492129, 34503876, 34515625, 34527376, 34539129, 34550884, 34562641, 34574400, 34586161, 34597924, 34609689, 34621456, 34633225, 34644996, 34656769, 34668544, 34680321, 34692100, 34703881, 34715664, 34727449, 34739236, 34751025, 34762816, 34774609, 34786404, 34798201, 34810000, 34821801, 34833604, 34845409, 34857216, 34869025, 34880836, 34892649, 34904464, 34916281, 34928100, 34939921, 34951744, 34963569, 34975396, 34987225, 34999056, 35010889, 35022724, 35034561, 35046400, 35058241, 35070084, 35081929, 35093776, 35105625, 35117476, 35129329, 35141184, 35153041, 35164900, 35176761, 35188624, 35200489, 35212356, 35224225, 35236096, 35247969, 35259844, 35271721, 35283600, 35295481, 35307364, 35319249, 35331136, 35343025, 35354916, 35366809, 35378704, 35390601, 35402500, 35414401, 35426304, 35438209, 35450116, 35462025, 35473936, 35485849, 35497764, 35509681, 35521600, 35533521, 35545444, 35557369, 35569296, 35581225, 35593156, 35605089, 35617024, 35628961, 35640900, 35652841, 35664784, 35676729, 35688676, 35700625, 35712576, 35724529, 35736484, 35748441, 35760400, 35772361, 35784324, 35796289, 35808256, 35820225, 35832196, 35844169, 35856144, 35868121, 35880100, 35892081, 35904064, 35916049, 35928036, 35940025, 35952016, 35964009, 35976004, 35988001, 36000000, 36012001, 36024004, 36036009, 36048016, 36060025, 36072036, 36084049, 36096064, 36108081, 36120100, 36132121, 36144144, 36156169, 36168196, 36180225, 36192256, 36204289, 36216324, 36228361, 36240400, 36252441, 36264484, 36276529, 36288576, 36300625, 36312676, 36324729, 36336784, 36348841, 36360900, 36372961, 36385024, 36397089, 36409156, 36421225, 36433296, 36445369, 36457444, 36469521, 36481600, 36493681, 36505764, 36517849, 36529936, 36542025, 36554116, 36566209, 36578304, 36590401, 36602500, 36614601, 36626704, 36638809, 36650916, 36663025, 36675136, 36687249, 36699364, 36711481, 36723600, 36735721, 36747844, 36759969, 36772096, 36784225, 36796356, 36808489, 36820624, 36832761, 36844900, 36857041, 36869184, 36881329, 36893476, 36905625, 36917776, 36929929, 36942084, 36954241, 36966400, 36978561, 36990724, 37002889, 37015056, 37027225, 37039396, 37051569, 37063744, 37075921, 37088100, 37100281, 37112464, 37124649, 37136836, 37149025, 37161216, 37173409, 37185604, 37197801, 37210000, 37222201, 37234404, 37246609, 37258816, 37271025, 37283236, 37295449, 37307664, 37319881, 37332100, 37344321, 37356544, 37368769, 37380996, 37393225, 37405456, 37417689, 37429924, 37442161, 37454400, 37466641, 37478884, 37491129, 37503376, 37515625, 37527876, 37540129, 37552384, 37564641, 37576900, 37589161, 37601424, 37613689, 37625956, 37638225, 37650496, 37662769, 37675044, 37687321, 37699600, 37711881, 37724164, 37736449, 37748736, 37761025, 37773316, 37785609, 37797904, 37810201, 37822500, 37834801, 37847104, 37859409, 37871716, 37884025, 37896336, 37908649, 37920964, 37933281, 37945600, 37957921, 37970244, 37982569, 37994896, 38007225, 38019556, 38031889, 38044224, 38056561, 38068900, 38081241, 38093584, 38105929, 38118276, 38130625, 38142976, 38155329, 38167684, 38180041, 38192400, 38204761, 38217124, 38229489, 38241856, 38254225, 38266596, 38278969, 38291344, 38303721, 38316100, 38328481, 38340864, 38353249, 38365636, 38378025, 38390416, 38402809, 38415204, 38427601, 38440000, 38452401, 38464804, 38477209, 38489616, 38502025, 38514436, 38526849, 38539264, 38551681, 38564100, 38576521, 38588944, 38601369, 38613796, 38626225, 38638656, 38651089, 38663524, 38675961, 38688400, 38700841, 38713284, 38725729, 38738176, 38750625, 38763076, 38775529, 38787984, 38800441, 38812900, 38825361, 38837824, 38850289, 38862756, 38875225, 38887696, 38900169, 38912644, 38925121, 38937600, 38950081, 38962564, 38975049, 38987536, 39000025, 39012516, 39025009, 39037504, 39050001, 39062500, 39075001, 39087504, 39100009, 39112516, 39125025, 39137536, 39150049, 39162564, 39175081, 39187600, 39200121, 39212644, 39225169, 39237696, 39250225, 39262756, 39275289, 39287824, 39300361, 39312900, 39325441, 39337984, 39350529, 39363076, 39375625, 39388176, 39400729, 39413284, 39425841, 39438400, 39450961, 39463524, 39476089, 39488656, 39501225, 39513796, 39526369, 39538944, 39551521, 39564100, 39576681, 39589264, 39601849, 39614436, 39627025, 39639616, 39652209, 39664804, 39677401, 39690000, 39702601, 39715204, 39727809, 39740416, 39753025, 39765636, 39778249, 39790864, 39803481, 39816100, 39828721, 39841344, 39853969, 39866596, 39879225, 39891856, 39904489, 39917124, 39929761, 39942400, 39955041, 39967684, 39980329, 39992976, 40005625, 40018276, 40030929, 40043584, 40056241, 40068900, 40081561, 40094224, 40106889, 40119556, 40132225, 40144896, 40157569, 40170244, 40182921, 40195600, 40208281, 40220964, 40233649, 40246336, 40259025, 40271716, 40284409, 40297104, 40309801, 40322500, 40335201, 40347904, 40360609, 40373316, 40386025, 40398736, 40411449, 40424164, 40436881, 40449600, 40462321, 40475044, 40487769, 40500496, 40513225, 40525956, 40538689, 40551424, 40564161, 40576900, 40589641, 40602384, 40615129, 40627876, 40640625, 40653376, 40666129, 40678884, 40691641, 40704400, 40717161, 40729924, 40742689, 40755456, 40768225, 40780996, 40793769, 40806544, 40819321, 40832100, 40844881, 40857664, 40870449, 40883236, 40896025, 40908816, 40921609, 40934404, 40947201, 40960000, 40972801, 40985604, 40998409, 41011216, 41024025, 41036836, 41049649, 41062464, 41075281, 41088100, 41100921, 41113744, 41126569, 41139396, 41152225, 41165056, 41177889, 41190724, 41203561, 41216400, 41229241, 41242084, 41254929, 41267776, 41280625, 41293476, 41306329, 41319184, 41332041, 41344900, 41357761, 41370624, 41383489, 41396356, 41409225, 41422096, 41434969, 41447844, 41460721, 41473600, 41486481, 41499364, 41512249, 41525136, 41538025, 41550916, 41563809, 41576704, 41589601, 41602500, 41615401, 41628304, 41641209, 41654116, 41667025, 41679936, 41692849, 41705764, 41718681, 41731600, 41744521, 41757444, 41770369, 41783296, 41796225, 41809156, 41822089, 41835024, 41847961, 41860900, 41873841, 41886784, 41899729, 41912676, 41925625, 41938576, 41951529, 41964484, 41977441, 41990400, 42003361, 42016324, 42029289, 42042256, 42055225, 42068196, 42081169, 42094144, 42107121, 42120100, 42133081, 42146064, 42159049, 42172036, 42185025, 42198016, 42211009, 42224004, 42237001, 42250000, 42263001, 42276004, 42289009, 42302016, 42315025, 42328036, 42341049, 42354064, 42367081, 42380100, 42393121, 42406144, 42419169, 42432196, 42445225, 42458256, 42471289, 42484324, 42497361, 42510400, 42523441, 42536484, 42549529, 42562576, 42575625, 42588676, 42601729, 42614784, 42627841, 42640900, 42653961, 42667024, 42680089, 42693156, 42706225, 42719296, 42732369, 42745444, 42758521, 42771600, 42784681, 42797764, 42810849, 42823936, 42837025, 42850116, 42863209, 42876304, 42889401, 42902500, 42915601, 42928704, 42941809, 42954916, 42968025, 42981136, 42994249, 43007364, 43020481, 43033600, 43046721, 43059844, 43072969, 43086096, 43099225, 43112356, 43125489, 43138624, 43151761, 43164900, 43178041, 43191184, 43204329, 43217476, 43230625, 43243776, 43256929, 43270084, 43283241, 43296400, 43309561, 43322724, 43335889, 43349056, 43362225, 43375396, 43388569, 43401744, 43414921, 43428100, 43441281, 43454464, 43467649, 43480836, 43494025, 43507216, 43520409, 43533604, 43546801, 43560000, 43573201, 43586404, 43599609, 43612816, 43626025, 43639236, 43652449, 43665664, 43678881, 43692100, 43705321, 43718544, 43731769, 43744996, 43758225, 43771456, 43784689, 43797924, 43811161, 43824400, 43837641, 43850884, 43864129, 43877376, 43890625, 43903876, 43917129, 43930384, 43943641, 43956900, 43970161, 43983424, 43996689, 44009956, 44023225, 44036496, 44049769, 44063044, 44076321, 44089600, 44102881, 44116164, 44129449, 44142736, 44156025, 44169316, 44182609, 44195904, 44209201, 44222500, 44235801, 44249104, 44262409, 44275716, 44289025, 44302336, 44315649, 44328964, 44342281, 44355600, 44368921, 44382244, 44395569, 44408896, 44422225, 44435556, 44448889, 44462224, 44475561, 44488900, 44502241, 44515584, 44528929, 44542276, 44555625, 44568976, 44582329, 44595684, 44609041, 44622400, 44635761, 44649124, 44662489, 44675856, 44689225, 44702596, 44715969, 44729344, 44742721, 44756100, 44769481, 44782864, 44796249, 44809636, 44823025, 44836416, 44849809, 44863204, 44876601, 44890000, 44903401, 44916804, 44930209, 44943616, 44957025, 44970436, 44983849, 44997264, 45010681, 45024100, 45037521, 45050944, 45064369, 45077796, 45091225, 45104656, 45118089, 45131524, 45144961, 45158400, 45171841, 45185284, 45198729, 45212176, 45225625, 45239076, 45252529, 45265984, 45279441, 45292900, 45306361, 45319824, 45333289, 45346756, 45360225, 45373696, 45387169, 45400644, 45414121, 45427600, 45441081, 45454564, 45468049, 45481536, 45495025, 45508516, 45522009, 45535504, 45549001, 45562500, 45576001, 45589504, 45603009, 45616516, 45630025, 45643536, 45657049, 45670564, 45684081, 45697600, 45711121, 45724644, 45738169, 45751696, 45765225, 45778756, 45792289, 45805824, 45819361, 45832900, 45846441, 45859984, 45873529, 45887076, 45900625, 45914176, 45927729, 45941284, 45954841, 45968400, 45981961, 45995524, 46009089, 46022656, 46036225, 46049796, 46063369, 46076944, 46090521, 46104100, 46117681, 46131264, 46144849, 46158436, 46172025, 46185616, 46199209, 46212804, 46226401, 46240000, 46253601, 46267204, 46280809, 46294416, 46308025, 46321636, 46335249, 46348864, 46362481, 46376100, 46389721, 46403344, 46416969, 46430596, 46444225, 46457856, 46471489, 46485124, 46498761, 46512400, 46526041, 46539684, 46553329, 46566976, 46580625, 46594276, 46607929, 46621584, 46635241, 46648900, 46662561, 46676224, 46689889, 46703556, 46717225, 46730896, 46744569, 46758244, 46771921, 46785600, 46799281, 46812964, 46826649, 46840336, 46854025, 46867716, 46881409, 46895104, 46908801, 46922500, 46936201, 46949904, 46963609, 46977316, 46991025, 47004736, 47018449, 47032164, 47045881, 47059600, 47073321, 47087044, 47100769, 47114496, 47128225, 47141956, 47155689, 47169424, 47183161, 47196900, 47210641, 47224384, 47238129, 47251876, 47265625, 47279376, 47293129, 47306884, 47320641, 47334400, 47348161, 47361924, 47375689, 47389456, 47403225, 47416996, 47430769, 47444544, 47458321, 47472100, 47485881, 47499664, 47513449, 47527236, 47541025, 47554816, 47568609, 47582404, 47596201, 47610000, 47623801, 47637604, 47651409, 47665216, 47679025, 47692836, 47706649, 47720464, 47734281, 47748100, 47761921, 47775744, 47789569, 47803396, 47817225, 47831056, 47844889, 47858724, 47872561, 47886400, 47900241, 47914084, 47927929, 47941776, 47955625, 47969476, 47983329, 47997184, 48011041, 48024900, 48038761, 48052624, 48066489, 48080356, 48094225, 48108096, 48121969, 48135844, 48149721, 48163600, 48177481, 48191364, 48205249, 48219136, 48233025, 48246916, 48260809, 48274704, 48288601, 48302500, 48316401, 48330304, 48344209, 48358116, 48372025, 48385936, 48399849, 48413764, 48427681, 48441600, 48455521, 48469444, 48483369, 48497296, 48511225, 48525156, 48539089, 48553024, 48566961, 48580900, 48594841, 48608784, 48622729, 48636676, 48650625, 48664576, 48678529, 48692484, 48706441, 48720400, 48734361, 48748324, 48762289, 48776256, 48790225, 48804196, 48818169, 48832144, 48846121, 48860100, 48874081, 48888064, 48902049, 48916036, 48930025, 48944016, 48958009, 48972004, 48986001, 49000000, 49014001, 49028004, 49042009, 49056016, 49070025, 49084036, 49098049, 49112064, 49126081, 49140100, 49154121, 49168144, 49182169, 49196196, 49210225, 49224256, 49238289, 49252324, 49266361, 49280400, 49294441, 49308484, 49322529, 49336576, 49350625, 49364676, 49378729, 49392784, 49406841, 49420900, 49434961, 49449024, 49463089, 49477156, 49491225, 49505296, 49519369, 49533444, 49547521, 49561600, 49575681, 49589764, 49603849, 49617936, 49632025, 49646116, 49660209, 49674304, 49688401, 49702500, 49716601, 49730704, 49744809, 49758916, 49773025, 49787136, 49801249, 49815364, 49829481, 49843600, 49857721, 49871844, 49885969, 49900096, 49914225, 49928356, 49942489, 49956624, 49970761, 49984900, 49999041, 50013184, 50027329, 50041476, 50055625, 50069776, 50083929, 50098084, 50112241, 50126400, 50140561, 50154724, 50168889, 50183056, 50197225, 50211396, 50225569, 50239744, 50253921, 50268100, 50282281, 50296464, 50310649, 50324836, 50339025, 50353216, 50367409, 50381604, 50395801, 50410000, 50424201, 50438404, 50452609, 50466816, 50481025, 50495236, 50509449, 50523664, 50537881, 50552100, 50566321, 50580544, 50594769, 50608996, 50623225, 50637456, 50651689, 50665924, 50680161, 50694400, 50708641, 50722884, 50737129, 50751376, 50765625, 50779876, 50794129, 50808384, 50822641, 50836900, 50851161, 50865424, 50879689, 50893956, 50908225, 50922496, 50936769, 50951044, 50965321, 50979600, 50993881, 51008164, 51022449, 51036736, 51051025, 51065316, 51079609, 51093904, 51108201, 51122500, 51136801, 51151104, 51165409, 51179716, 51194025, 51208336, 51222649, 51236964, 51251281, 51265600, 51279921, 51294244, 51308569, 51322896, 51337225, 51351556, 51365889, 51380224, 51394561, 51408900, 51423241, 51437584, 51451929, 51466276, 51480625, 51494976, 51509329, 51523684, 51538041, 51552400, 51566761, 51581124, 51595489, 51609856, 51624225, 51638596, 51652969, 51667344, 51681721, 51696100, 51710481, 51724864, 51739249, 51753636, 51768025, 51782416, 51796809, 51811204, 51825601, 51840000, 51854401, 51868804, 51883209, 51897616, 51912025, 51926436, 51940849, 51955264, 51969681, 51984100, 51998521, 52012944, 52027369, 52041796, 52056225, 52070656, 52085089, 52099524, 52113961, 52128400, 52142841, 52157284, 52171729, 52186176, 52200625, 52215076, 52229529, 52243984, 52258441, 52272900, 52287361, 52301824, 52316289, 52330756, 52345225, 52359696, 52374169, 52388644, 52403121, 52417600, 52432081, 52446564, 52461049, 52475536, 52490025, 52504516, 52519009, 52533504, 52548001, 52562500, 52577001, 52591504, 52606009, 52620516, 52635025, 52649536, 52664049, 52678564, 52693081, 52707600, 52722121, 52736644, 52751169, 52765696, 52780225, 52794756, 52809289, 52823824, 52838361, 52852900, 52867441, 52881984, 52896529, 52911076, 52925625, 52940176, 52954729, 52969284, 52983841, 52998400, 53012961, 53027524, 53042089, 53056656, 53071225, 53085796, 53100369, 53114944, 53129521, 53144100, 53158681, 53173264, 53187849, 53202436, 53217025, 53231616, 53246209, 53260804, 53275401, 53290000, 53304601, 53319204, 53333809, 53348416, 53363025, 53377636, 53392249, 53406864, 53421481, 53436100, 53450721, 53465344, 53479969, 53494596, 53509225, 53523856, 53538489, 53553124, 53567761, 53582400, 53597041, 53611684, 53626329, 53640976, 53655625, 53670276, 53684929, 53699584, 53714241, 53728900, 53743561, 53758224, 53772889, 53787556, 53802225, 53816896, 53831569, 53846244, 53860921, 53875600, 53890281, 53904964, 53919649, 53934336, 53949025, 53963716, 53978409, 53993104, 54007801, 54022500, 54037201, 54051904, 54066609, 54081316, 54096025, 54110736, 54125449, 54140164, 54154881, 54169600, 54184321, 54199044, 54213769, 54228496, 54243225, 54257956, 54272689, 54287424, 54302161, 54316900, 54331641, 54346384, 54361129, 54375876, 54390625, 54405376, 54420129, 54434884, 54449641, 54464400, 54479161, 54493924, 54508689, 54523456, 54538225, 54552996, 54567769, 54582544, 54597321, 54612100, 54626881, 54641664, 54656449, 54671236, 54686025, 54700816, 54715609, 54730404, 54745201, 54760000, 54774801, 54789604, 54804409, 54819216, 54834025, 54848836, 54863649, 54878464, 54893281, 54908100, 54922921, 54937744, 54952569, 54967396, 54982225, 54997056, 55011889, 55026724, 55041561, 55056400, 55071241, 55086084, 55100929, 55115776, 55130625, 55145476, 55160329, 55175184, 55190041, 55204900, 55219761, 55234624, 55249489, 55264356, 55279225, 55294096, 55308969, 55323844, 55338721, 55353600, 55368481, 55383364, 55398249, 55413136, 55428025, 55442916, 55457809, 55472704, 55487601, 55502500, 55517401, 55532304, 55547209, 55562116, 55577025, 55591936, 55606849, 55621764, 55636681, 55651600, 55666521, 55681444, 55696369, 55711296, 55726225, 55741156, 55756089, 55771024, 55785961, 55800900, 55815841, 55830784, 55845729, 55860676, 55875625, 55890576, 55905529, 55920484, 55935441, 55950400, 55965361, 55980324, 55995289, 56010256, 56025225, 56040196, 56055169, 56070144, 56085121, 56100100, 56115081, 56130064, 56145049, 56160036, 56175025, 56190016, 56205009, 56220004, 56235001, 56250000, 56265001, 56280004, 56295009, 56310016, 56325025, 56340036, 56355049, 56370064, 56385081, 56400100, 56415121, 56430144, 56445169, 56460196, 56475225, 56490256, 56505289, 56520324, 56535361, 56550400, 56565441, 56580484, 56595529, 56610576, 56625625, 56640676, 56655729, 56670784, 56685841, 56700900, 56715961, 56731024, 56746089, 56761156, 56776225, 56791296, 56806369, 56821444, 56836521, 56851600, 56866681, 56881764, 56896849, 56911936, 56927025, 56942116, 56957209, 56972304, 56987401, 57002500, 57017601, 57032704, 57047809, 57062916, 57078025, 57093136, 57108249, 57123364, 57138481, 57153600, 57168721, 57183844, 57198969, 57214096, 57229225, 57244356, 57259489, 57274624, 57289761, 57304900, 57320041, 57335184, 57350329, 57365476, 57380625, 57395776, 57410929, 57426084, 57441241, 57456400, 57471561, 57486724, 57501889, 57517056, 57532225, 57547396, 57562569, 57577744, 57592921, 57608100, 57623281, 57638464, 57653649, 57668836, 57684025, 57699216, 57714409, 57729604, 57744801, 57760000, 57775201, 57790404, 57805609, 57820816, 57836025, 57851236, 57866449, 57881664, 57896881, 57912100, 57927321, 57942544, 57957769, 57972996, 57988225, 58003456, 58018689, 58033924, 58049161, 58064400, 58079641, 58094884, 58110129, 58125376, 58140625, 58155876, 58171129, 58186384, 58201641, 58216900, 58232161, 58247424, 58262689, 58277956, 58293225, 58308496, 58323769, 58339044, 58354321, 58369600, 58384881, 58400164, 58415449, 58430736, 58446025, 58461316, 58476609, 58491904, 58507201, 58522500, 58537801, 58553104, 58568409, 58583716, 58599025, 58614336, 58629649, 58644964, 58660281, 58675600, 58690921, 58706244, 58721569, 58736896, 58752225, 58767556, 58782889, 58798224, 58813561, 58828900, 58844241, 58859584, 58874929, 58890276, 58905625, 58920976, 58936329, 58951684, 58967041, 58982400, 58997761, 59013124, 59028489, 59043856, 59059225, 59074596, 59089969, 59105344, 59120721, 59136100, 59151481, 59166864, 59182249, 59197636, 59213025, 59228416, 59243809, 59259204, 59274601, 59290000, 59305401, 59320804, 59336209, 59351616, 59367025, 59382436, 59397849, 59413264, 59428681, 59444100, 59459521, 59474944, 59490369, 59505796, 59521225, 59536656, 59552089, 59567524, 59582961, 59598400, 59613841, 59629284, 59644729, 59660176, 59675625, 59691076, 59706529, 59721984, 59737441, 59752900, 59768361, 59783824, 59799289, 59814756, 59830225, 59845696, 59861169, 59876644, 59892121, 59907600, 59923081, 59938564, 59954049, 59969536, 59985025, 60000516, 60016009, 60031504, 60047001, 60062500, 60078001, 60093504, 60109009, 60124516, 60140025, 60155536, 60171049, 60186564, 60202081, 60217600, 60233121, 60248644, 60264169, 60279696, 60295225, 60310756, 60326289, 60341824, 60357361, 60372900, 60388441, 60403984, 60419529, 60435076, 60450625, 60466176, 60481729, 60497284, 60512841, 60528400, 60543961, 60559524, 60575089, 60590656, 60606225, 60621796, 60637369, 60652944, 60668521, 60684100, 60699681, 60715264, 60730849, 60746436, 60762025, 60777616, 60793209, 60808804, 60824401, 60840000, 60855601, 60871204, 60886809, 60902416, 60918025, 60933636, 60949249, 60964864, 60980481, 60996100, 61011721, 61027344, 61042969, 61058596, 61074225, 61089856, 61105489, 61121124, 61136761, 61152400, 61168041, 61183684, 61199329, 61214976, 61230625, 61246276, 61261929, 61277584, 61293241, 61308900, 61324561, 61340224, 61355889, 61371556, 61387225, 61402896, 61418569, 61434244, 61449921, 61465600, 61481281, 61496964, 61512649, 61528336, 61544025, 61559716, 61575409, 61591104, 61606801, 61622500, 61638201, 61653904, 61669609, 61685316, 61701025, 61716736, 61732449, 61748164, 61763881, 61779600, 61795321, 61811044, 61826769, 61842496, 61858225, 61873956, 61889689, 61905424, 61921161, 61936900, 61952641, 61968384, 61984129, 61999876, 62015625, 62031376, 62047129, 62062884, 62078641, 62094400, 62110161, 62125924, 62141689, 62157456, 62173225, 62188996, 62204769, 62220544, 62236321, 62252100, 62267881, 62283664, 62299449, 62315236, 62331025, 62346816, 62362609, 62378404, 62394201, 62410000, 62425801, 62441604, 62457409, 62473216, 62489025, 62504836, 62520649, 62536464, 62552281, 62568100, 62583921, 62599744, 62615569, 62631396, 62647225, 62663056, 62678889, 62694724, 62710561, 62726400, 62742241, 62758084, 62773929, 62789776, 62805625, 62821476, 62837329, 62853184, 62869041, 62884900, 62900761, 62916624, 62932489, 62948356, 62964225, 62980096, 62995969, 63011844, 63027721, 63043600, 63059481, 63075364, 63091249, 63107136, 63123025, 63138916, 63154809, 63170704, 63186601, 63202500, 63218401, 63234304, 63250209, 63266116, 63282025, 63297936, 63313849, 63329764, 63345681, 63361600, 63377521, 63393444, 63409369, 63425296, 63441225, 63457156, 63473089, 63489024, 63504961, 63520900, 63536841, 63552784, 63568729, 63584676, 63600625, 63616576, 63632529, 63648484, 63664441, 63680400, 63696361, 63712324, 63728289, 63744256, 63760225, 63776196, 63792169, 63808144, 63824121, 63840100, 63856081, 63872064, 63888049, 63904036, 63920025, 63936016, 63952009, 63968004, 63984001, 64000000, 64016001, 64032004, 64048009, 64064016, 64080025, 64096036, 64112049, 64128064, 64144081, 64160100, 64176121, 64192144, 64208169, 64224196, 64240225, 64256256, 64272289, 64288324, 64304361, 64320400, 64336441, 64352484, 64368529, 64384576, 64400625, 64416676, 64432729, 64448784, 64464841, 64480900, 64496961, 64513024, 64529089, 64545156, 64561225, 64577296, 64593369, 64609444, 64625521, 64641600, 64657681, 64673764, 64689849, 64705936, 64722025, 64738116, 64754209, 64770304, 64786401, 64802500, 64818601, 64834704, 64850809, 64866916, 64883025, 64899136, 64915249, 64931364, 64947481, 64963600, 64979721, 64995844, 65011969, 65028096, 65044225, 65060356, 65076489, 65092624, 65108761, 65124900, 65141041, 65157184, 65173329, 65189476, 65205625, 65221776, 65237929, 65254084, 65270241, 65286400, 65302561, 65318724, 65334889, 65351056, 65367225, 65383396, 65399569, 65415744, 65431921, 65448100, 65464281, 65480464, 65496649, 65512836, 65529025, 65545216, 65561409, 65577604, 65593801, 65610000, 65626201, 65642404, 65658609, 65674816, 65691025, 65707236, 65723449, 65739664, 65755881, 65772100, 65788321, 65804544, 65820769, 65836996, 65853225, 65869456, 65885689, 65901924, 65918161, 65934400, 65950641, 65966884, 65983129, 65999376, 66015625, 66031876, 66048129, 66064384, 66080641, 66096900, 66113161, 66129424, 66145689, 66161956, 66178225, 66194496, 66210769, 66227044, 66243321, 66259600, 66275881, 66292164, 66308449, 66324736, 66341025, 66357316, 66373609, 66389904, 66406201, 66422500, 66438801, 66455104, 66471409, 66487716, 66504025, 66520336, 66536649, 66552964, 66569281, 66585600, 66601921, 66618244, 66634569, 66650896, 66667225, 66683556, 66699889, 66716224, 66732561, 66748900, 66765241, 66781584, 66797929, 66814276, 66830625, 66846976, 66863329, 66879684, 66896041, 66912400, 66928761, 66945124, 66961489, 66977856, 66994225, 67010596, 67026969, 67043344, 67059721, 67076100, 67092481, 67108864, 67125249, 67141636, 67158025, 67174416, 67190809, 67207204, 67223601, 67240000, 67256401, 67272804, 67289209, 67305616, 67322025, 67338436, 67354849, 67371264, 67387681, 67404100, 67420521, 67436944, 67453369, 67469796, 67486225, 67502656, 67519089, 67535524, 67551961, 67568400, 67584841, 67601284, 67617729, 67634176, 67650625, 67667076, 67683529, 67699984, 67716441, 67732900, 67749361, 67765824, 67782289, 67798756, 67815225, 67831696, 67848169, 67864644, 67881121, 67897600, 67914081, 67930564, 67947049, 67963536, 67980025, 67996516, 68013009, 68029504, 68046001, 68062500, 68079001, 68095504, 68112009, 68128516, 68145025, 68161536, 68178049, 68194564, 68211081, 68227600, 68244121, 68260644, 68277169, 68293696, 68310225, 68326756, 68343289, 68359824, 68376361, 68392900, 68409441, 68425984, 68442529, 68459076, 68475625, 68492176, 68508729, 68525284, 68541841, 68558400, 68574961, 68591524, 68608089, 68624656, 68641225, 68657796, 68674369, 68690944, 68707521, 68724100, 68740681, 68757264, 68773849, 68790436, 68807025, 68823616, 68840209, 68856804, 68873401, 68890000, 68906601, 68923204, 68939809, 68956416, 68973025, 68989636, 69006249, 69022864, 69039481, 69056100, 69072721, 69089344, 69105969, 69122596, 69139225, 69155856, 69172489, 69189124, 69205761, 69222400, 69239041, 69255684, 69272329, 69288976, 69305625, 69322276, 69338929, 69355584, 69372241, 69388900, 69405561, 69422224, 69438889, 69455556, 69472225, 69488896, 69505569, 69522244, 69538921, 69555600, 69572281, 69588964, 69605649, 69622336, 69639025, 69655716, 69672409, 69689104, 69705801, 69722500, 69739201, 69755904, 69772609, 69789316, 69806025, 69822736, 69839449, 69856164, 69872881, 69889600, 69906321, 69923044, 69939769, 69956496, 69973225, 69989956, 70006689, 70023424, 70040161, 70056900, 70073641, 70090384, 70107129, 70123876, 70140625, 70157376, 70174129, 70190884, 70207641, 70224400, 70241161, 70257924, 70274689, 70291456, 70308225, 70324996, 70341769, 70358544, 70375321, 70392100, 70408881, 70425664, 70442449, 70459236, 70476025, 70492816, 70509609, 70526404, 70543201, 70560000, 70576801, 70593604, 70610409, 70627216, 70644025, 70660836, 70677649, 70694464, 70711281, 70728100, 70744921, 70761744, 70778569, 70795396, 70812225, 70829056, 70845889, 70862724, 70879561, 70896400, 70913241, 70930084, 70946929, 70963776, 70980625, 70997476, 71014329, 71031184, 71048041, 71064900, 71081761, 71098624, 71115489, 71132356, 71149225, 71166096, 71182969, 71199844, 71216721, 71233600, 71250481, 71267364, 71284249, 71301136, 71318025, 71334916, 71351809, 71368704, 71385601, 71402500, 71419401, 71436304, 71453209, 71470116, 71487025, 71503936, 71520849, 71537764, 71554681, 71571600, 71588521, 71605444, 71622369, 71639296, 71656225, 71673156, 71690089, 71707024, 71723961, 71740900, 71757841, 71774784, 71791729, 71808676, 71825625, 71842576, 71859529, 71876484, 71893441, 71910400, 71927361, 71944324, 71961289, 71978256, 71995225, 72012196, 72029169, 72046144, 72063121, 72080100, 72097081, 72114064, 72131049, 72148036, 72165025, 72182016, 72199009, 72216004, 72233001, 72250000, 72267001, 72284004, 72301009, 72318016, 72335025, 72352036, 72369049, 72386064, 72403081, 72420100, 72437121, 72454144, 72471169, 72488196, 72505225, 72522256, 72539289, 72556324, 72573361, 72590400, 72607441, 72624484, 72641529, 72658576, 72675625, 72692676, 72709729, 72726784, 72743841, 72760900, 72777961, 72795024, 72812089, 72829156, 72846225, 72863296, 72880369, 72897444, 72914521, 72931600, 72948681, 72965764, 72982849, 72999936, 73017025, 73034116, 73051209, 73068304, 73085401, 73102500, 73119601, 73136704, 73153809, 73170916, 73188025, 73205136, 73222249, 73239364, 73256481, 73273600, 73290721, 73307844, 73324969, 73342096, 73359225, 73376356, 73393489, 73410624, 73427761, 73444900, 73462041, 73479184, 73496329, 73513476, 73530625, 73547776, 73564929, 73582084, 73599241, 73616400, 73633561, 73650724, 73667889, 73685056, 73702225, 73719396, 73736569, 73753744, 73770921, 73788100, 73805281, 73822464, 73839649, 73856836, 73874025, 73891216, 73908409, 73925604, 73942801, 73960000, 73977201, 73994404, 74011609, 74028816, 74046025, 74063236, 74080449, 74097664, 74114881, 74132100, 74149321, 74166544, 74183769, 74200996, 74218225, 74235456, 74252689, 74269924, 74287161, 74304400, 74321641, 74338884, 74356129, 74373376, 74390625, 74407876, 74425129, 74442384, 74459641, 74476900, 74494161, 74511424, 74528689, 74545956, 74563225, 74580496, 74597769, 74615044, 74632321, 74649600, 74666881, 74684164, 74701449, 74718736, 74736025, 74753316, 74770609, 74787904, 74805201, 74822500, 74839801, 74857104, 74874409, 74891716, 74909025, 74926336, 74943649, 74960964, 74978281, 74995600, 75012921, 75030244, 75047569, 75064896, 75082225, 75099556, 75116889, 75134224, 75151561, 75168900, 75186241, 75203584, 75220929, 75238276, 75255625, 75272976, 75290329, 75307684, 75325041, 75342400, 75359761, 75377124, 75394489, 75411856, 75429225, 75446596, 75463969, 75481344, 75498721, 75516100, 75533481, 75550864, 75568249, 75585636, 75603025, 75620416, 75637809, 75655204, 75672601, 75690000, 75707401, 75724804, 75742209, 75759616, 75777025, 75794436, 75811849, 75829264, 75846681, 75864100, 75881521, 75898944, 75916369, 75933796, 75951225, 75968656, 75986089, 76003524, 76020961, 76038400, 76055841, 76073284, 76090729, 76108176, 76125625, 76143076, 76160529, 76177984, 76195441, 76212900, 76230361, 76247824, 76265289, 76282756, 76300225, 76317696, 76335169, 76352644, 76370121, 76387600, 76405081, 76422564, 76440049, 76457536, 76475025, 76492516, 76510009, 76527504, 76545001, 76562500, 76580001, 76597504, 76615009, 76632516, 76650025, 76667536, 76685049, 76702564, 76720081, 76737600, 76755121, 76772644, 76790169, 76807696, 76825225, 76842756, 76860289, 76877824, 76895361, 76912900, 76930441, 76947984, 76965529, 76983076, 77000625, 77018176, 77035729, 77053284, 77070841, 77088400, 77105961, 77123524, 77141089, 77158656, 77176225, 77193796, 77211369, 77228944, 77246521, 77264100, 77281681, 77299264, 77316849, 77334436, 77352025, 77369616, 77387209, 77404804, 77422401, 77440000, 77457601, 77475204, 77492809, 77510416, 77528025, 77545636, 77563249, 77580864, 77598481, 77616100, 77633721, 77651344, 77668969, 77686596, 77704225, 77721856, 77739489, 77757124, 77774761, 77792400, 77810041, 77827684, 77845329, 77862976, 77880625, 77898276, 77915929, 77933584, 77951241, 77968900, 77986561, 78004224, 78021889, 78039556, 78057225, 78074896, 78092569, 78110244, 78127921, 78145600, 78163281, 78180964, 78198649, 78216336, 78234025, 78251716, 78269409, 78287104, 78304801, 78322500, 78340201, 78357904, 78375609, 78393316, 78411025, 78428736, 78446449, 78464164, 78481881, 78499600, 78517321, 78535044, 78552769, 78570496, 78588225, 78605956, 78623689, 78641424, 78659161, 78676900, 78694641, 78712384, 78730129, 78747876, 78765625, 78783376, 78801129, 78818884, 78836641, 78854400, 78872161, 78889924, 78907689, 78925456, 78943225, 78960996, 78978769, 78996544, 79014321, 79032100, 79049881, 79067664, 79085449, 79103236, 79121025, 79138816, 79156609, 79174404, 79192201, 79210000, 79227801, 79245604, 79263409, 79281216, 79299025, 79316836, 79334649, 79352464, 79370281, 79388100, 79405921, 79423744, 79441569, 79459396, 79477225, 79495056, 79512889, 79530724, 79548561, 79566400, 79584241, 79602084, 79619929, 79637776, 79655625, 79673476, 79691329, 79709184, 79727041, 79744900, 79762761, 79780624, 79798489, 79816356, 79834225, 79852096, 79869969, 79887844, 79905721, 79923600, 79941481, 79959364, 79977249, 79995136, 80013025, 80030916, 80048809, 80066704, 80084601, 80102500, 80120401, 80138304, 80156209, 80174116, 80192025, 80209936, 80227849, 80245764, 80263681, 80281600, 80299521, 80317444, 80335369, 80353296, 80371225, 80389156, 80407089, 80425024, 80442961, 80460900, 80478841, 80496784, 80514729, 80532676, 80550625, 80568576, 80586529, 80604484, 80622441, 80640400, 80658361, 80676324, 80694289, 80712256, 80730225, 80748196, 80766169, 80784144, 80802121, 80820100, 80838081, 80856064, 80874049, 80892036, 80910025, 80928016, 80946009, 80964004, 80982001, 81000000, 81018001, 81036004, 81054009, 81072016, 81090025, 81108036, 81126049, 81144064, 81162081, 81180100, 81198121, 81216144, 81234169, 81252196, 81270225, 81288256, 81306289, 81324324, 81342361, 81360400, 81378441, 81396484, 81414529, 81432576, 81450625, 81468676, 81486729, 81504784, 81522841, 81540900, 81558961, 81577024, 81595089, 81613156, 81631225, 81649296, 81667369, 81685444, 81703521, 81721600, 81739681, 81757764, 81775849, 81793936, 81812025, 81830116, 81848209, 81866304, 81884401, 81902500, 81920601, 81938704, 81956809, 81974916, 81993025, 82011136, 82029249, 82047364, 82065481, 82083600, 82101721, 82119844, 82137969, 82156096, 82174225, 82192356, 82210489, 82228624, 82246761, 82264900, 82283041, 82301184, 82319329, 82337476, 82355625, 82373776, 82391929, 82410084, 82428241, 82446400, 82464561, 82482724, 82500889, 82519056, 82537225, 82555396, 82573569, 82591744, 82609921, 82628100, 82646281, 82664464, 82682649, 82700836, 82719025, 82737216, 82755409, 82773604, 82791801, 82810000, 82828201, 82846404, 82864609, 82882816, 82901025, 82919236, 82937449, 82955664, 82973881, 82992100, 83010321, 83028544, 83046769, 83064996, 83083225, 83101456, 83119689, 83137924, 83156161, 83174400, 83192641, 83210884, 83229129, 83247376, 83265625, 83283876, 83302129, 83320384, 83338641, 83356900, 83375161, 83393424, 83411689, 83429956, 83448225, 83466496, 83484769, 83503044, 83521321, 83539600, 83557881, 83576164, 83594449, 83612736, 83631025, 83649316, 83667609, 83685904, 83704201, 83722500, 83740801, 83759104, 83777409, 83795716, 83814025, 83832336, 83850649, 83868964, 83887281, 83905600, 83923921, 83942244, 83960569, 83978896, 83997225, 84015556, 84033889, 84052224, 84070561, 84088900, 84107241, 84125584, 84143929, 84162276, 84180625, 84198976, 84217329, 84235684, 84254041, 84272400, 84290761, 84309124, 84327489, 84345856, 84364225, 84382596, 84400969, 84419344, 84437721, 84456100, 84474481, 84492864, 84511249, 84529636, 84548025, 84566416, 84584809, 84603204, 84621601, 84640000, 84658401, 84676804, 84695209, 84713616, 84732025, 84750436, 84768849, 84787264, 84805681, 84824100, 84842521, 84860944, 84879369, 84897796, 84916225, 84934656, 84953089, 84971524, 84989961, 85008400, 85026841, 85045284, 85063729, 85082176, 85100625, 85119076, 85137529, 85155984, 85174441, 85192900, 85211361, 85229824, 85248289, 85266756, 85285225, 85303696, 85322169, 85340644, 85359121, 85377600, 85396081, 85414564, 85433049, 85451536, 85470025, 85488516, 85507009, 85525504, 85544001, 85562500, 85581001, 85599504, 85618009, 85636516, 85655025, 85673536, 85692049, 85710564, 85729081, 85747600, 85766121, 85784644, 85803169, 85821696, 85840225, 85858756, 85877289, 85895824, 85914361, 85932900, 85951441, 85969984, 85988529, 86007076, 86025625, 86044176, 86062729, 86081284, 86099841, 86118400, 86136961, 86155524, 86174089, 86192656, 86211225, 86229796, 86248369, 86266944, 86285521, 86304100, 86322681, 86341264, 86359849, 86378436, 86397025, 86415616, 86434209, 86452804, 86471401, 86490000, 86508601, 86527204, 86545809, 86564416, 86583025, 86601636, 86620249, 86638864, 86657481, 86676100, 86694721, 86713344, 86731969, 86750596, 86769225, 86787856, 86806489, 86825124, 86843761, 86862400, 86881041, 86899684, 86918329, 86936976, 86955625, 86974276, 86992929, 87011584, 87030241, 87048900, 87067561, 87086224, 87104889, 87123556, 87142225, 87160896, 87179569, 87198244, 87216921, 87235600, 87254281, 87272964, 87291649, 87310336, 87329025, 87347716, 87366409, 87385104, 87403801, 87422500, 87441201, 87459904, 87478609, 87497316, 87516025, 87534736, 87553449, 87572164, 87590881, 87609600, 87628321, 87647044, 87665769, 87684496, 87703225, 87721956, 87740689, 87759424, 87778161, 87796900, 87815641, 87834384, 87853129, 87871876, 87890625, 87909376, 87928129, 87946884, 87965641, 87984400, 88003161, 88021924, 88040689, 88059456, 88078225, 88096996, 88115769, 88134544, 88153321, 88172100, 88190881, 88209664, 88228449, 88247236, 88266025, 88284816, 88303609, 88322404, 88341201, 88360000, 88378801, 88397604, 88416409, 88435216, 88454025, 88472836, 88491649, 88510464, 88529281, 88548100, 88566921, 88585744, 88604569, 88623396, 88642225, 88661056, 88679889, 88698724, 88717561, 88736400, 88755241, 88774084, 88792929, 88811776, 88830625, 88849476, 88868329, 88887184, 88906041, 88924900, 88943761, 88962624, 88981489, 89000356, 89019225, 89038096, 89056969, 89075844, 89094721, 89113600, 89132481, 89151364, 89170249, 89189136, 89208025, 89226916, 89245809, 89264704, 89283601, 89302500, 89321401, 89340304, 89359209, 89378116, 89397025, 89415936, 89434849, 89453764, 89472681, 89491600, 89510521, 89529444, 89548369, 89567296, 89586225, 89605156, 89624089, 89643024, 89661961, 89680900, 89699841, 89718784, 89737729, 89756676, 89775625, 89794576, 89813529, 89832484, 89851441, 89870400, 89889361, 89908324, 89927289, 89946256, 89965225, 89984196, 90003169, 90022144, 90041121, 90060100, 90079081, 90098064, 90117049, 90136036, 90155025, 90174016, 90193009, 90212004, 90231001, 90250000, 90269001, 90288004, 90307009, 90326016, 90345025, 90364036, 90383049, 90402064, 90421081, 90440100, 90459121, 90478144, 90497169, 90516196, 90535225, 90554256, 90573289, 90592324, 90611361, 90630400, 90649441, 90668484, 90687529, 90706576, 90725625, 90744676, 90763729, 90782784, 90801841, 90820900, 90839961, 90859024, 90878089, 90897156, 90916225, 90935296, 90954369, 90973444, 90992521, 91011600, 91030681, 91049764, 91068849, 91087936, 91107025, 91126116, 91145209, 91164304, 91183401, 91202500, 91221601, 91240704, 91259809, 91278916, 91298025, 91317136, 91336249, 91355364, 91374481, 91393600, 91412721, 91431844, 91450969, 91470096, 91489225, 91508356, 91527489, 91546624, 91565761, 91584900, 91604041, 91623184, 91642329, 91661476, 91680625, 91699776, 91718929, 91738084, 91757241, 91776400, 91795561, 91814724, 91833889, 91853056, 91872225, 91891396, 91910569, 91929744, 91948921, 91968100, 91987281, 92006464, 92025649, 92044836, 92064025, 92083216, 92102409, 92121604, 92140801, 92160000, 92179201, 92198404, 92217609, 92236816, 92256025, 92275236, 92294449, 92313664, 92332881, 92352100, 92371321, 92390544, 92409769, 92428996, 92448225, 92467456, 92486689, 92505924, 92525161, 92544400, 92563641, 92582884, 92602129, 92621376, 92640625, 92659876, 92679129, 92698384, 92717641, 92736900, 92756161, 92775424, 92794689, 92813956, 92833225, 92852496, 92871769, 92891044, 92910321, 92929600, 92948881, 92968164, 92987449, 93006736, 93026025, 93045316, 93064609, 93083904, 93103201, 93122500, 93141801, 93161104, 93180409, 93199716, 93219025, 93238336, 93257649, 93276964, 93296281, 93315600, 93334921, 93354244, 93373569, 93392896, 93412225, 93431556, 93450889, 93470224, 93489561, 93508900, 93528241, 93547584, 93566929, 93586276, 93605625, 93624976, 93644329, 93663684, 93683041, 93702400, 93721761, 93741124, 93760489, 93779856, 93799225, 93818596, 93837969, 93857344, 93876721, 93896100, 93915481, 93934864, 93954249, 93973636, 93993025, 94012416, 94031809, 94051204, 94070601, 94090000, 94109401, 94128804, 94148209, 94167616, 94187025, 94206436, 94225849, 94245264, 94264681, 94284100, 94303521, 94322944, 94342369, 94361796, 94381225, 94400656, 94420089, 94439524, 94458961, 94478400, 94497841, 94517284, 94536729, 94556176, 94575625, 94595076, 94614529, 94633984, 94653441, 94672900, 94692361, 94711824, 94731289, 94750756, 94770225, 94789696, 94809169, 94828644, 94848121, 94867600, 94887081, 94906564, 94926049, 94945536, 94965025, 94984516, 95004009, 95023504, 95043001, 95062500, 95082001, 95101504, 95121009, 95140516, 95160025, 95179536, 95199049, 95218564, 95238081, 95257600, 95277121, 95296644, 95316169, 95335696, 95355225, 95374756, 95394289, 95413824, 95433361, 95452900, 95472441, 95491984, 95511529, 95531076, 95550625, 95570176, 95589729, 95609284, 95628841, 95648400, 95667961, 95687524, 95707089, 95726656, 95746225, 95765796, 95785369, 95804944, 95824521, 95844100, 95863681, 95883264, 95902849, 95922436, 95942025, 95961616, 95981209, 96000804, 96020401, 96040000, 96059601, 96079204, 96098809, 96118416, 96138025, 96157636, 96177249, 96196864, 96216481, 96236100, 96255721, 96275344, 96294969, 96314596, 96334225, 96353856, 96373489, 96393124, 96412761, 96432400, 96452041, 96471684, 96491329, 96510976, 96530625, 96550276, 96569929, 96589584, 96609241, 96628900, 96648561, 96668224, 96687889, 96707556, 96727225, 96746896, 96766569, 96786244, 96805921, 96825600, 96845281, 96864964, 96884649, 96904336, 96924025, 96943716, 96963409, 96983104, 97002801, 97022500, 97042201, 97061904, 97081609, 97101316, 97121025, 97140736, 97160449, 97180164, 97199881, 97219600, 97239321, 97259044, 97278769, 97298496, 97318225, 97337956, 97357689, 97377424, 97397161, 97416900, 97436641, 97456384, 97476129, 97495876, 97515625, 97535376, 97555129, 97574884, 97594641, 97614400, 97634161, 97653924, 97673689, 97693456, 97713225, 97732996, 97752769, 97772544, 97792321, 97812100, 97831881, 97851664, 97871449, 97891236, 97911025, 97930816, 97950609, 97970404, 97990201, 98010000, 98029801, 98049604, 98069409, 98089216, 98109025, 98128836, 98148649, 98168464, 98188281, 98208100, 98227921, 98247744, 98267569, 98287396, 98307225, 98327056, 98346889, 98366724, 98386561, 98406400, 98426241, 98446084, 98465929, 98485776, 98505625, 98525476, 98545329, 98565184, 98585041, 98604900, 98624761, 98644624, 98664489, 98684356, 98704225, 98724096, 98743969, 98763844, 98783721, 98803600, 98823481, 98843364, 98863249, 98883136, 98903025, 98922916, 98942809, 98962704, 98982601, 99002500, 99022401, 99042304, 99062209, 99082116, 99102025, 99121936, 99141849, 99161764, 99181681, 99201600, 99221521, 99241444, 99261369, 99281296, 99301225, 99321156, 99341089, 99361024, 99380961, 99400900, 99420841, 99440784, 99460729, 99480676, 99500625, 99520576, 99540529, 99560484, 99580441, 99600400, 99620361, 99640324, 99660289, 99680256, 99700225, 99720196, 99740169, 99760144, 99780121, 99800100, 99820081, 99840064, 99860049, 99880036, 99900025, 99920016, 99940009, 99960004, 99980001]\n",
            "CPU times: user 5.7 ms, sys: 3.14 ms, total: 8.84 ms\n",
            "Wall time: 10.6 ms\n"
          ]
        }
      ]
    },
    {
      "cell_type": "markdown",
      "source": [
        "# **Tuple**"
      ],
      "metadata": {
        "id": "6sOLdvL34MwX"
      }
    },
    {
      "cell_type": "markdown",
      "source": [
        "## *Basics*"
      ],
      "metadata": {
        "id": "tuLWbwvE84JS"
      }
    },
    {
      "cell_type": "code",
      "source": [
        "(1,2,5,8,13)"
      ],
      "metadata": {
        "colab": {
          "base_uri": "https://localhost:8080/"
        },
        "id": "1Yn31MRZ4KSD",
        "outputId": "d1e1760b-0c55-4dba-ec81-9b0d49c77f5d"
      },
      "execution_count": null,
      "outputs": [
        {
          "output_type": "execute_result",
          "data": {
            "text/plain": [
              "(1, 2, 5, 8, 13)"
            ]
          },
          "metadata": {},
          "execution_count": 88
        }
      ]
    },
    {
      "cell_type": "code",
      "source": [
        "A=(1,2,5,2)\n",
        "print(len(A))\n",
        "print(type(A))"
      ],
      "metadata": {
        "colab": {
          "base_uri": "https://localhost:8080/"
        },
        "id": "k94T3iMC0S2l",
        "outputId": "687062bb-9147-495c-8145-bff1b2350f81"
      },
      "execution_count": null,
      "outputs": [
        {
          "output_type": "stream",
          "name": "stdout",
          "text": [
            "4\n",
            "<class 'tuple'>\n"
          ]
        }
      ]
    },
    {
      "cell_type": "code",
      "source": [
        "tuple1 = (\"abc\", 34, True, 40, \"male\")\n",
        "tuple1"
      ],
      "metadata": {
        "colab": {
          "base_uri": "https://localhost:8080/"
        },
        "id": "Bwluq3pg4jQn",
        "outputId": "67d1f44c-6feb-4320-ca9f-26b800fad6d2"
      },
      "execution_count": null,
      "outputs": [
        {
          "output_type": "execute_result",
          "data": {
            "text/plain": [
              "('abc', 34, True, 40, 'male')"
            ]
          },
          "metadata": {},
          "execution_count": 90
        }
      ]
    },
    {
      "cell_type": "code",
      "source": [
        "###############Ques\n",
        "\n",
        "thistuple = (\"apple\",)\n",
        "print(type(thistuple))\n",
        "\n",
        "#NOT a tuple\n",
        "thistuple = (\"apple\")\n",
        "print(type(thistuple))"
      ],
      "metadata": {
        "colab": {
          "base_uri": "https://localhost:8080/"
        },
        "id": "uJ0LMSA51wtW",
        "outputId": "618ecc01-c17b-41bb-937e-5a20da5ce92c"
      },
      "execution_count": null,
      "outputs": [
        {
          "output_type": "stream",
          "name": "stdout",
          "text": [
            "<class 'tuple'>\n",
            "<class 'str'>\n"
          ]
        }
      ]
    },
    {
      "cell_type": "code",
      "source": [
        "A=[2]\n",
        "type(A)"
      ],
      "metadata": {
        "colab": {
          "base_uri": "https://localhost:8080/"
        },
        "id": "Zwrzqhw52DBv",
        "outputId": "4246187d-c08e-4252-b2a4-eb5a8239802e"
      },
      "execution_count": null,
      "outputs": [
        {
          "output_type": "execute_result",
          "data": {
            "text/plain": [
              "list"
            ]
          },
          "metadata": {},
          "execution_count": 94
        }
      ]
    },
    {
      "cell_type": "code",
      "source": [
        "thistuple = (\"apple\", \"banana\", \"cherry\")\n",
        "print(thistuple[1])"
      ],
      "metadata": {
        "colab": {
          "base_uri": "https://localhost:8080/"
        },
        "id": "0AFF0ycE2NoC",
        "outputId": "bc8542e8-8f2e-4d70-d1d4-1bc9b79541d3"
      },
      "execution_count": null,
      "outputs": [
        {
          "output_type": "stream",
          "name": "stdout",
          "text": [
            "banana\n"
          ]
        }
      ]
    },
    {
      "cell_type": "code",
      "source": [
        "thistuple = (\"apple\", \"banana\", \"cherry\")\n",
        "print(thistuple[-1])"
      ],
      "metadata": {
        "colab": {
          "base_uri": "https://localhost:8080/"
        },
        "id": "gt0EH7NW5Go0",
        "outputId": "9155c45f-030c-4f14-824f-e9a9b0b41b26"
      },
      "execution_count": null,
      "outputs": [
        {
          "output_type": "stream",
          "name": "stdout",
          "text": [
            "cherry\n"
          ]
        }
      ]
    },
    {
      "cell_type": "code",
      "source": [
        "thistuple = (\"apple\", \"banana\", \"cherry\", \"orange\", \"kiwi\", \"melon\", \"mango\")\n",
        "print(thistuple[2:5])"
      ],
      "metadata": {
        "colab": {
          "base_uri": "https://localhost:8080/"
        },
        "id": "P8nUpbgW5Jt5",
        "outputId": "15e5d1ec-aa44-4e0c-e9f0-9d002c9e39fb"
      },
      "execution_count": null,
      "outputs": [
        {
          "output_type": "stream",
          "name": "stdout",
          "text": [
            "('cherry', 'orange', 'kiwi')\n"
          ]
        }
      ]
    },
    {
      "cell_type": "code",
      "source": [
        "thistuple = (\"apple\", \"banana\", \"cherry\")\n",
        "if \"apple\" in thistuple:\n",
        "  print(\"Yes, 'apple' is in the fruits tuple\")"
      ],
      "metadata": {
        "colab": {
          "base_uri": "https://localhost:8080/"
        },
        "id": "pZrDQjiq5fAq",
        "outputId": "f94aeef5-6684-4b22-a660-9ea3fcba8c59"
      },
      "execution_count": null,
      "outputs": [
        {
          "output_type": "stream",
          "name": "stdout",
          "text": [
            "Yes, 'apple' is in the fruits tuple\n"
          ]
        }
      ]
    },
    {
      "cell_type": "markdown",
      "source": [
        "## *Updation*"
      ],
      "metadata": {
        "id": "fKZroCnX6HSE"
      }
    },
    {
      "cell_type": "code",
      "source": [
        "x = (\"apple\", \"banana\", \"cherry\")\n",
        "print(id(x))\n",
        "y = list(x)\n",
        "y[1] = \"kiwi\"\n",
        "x = tuple(y)\n",
        "\n",
        "print(x)\n",
        "print(id(x))"
      ],
      "metadata": {
        "colab": {
          "base_uri": "https://localhost:8080/"
        },
        "id": "l8sz0TJm5xI3",
        "outputId": "3e9c22be-8274-496a-c323-81b93970882a"
      },
      "execution_count": null,
      "outputs": [
        {
          "output_type": "stream",
          "name": "stdout",
          "text": [
            "139923914636976\n",
            "('apple', 'kiwi', 'cherry')\n",
            "139923914367376\n"
          ]
        }
      ]
    },
    {
      "cell_type": "markdown",
      "source": [
        "## *Unpacking*"
      ],
      "metadata": {
        "id": "3K3U8gO86mu9"
      }
    },
    {
      "cell_type": "code",
      "source": [
        "fruits = (\"apple\", \"banana\", \"cherry\")\n",
        "\n",
        "(green, yellow, red) = fruits\n",
        "\n",
        "print(green)\n",
        "print(yellow)\n",
        "print(red)"
      ],
      "metadata": {
        "colab": {
          "base_uri": "https://localhost:8080/"
        },
        "id": "UVMBds687G32",
        "outputId": "653617dd-36c4-4b5b-8de6-6c5e59a7f8bf"
      },
      "execution_count": null,
      "outputs": [
        {
          "output_type": "stream",
          "name": "stdout",
          "text": [
            "apple\n",
            "banana\n",
            "cherry\n"
          ]
        }
      ]
    },
    {
      "cell_type": "code",
      "source": [
        "fruits = (\"apple\", \"banana\", \"cherry\", \"strawberry\", \"raspberry\")\n",
        "\n",
        "(green, yellow, *red) = fruits\n",
        "\n",
        "print(green)\n",
        "print(yellow)\n",
        "print(red)\n",
        "type(red)"
      ],
      "metadata": {
        "colab": {
          "base_uri": "https://localhost:8080/"
        },
        "id": "F7mFf6Pp7J6P",
        "outputId": "6fcff0ff-02ff-43e1-c404-163a50828b74"
      },
      "execution_count": null,
      "outputs": [
        {
          "output_type": "stream",
          "name": "stdout",
          "text": [
            "apple\n",
            "banana\n",
            "['cherry', 'strawberry', 'raspberry']\n"
          ]
        },
        {
          "output_type": "execute_result",
          "data": {
            "text/plain": [
              "list"
            ]
          },
          "metadata": {},
          "execution_count": 102
        }
      ]
    },
    {
      "cell_type": "code",
      "source": [
        "fruits = (\"apple\", \"mango\", \"papaya\", \"pineapple\", \"cherry\")\n",
        "\n",
        "(green, *tropic, red) = fruits\n",
        "\n",
        "print(green)\n",
        "print(tropic)\n",
        "print(red)"
      ],
      "metadata": {
        "colab": {
          "base_uri": "https://localhost:8080/"
        },
        "id": "54P1FL4B7e-q",
        "outputId": "b7d6ebaa-bc1a-49e4-bd9b-bb0662b0ccd0"
      },
      "execution_count": null,
      "outputs": [
        {
          "output_type": "stream",
          "name": "stdout",
          "text": [
            "apple\n",
            "['mango', 'papaya', 'pineapple']\n",
            "cherry\n"
          ]
        }
      ]
    },
    {
      "cell_type": "code",
      "source": [
        "fruits = (\"apple\", \"mango\", \"papaya\", \"pineapple\", \"cherry\")\n",
        "\n",
        "(*green, tropic, red,blue) = fruits\n",
        "\n",
        "print(green)\n",
        "print(tropic)\n",
        "print(red)"
      ],
      "metadata": {
        "colab": {
          "base_uri": "https://localhost:8080/"
        },
        "id": "KWvpY4ij7jJt",
        "outputId": "c233bc49-c3c9-412b-c121-9b37815ae2a2"
      },
      "execution_count": null,
      "outputs": [
        {
          "output_type": "stream",
          "name": "stdout",
          "text": [
            "['apple', 'mango']\n",
            "papaya\n",
            "pineapple\n"
          ]
        }
      ]
    },
    {
      "cell_type": "code",
      "source": [
        "a,*b=[1,2,3]\n",
        "a"
      ],
      "metadata": {
        "colab": {
          "base_uri": "https://localhost:8080/"
        },
        "id": "6eV5l8Ki6YqQ",
        "outputId": "207905d2-f52a-4fdd-86df-cda2c9f2c8f2"
      },
      "execution_count": null,
      "outputs": [
        {
          "output_type": "execute_result",
          "data": {
            "text/plain": [
              "1"
            ]
          },
          "metadata": {},
          "execution_count": 105
        }
      ]
    },
    {
      "cell_type": "code",
      "source": [
        "b"
      ],
      "metadata": {
        "colab": {
          "base_uri": "https://localhost:8080/"
        },
        "id": "hhNYuDBy63fh",
        "outputId": "166731b9-1098-4c6f-d0eb-0091d017b7c4"
      },
      "execution_count": null,
      "outputs": [
        {
          "output_type": "execute_result",
          "data": {
            "text/plain": [
              "[2, 3]"
            ]
          },
          "metadata": {},
          "execution_count": 106
        }
      ]
    },
    {
      "cell_type": "markdown",
      "source": [
        "## *Looping*"
      ],
      "metadata": {
        "id": "WqgjGfkc8NkP"
      }
    },
    {
      "cell_type": "code",
      "source": [
        "thistuple = (\"apple\", \"banana\", \"cherry\")\n",
        "for x in thistuple:\n",
        "  print(x)"
      ],
      "metadata": {
        "colab": {
          "base_uri": "https://localhost:8080/"
        },
        "id": "gnFbM_YY6-zM",
        "outputId": "0da65891-dd79-4649-f75c-d9fa5080d4a7"
      },
      "execution_count": null,
      "outputs": [
        {
          "output_type": "stream",
          "name": "stdout",
          "text": [
            "apple\n",
            "banana\n",
            "cherry\n"
          ]
        }
      ]
    },
    {
      "cell_type": "markdown",
      "source": [
        "## *Join*"
      ],
      "metadata": {
        "id": "ul9I_3ee8XyN"
      }
    },
    {
      "cell_type": "code",
      "source": [
        "tuple1 = (\"a\", \"b\" , \"c\")\n",
        "tuple2 = (1, 2, 3)\n",
        "\n",
        "tuple3 = tuple1 + tuple2\n",
        "print(tuple3)"
      ],
      "metadata": {
        "colab": {
          "base_uri": "https://localhost:8080/"
        },
        "id": "3hJMpyJr8BAw",
        "outputId": "811d869d-2268-437f-d852-f2fe5200f33e"
      },
      "execution_count": null,
      "outputs": [
        {
          "output_type": "stream",
          "name": "stdout",
          "text": [
            "('a', 'b', 'c', 1, 2, 3)\n"
          ]
        }
      ]
    },
    {
      "cell_type": "code",
      "source": [
        "fruits = [\"apple\", \"banana\", \"cherry\"]\n",
        "mytuple = fruits * 2\n",
        "\n",
        "print(mytuple)"
      ],
      "metadata": {
        "colab": {
          "base_uri": "https://localhost:8080/"
        },
        "id": "X0ADb2cT8sgo",
        "outputId": "2638d797-2c08-497c-f77b-493cbdb92d82"
      },
      "execution_count": null,
      "outputs": [
        {
          "output_type": "stream",
          "name": "stdout",
          "text": [
            "['apple', 'banana', 'cherry', 'apple', 'banana', 'cherry']\n"
          ]
        }
      ]
    },
    {
      "cell_type": "code",
      "source": [
        "#a=[0,0,0,0,0]\n",
        "A=[0]*5\n",
        "A"
      ],
      "metadata": {
        "colab": {
          "base_uri": "https://localhost:8080/"
        },
        "id": "vGDe3opr2yer",
        "outputId": "34756e28-f5a5-49ba-e3f2-139d202f2c11"
      },
      "execution_count": null,
      "outputs": [
        {
          "output_type": "execute_result",
          "data": {
            "text/plain": [
              "[0, 0, 0, 0, 0]"
            ]
          },
          "metadata": {},
          "execution_count": 114
        }
      ]
    },
    {
      "cell_type": "code",
      "source": [
        "\"A\"*5"
      ],
      "metadata": {
        "colab": {
          "base_uri": "https://localhost:8080/",
          "height": 35
        },
        "id": "MzcyP9Wf3ST3",
        "outputId": "b3b2bd80-0e70-435e-fa56-5e5dff2282fe"
      },
      "execution_count": null,
      "outputs": [
        {
          "output_type": "execute_result",
          "data": {
            "application/vnd.google.colaboratory.intrinsic+json": {
              "type": "string"
            },
            "text/plain": [
              "'AAAAA'"
            ]
          },
          "metadata": {},
          "execution_count": 115
        }
      ]
    },
    {
      "cell_type": "markdown",
      "source": [
        "## **Question**"
      ],
      "metadata": {
        "id": "VB7ijeDB2lBL"
      }
    },
    {
      "cell_type": "markdown",
      "source": [
        "Write a program to exchange 2 numbers"
      ],
      "metadata": {
        "id": "XU2LgFHT3GO5"
      }
    },
    {
      "cell_type": "code",
      "source": [
        "A=2\n",
        "B=3\n",
        "\n",
        "(A,B)=B,A\n",
        "A,B"
      ],
      "metadata": {
        "id": "x-53QShf8wmW",
        "colab": {
          "base_uri": "https://localhost:8080/"
        },
        "outputId": "b5d5791f-4945-46e6-af37-fdecb54b36ab"
      },
      "execution_count": null,
      "outputs": [
        {
          "output_type": "execute_result",
          "data": {
            "text/plain": [
              "(3, 2)"
            ]
          },
          "metadata": {},
          "execution_count": 119
        }
      ]
    },
    {
      "cell_type": "markdown",
      "source": [
        "# **Sets**"
      ],
      "metadata": {
        "id": "joMn5P279FxD"
      }
    },
    {
      "cell_type": "markdown",
      "source": [
        "![setss.png](data:image/png;base64,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)"
      ],
      "metadata": {
        "id": "x8u1cUwx4gxm"
      }
    },
    {
      "cell_type": "markdown",
      "source": [
        "## *Basics*"
      ],
      "metadata": {
        "id": "j6zHFcU9rs6r"
      }
    },
    {
      "cell_type": "code",
      "source": [
        "{1,2,3,1,5,5}"
      ],
      "metadata": {
        "colab": {
          "base_uri": "https://localhost:8080/"
        },
        "id": "DyfYsx_s-nIr",
        "outputId": "1686705e-2281-42a3-e882-fd5330bd21f1"
      },
      "execution_count": null,
      "outputs": [
        {
          "output_type": "execute_result",
          "data": {
            "text/plain": [
              "{1, 2, 3, 5}"
            ]
          },
          "metadata": {},
          "execution_count": 121
        }
      ]
    },
    {
      "cell_type": "code",
      "source": [
        "thisset = {\"apple\", \"banana\", \"cherry\", \"apple\",1,False}\n",
        "\n",
        "print(thisset)"
      ],
      "metadata": {
        "colab": {
          "base_uri": "https://localhost:8080/"
        },
        "id": "3m6Cw8OC-qkl",
        "outputId": "e08b49de-1cb2-411f-cc98-ef1172a98b79"
      },
      "execution_count": null,
      "outputs": [
        {
          "output_type": "stream",
          "name": "stdout",
          "text": [
            "{False, 1, 'apple', 'cherry', 'banana'}\n"
          ]
        }
      ]
    },
    {
      "cell_type": "code",
      "source": [
        "myset = {\"apple\", \"banana\", \"cherry\"}\n",
        "print(type(myset))\n",
        "print(len(myset))"
      ],
      "metadata": {
        "colab": {
          "base_uri": "https://localhost:8080/"
        },
        "id": "ZxcYAVok-r0A",
        "outputId": "bb945385-acaf-4dd2-8663-292cc88eb1e1"
      },
      "execution_count": null,
      "outputs": [
        {
          "output_type": "stream",
          "name": "stdout",
          "text": [
            "<class 'set'>\n",
            "3\n"
          ]
        }
      ]
    },
    {
      "cell_type": "markdown",
      "source": [
        "## *Access Items*"
      ],
      "metadata": {
        "id": "390jvadvxOmn"
      }
    },
    {
      "cell_type": "markdown",
      "source": [
        "You cannot access items in a set by referring to an index or a key.\n",
        "\n",
        "But you can loop through the set items using a for loop, or ask if a specified value is present in a set, by using the in keyword."
      ],
      "metadata": {
        "id": "NHEVcRsBxje9"
      }
    },
    {
      "cell_type": "code",
      "source": [
        "thisset = {\"apple\", \"banana\", \"cherry\",1}\n",
        "\n",
        "for x in thisset:\n",
        "  print(x)"
      ],
      "metadata": {
        "colab": {
          "base_uri": "https://localhost:8080/"
        },
        "id": "WgleXlXPxY3H",
        "outputId": "19ffe752-ef9f-4713-93cc-ffcfe3641fda"
      },
      "execution_count": null,
      "outputs": [
        {
          "output_type": "stream",
          "name": "stdout",
          "text": [
            "cherry\n",
            "banana\n",
            "apple\n",
            "1\n"
          ]
        }
      ]
    },
    {
      "cell_type": "code",
      "source": [
        "thistuple=(1,2,2)\n",
        "list(set(thistuple))"
      ],
      "metadata": {
        "colab": {
          "base_uri": "https://localhost:8080/"
        },
        "id": "MYh42Qxk5X9K",
        "outputId": "cd03cbe0-c0b2-411f-c029-39f85fe1c910"
      },
      "execution_count": null,
      "outputs": [
        {
          "output_type": "execute_result",
          "data": {
            "text/plain": [
              "[1, 2]"
            ]
          },
          "metadata": {},
          "execution_count": 129
        }
      ]
    },
    {
      "cell_type": "markdown",
      "source": [
        "## *Adding Items*"
      ],
      "metadata": {
        "id": "WdXIZqM0xyxC"
      }
    },
    {
      "cell_type": "markdown",
      "source": [
        "Once a set is created, you cannot change its items, but you can add new items."
      ],
      "metadata": {
        "id": "IrXnU0pdyDkW"
      }
    },
    {
      "cell_type": "code",
      "source": [
        "thisset = {\"apple\", \"banana\", \"cherry\"}\n",
        "\n",
        "thisset.add(\"orange\")\n",
        "\n",
        "print(thisset)"
      ],
      "metadata": {
        "colab": {
          "base_uri": "https://localhost:8080/"
        },
        "id": "dTKks68i_EYr",
        "outputId": "4c3c3ea4-5921-4c3d-c4e1-138f72270606"
      },
      "execution_count": null,
      "outputs": [
        {
          "output_type": "stream",
          "name": "stdout",
          "text": [
            "{'cherry', 'banana', 'apple', 'orange'}\n"
          ]
        }
      ]
    },
    {
      "cell_type": "code",
      "source": [
        "thisset = {\"apple\", \"banana\", \"cherry\"}\n",
        "tropical = {\"pineapple\", \"mango\", \"papaya\"}\n",
        "\n",
        "thisset.update(tropical)\n",
        "\n",
        "print(thisset)"
      ],
      "metadata": {
        "colab": {
          "base_uri": "https://localhost:8080/"
        },
        "id": "Wn-QhUt6xMco",
        "outputId": "08188547-430e-424e-e0d8-bdbe7f8a4a06"
      },
      "execution_count": null,
      "outputs": [
        {
          "output_type": "stream",
          "name": "stdout",
          "text": [
            "{'pineapple', 'banana', 'mango', 'apple', 'cherry', 'papaya'}\n"
          ]
        }
      ]
    },
    {
      "cell_type": "code",
      "source": [
        "thisset = {\"apple\", \"banana\", \"cherry\"}\n",
        "tropical = [\"pineapple\", \"mango\", \"papaya\"]\n",
        "\n",
        "thisset.update(tropical)\n",
        "\n",
        "print(thisset)"
      ],
      "metadata": {
        "id": "OyIK_5k0_b-6",
        "colab": {
          "base_uri": "https://localhost:8080/"
        },
        "outputId": "6ad1f231-2728-4c3b-93ef-daa23ccd2f09"
      },
      "execution_count": null,
      "outputs": [
        {
          "output_type": "stream",
          "name": "stdout",
          "text": [
            "{'pineapple', 'mango', 'apple', 'cherry', 'papaya', 'banana'}\n"
          ]
        }
      ]
    },
    {
      "cell_type": "code",
      "source": [
        "thisset = {\"apple\", \"banana\", \"cherry\"}\n",
        "tropical = (\"pineapple\", \"mango\", \"papaya\")\n",
        "\n",
        "thisset.add(tropical)\n",
        "\n",
        "print(thisset)"
      ],
      "metadata": {
        "colab": {
          "base_uri": "https://localhost:8080/"
        },
        "id": "ngusp8j1yZnS",
        "outputId": "64261cf7-b954-4da5-e57a-bab927768f56"
      },
      "execution_count": null,
      "outputs": [
        {
          "output_type": "stream",
          "name": "stdout",
          "text": [
            "{'cherry', 'banana', ('pineapple', 'mango', 'papaya'), 'apple'}\n"
          ]
        }
      ]
    },
    {
      "cell_type": "markdown",
      "source": [
        "## Removing Items"
      ],
      "metadata": {
        "id": "Y0f9PKKDyiRi"
      }
    },
    {
      "cell_type": "code",
      "source": [
        "thisset = {\"apple\", \"banana\", \"cherry\"}\n",
        "\n",
        "thisset.remove(\"banana\")\n",
        "\n",
        "print(thisset)\n"
      ],
      "metadata": {
        "colab": {
          "base_uri": "https://localhost:8080/"
        },
        "id": "jjJ2WLcIych6",
        "outputId": "38f3e018-0b97-410c-bd09-0019241829ec"
      },
      "execution_count": null,
      "outputs": [
        {
          "output_type": "stream",
          "name": "stdout",
          "text": [
            "{'cherry', 'apple'}\n"
          ]
        }
      ]
    },
    {
      "cell_type": "markdown",
      "source": [
        "## *Union Operation*"
      ],
      "metadata": {
        "id": "sG4UtGi3z2tB"
      }
    },
    {
      "cell_type": "markdown",
      "source": [
        "![setss.png](data:image/png;base64,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)"
      ],
      "metadata": {
        "id": "0vQFrC_x5Lf4"
      }
    },
    {
      "cell_type": "code",
      "source": [
        "set1 = {\"a\", \"b\" , \"c\"}\n",
        "set2 = {1, 2, 3}\n",
        "\n",
        "set3 = set1.union(set2)\n",
        "print(set3)"
      ],
      "metadata": {
        "colab": {
          "base_uri": "https://localhost:8080/"
        },
        "id": "4TyvYspLz1mZ",
        "outputId": "9d4b7983-2900-40c8-f00b-46960f64fcd6"
      },
      "execution_count": null,
      "outputs": [
        {
          "output_type": "stream",
          "name": "stdout",
          "text": [
            "{1, 2, 'b', 3, 'c', 'a'}\n"
          ]
        }
      ]
    },
    {
      "cell_type": "code",
      "source": [
        "set1 = {\"a\", \"b\" , \"c\"}\n",
        "set2 = {1, 2, 3}\n",
        "\n",
        "set1.update(set2)\n",
        "print(set1)"
      ],
      "metadata": {
        "colab": {
          "base_uri": "https://localhost:8080/"
        },
        "id": "hut94i4n1Myr",
        "outputId": "f6739f60-12f9-49c6-84be-7c298e2a42aa"
      },
      "execution_count": null,
      "outputs": [
        {
          "output_type": "stream",
          "name": "stdout",
          "text": [
            "{1, 2, 'b', 3, 'c', 'a'}\n"
          ]
        }
      ]
    },
    {
      "cell_type": "markdown",
      "source": [
        "## *Intersection Operation*"
      ],
      "metadata": {
        "id": "Bxpuzv5G0KWj"
      }
    },
    {
      "cell_type": "markdown",
      "source": [
        "![setss.png](data:image/png;base64,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)"
      ],
      "metadata": {
        "id": "_cSakM4S5UfH"
      }
    },
    {
      "cell_type": "code",
      "source": [
        "x = {\"apple\", \"banana\", \"cherry\"}\n",
        "y = {\"google\", \"microsoft\", \"apple\"}\n",
        "\n",
        "x.intersection_update(y)\n",
        "\n",
        "print(x)"
      ],
      "metadata": {
        "colab": {
          "base_uri": "https://localhost:8080/"
        },
        "id": "w2casO5k0I6I",
        "outputId": "af914816-ba2f-46d1-90bd-9d1f13607c5f"
      },
      "execution_count": null,
      "outputs": [
        {
          "output_type": "stream",
          "name": "stdout",
          "text": [
            "{'apple'}\n"
          ]
        }
      ]
    },
    {
      "cell_type": "code",
      "source": [
        "x = {\"apple\", \"banana\", \"cherry\"}\n",
        "y = {\"google\", \"microsoft\", \"apple\"}\n",
        "\n",
        "z = x.intersection(y)\n",
        "\n",
        "print(z)"
      ],
      "metadata": {
        "colab": {
          "base_uri": "https://localhost:8080/"
        },
        "id": "V-VdSFqgyvQi",
        "outputId": "9b3fefcc-615f-49b2-8dff-2ff2d42eb7d0"
      },
      "execution_count": null,
      "outputs": [
        {
          "output_type": "stream",
          "name": "stdout",
          "text": [
            "{'apple'}\n"
          ]
        }
      ]
    },
    {
      "cell_type": "markdown",
      "source": [
        "## *Symmetric Difference*"
      ],
      "metadata": {
        "id": "0_6h9hJB0vZM"
      }
    },
    {
      "cell_type": "markdown",
      "source": [
        "![setss.png](data:image/png;base64,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)"
      ],
      "metadata": {
        "id": "Mye_cl0a5c8L"
      }
    },
    {
      "cell_type": "code",
      "source": [
        "x = {\"apple\", \"banana\", \"cherry\"}\n",
        "y = {\"google\", \"microsoft\", \"apple\"}\n",
        "\n",
        "x.symmetric_difference_update(y)\n",
        "\n",
        "print(x)\n"
      ],
      "metadata": {
        "colab": {
          "base_uri": "https://localhost:8080/"
        },
        "id": "ljF5fWQn0ugx",
        "outputId": "4531b5d7-b3fd-46f6-882d-101c39a85c42"
      },
      "execution_count": null,
      "outputs": [
        {
          "output_type": "stream",
          "name": "stdout",
          "text": [
            "{'microsoft', 'banana', 'google', 'cherry'}\n"
          ]
        }
      ]
    },
    {
      "cell_type": "code",
      "source": [
        "x = {\"apple\", \"banana\", \"cherry\"}\n",
        "y = {\"google\", \"microsoft\", \"apple\"}\n",
        "\n",
        "z = x.symmetric_difference(y)\n",
        "\n",
        "print(z)"
      ],
      "metadata": {
        "colab": {
          "base_uri": "https://localhost:8080/"
        },
        "id": "jyF09Iou0evW",
        "outputId": "bfe2270d-1fcf-4220-f81e-8a39562eca63"
      },
      "execution_count": null,
      "outputs": [
        {
          "output_type": "stream",
          "name": "stdout",
          "text": [
            "{'microsoft', 'cherry', 'google', 'banana'}\n"
          ]
        }
      ]
    },
    {
      "cell_type": "markdown",
      "source": [
        "## *Difference*"
      ],
      "metadata": {
        "id": "T6P4R76I1fyg"
      }
    },
    {
      "cell_type": "markdown",
      "source": [
        "![setss.png](data:image/png;base64,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)"
      ],
      "metadata": {
        "id": "um5dLOml5tsp"
      }
    },
    {
      "cell_type": "code",
      "source": [
        "x = {\"apple\", \"banana\", \"cherry\"}\n",
        "y = {\"google\", \"microsoft\", \"apple\"}\n",
        "\n",
        "z = y.difference(x)\n",
        "\n",
        "print(z)"
      ],
      "metadata": {
        "colab": {
          "base_uri": "https://localhost:8080/"
        },
        "id": "PZi11M5O1fA2",
        "outputId": "46f07cf9-48f9-479e-a681-66906efad5ae"
      },
      "execution_count": null,
      "outputs": [
        {
          "output_type": "stream",
          "name": "stdout",
          "text": [
            "{'google', 'microsoft'}\n"
          ]
        }
      ]
    },
    {
      "cell_type": "markdown",
      "source": [
        "## *isdisjoint*"
      ],
      "metadata": {
        "id": "uGUKOFoH176J"
      }
    },
    {
      "cell_type": "markdown",
      "source": [
        "![disj.png](data:image/png;base64,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)"
      ],
      "metadata": {
        "id": "DipM3J076L1e"
      }
    },
    {
      "cell_type": "code",
      "source": [
        "x = {\"apple\", \"banana\", \"cherry\"}\n",
        "y = {\"google\", \"microsoft\", \"apple\"}\n",
        "\n",
        "x.isdisjoint(y)"
      ],
      "metadata": {
        "colab": {
          "base_uri": "https://localhost:8080/"
        },
        "id": "Gb-wJkA31FSV",
        "outputId": "f3650676-f0d1-45ec-c6e1-c1ecd95d3cda"
      },
      "execution_count": null,
      "outputs": [
        {
          "output_type": "execute_result",
          "data": {
            "text/plain": [
              "False"
            ]
          },
          "metadata": {},
          "execution_count": 20
        }
      ]
    },
    {
      "cell_type": "markdown",
      "source": [
        "## *issubset*"
      ],
      "metadata": {
        "id": "YJGCHkY12bs1"
      }
    },
    {
      "cell_type": "markdown",
      "source": [
        "![supp.jpeg](data:image/jpeg;base64,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)"
      ],
      "metadata": {
        "id": "x4saJKxO6vCc"
      }
    },
    {
      "cell_type": "code",
      "source": [
        "A = {\"apple\",1}\n",
        "B = {\"google\", \"microsoft\", \"apple\"}\n",
        "\n",
        "A.issubset(B)"
      ],
      "metadata": {
        "colab": {
          "base_uri": "https://localhost:8080/"
        },
        "id": "7J0wUei42PVh",
        "outputId": "d995e476-82b9-4bda-8900-4788424d0f28"
      },
      "execution_count": null,
      "outputs": [
        {
          "output_type": "execute_result",
          "data": {
            "text/plain": [
              "False"
            ]
          },
          "metadata": {},
          "execution_count": 145
        }
      ]
    },
    {
      "cell_type": "markdown",
      "source": [
        "## *issuperset*"
      ],
      "metadata": {
        "id": "ASEey5xG2884"
      }
    },
    {
      "cell_type": "markdown",
      "source": [
        "![supp.jpeg](data:image/jpeg;base64,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)"
      ],
      "metadata": {
        "id": "iGyWsfPE645j"
      }
    },
    {
      "cell_type": "code",
      "source": [
        "A = {\"apple\"}\n",
        "B = {\"google\", \"microsoft\", \"apple\"}\n",
        "\n",
        "B.issuperset(A)"
      ],
      "metadata": {
        "colab": {
          "base_uri": "https://localhost:8080/"
        },
        "id": "4O2do07_2v-h",
        "outputId": "bb8945ad-dc4d-49e6-c4f1-cd166d3c037b"
      },
      "execution_count": null,
      "outputs": [
        {
          "output_type": "execute_result",
          "data": {
            "text/plain": [
              "True"
            ]
          },
          "metadata": {},
          "execution_count": 146
        }
      ]
    },
    {
      "cell_type": "markdown",
      "source": [
        "## **Question**"
      ],
      "metadata": {
        "id": "qNy45dZa7N3d"
      }
    },
    {
      "cell_type": "markdown",
      "source": [
        "Find unique elements in a python list"
      ],
      "metadata": {
        "id": "QusEVw0p7Y20"
      }
    },
    {
      "cell_type": "code",
      "source": [
        "A=[1,3,2,5,2]\n",
        "list(set(A))"
      ],
      "metadata": {
        "id": "bUfX6iwP7VgS",
        "colab": {
          "base_uri": "https://localhost:8080/"
        },
        "outputId": "d7a268a7-1435-45f0-e04b-b0e8c645dcd8"
      },
      "execution_count": null,
      "outputs": [
        {
          "output_type": "execute_result",
          "data": {
            "text/plain": [
              "[1, 2, 3, 5]"
            ]
          },
          "metadata": {},
          "execution_count": 147
        }
      ]
    },
    {
      "cell_type": "markdown",
      "source": [
        "# **Dictionary**"
      ],
      "metadata": {
        "id": "SZsNlYV239zu"
      }
    },
    {
      "cell_type": "markdown",
      "source": [
        "## *Basics*"
      ],
      "metadata": {
        "id": "W2omyKMq36Ci"
      }
    },
    {
      "cell_type": "code",
      "source": [
        "###JSON\n"
      ],
      "metadata": {
        "id": "Y8XpAe1m8n-4"
      },
      "execution_count": null,
      "outputs": []
    },
    {
      "cell_type": "code",
      "source": [
        "thisdict = {\n",
        "  \"brand\": \"Ford\",\n",
        "  \"model\": \"Mustang\",\n",
        "  \"year\": 1964\n",
        "}\n",
        "print(thisdict)\n",
        "print(len(thisdict))\n",
        "print(type(thisdict))\n"
      ],
      "metadata": {
        "colab": {
          "base_uri": "https://localhost:8080/"
        },
        "id": "R2-r43Ro3RmT",
        "outputId": "ee98b58e-4502-483c-de6f-9288ce392b25"
      },
      "execution_count": null,
      "outputs": [
        {
          "output_type": "stream",
          "name": "stdout",
          "text": [
            "{'brand': 'Ford', 'model': 'Mustang', 'year': 1964}\n",
            "3\n",
            "<class 'dict'>\n"
          ]
        }
      ]
    },
    {
      "cell_type": "markdown",
      "source": [
        "Dictionaries cannot have two items with the same key."
      ],
      "metadata": {
        "id": "m7lFuByALnvb"
      }
    },
    {
      "cell_type": "code",
      "source": [
        "thisdict = {\n",
        "    1:{\n",
        "  \"brand\": \"Ford\",\n",
        "  \"model\": \"Mustang\",\n",
        "  \"year\": 1964},\n",
        "  2:{\"brand\": \"Honda\",\n",
        "  \"model\": \"ABC\",\n",
        "  \"year\": 1964,\n",
        "  \"country\":\"India\"}\n",
        "}\n",
        "print(thisdict[2][\"country\"])"
      ],
      "metadata": {
        "id": "0-Dl37Hb6TXj",
        "colab": {
          "base_uri": "https://localhost:8080/"
        },
        "outputId": "9d5da294-aa7f-4f40-8d6d-01e56114c19e"
      },
      "execution_count": null,
      "outputs": [
        {
          "output_type": "stream",
          "name": "stdout",
          "text": [
            "India\n"
          ]
        }
      ]
    },
    {
      "cell_type": "code",
      "source": [
        "thisdict = {\n",
        "  \"brand\": \"Ford\",\n",
        "  \"model\": \"Mustang\",\n",
        "  \"year\": 1964\n",
        "}\n",
        "if \"country\" in thisdict:\n",
        "  print(\"Yes, 'model' is one of the keys in the thisdict dictionary\")"
      ],
      "metadata": {
        "id": "Q33zGQPjSVys"
      },
      "execution_count": null,
      "outputs": []
    },
    {
      "cell_type": "markdown",
      "source": [
        "## *Accessing Item*"
      ],
      "metadata": {
        "id": "pVJv2YGfNode"
      }
    },
    {
      "cell_type": "code",
      "source": [
        "thisdict = {\n",
        "  \"brand\": \"Ford\",\n",
        "  \"model\": \"Mustang\",\n",
        "  \"year\": 1964\n",
        "}\n",
        "x = thisdict[\"model\"]\n",
        "x"
      ],
      "metadata": {
        "colab": {
          "base_uri": "https://localhost:8080/",
          "height": 35
        },
        "id": "dNDFrhKFLxYl",
        "outputId": "c3df2d99-2247-4bf5-a491-4f0dfb9485f1"
      },
      "execution_count": null,
      "outputs": [
        {
          "output_type": "execute_result",
          "data": {
            "application/vnd.google.colaboratory.intrinsic+json": {
              "type": "string"
            },
            "text/plain": [
              "'Mustang'"
            ]
          },
          "metadata": {},
          "execution_count": 161
        }
      ]
    },
    {
      "cell_type": "markdown",
      "source": [
        "## *Keys*"
      ],
      "metadata": {
        "id": "okXdkfc1N_XW"
      }
    },
    {
      "cell_type": "code",
      "source": [
        "thisdict = {\n",
        "  \"brand\": \"Ford\",\n",
        "  \"model\": \"Mustang\",\n",
        "  \"year\": 1964\n",
        "}\n",
        "\n",
        "x = thisdict.keys()\n",
        "\n",
        "print(x)\n"
      ],
      "metadata": {
        "id": "__jP7I0zNy3O",
        "colab": {
          "base_uri": "https://localhost:8080/"
        },
        "outputId": "554ba8f1-698a-46f8-b750-c7fd778db557"
      },
      "execution_count": null,
      "outputs": [
        {
          "output_type": "stream",
          "name": "stdout",
          "text": [
            "dict_keys(['brand', 'model', 'year'])\n"
          ]
        }
      ]
    },
    {
      "cell_type": "code",
      "source": [
        "car = {\n",
        "\"brand\": \"Ford\",\n",
        "\"model\": \"Mustang\",\n",
        "\"year\": 1964\n",
        "}\n",
        "\n",
        "x = car.keys()\n",
        "\n",
        "print(x) #before the change\n",
        "\n",
        "car[\"color\"] = \"white\"\n",
        "\n",
        "print(x) #after the change"
      ],
      "metadata": {
        "colab": {
          "base_uri": "https://localhost:8080/"
        },
        "id": "KWu5WkIZPxBe",
        "outputId": "e59c42aa-5402-4c53-9478-83c4e4b06ee1"
      },
      "execution_count": null,
      "outputs": [
        {
          "output_type": "stream",
          "name": "stdout",
          "text": [
            "dict_keys(['brand', 'model', 'year'])\n",
            "dict_keys(['brand', 'model', 'year', 'color'])\n"
          ]
        }
      ]
    },
    {
      "cell_type": "markdown",
      "source": [
        "The list of the keys is a view of the dictionary, meaning that any changes done to the dictionary will be reflected in the keys list."
      ],
      "metadata": {
        "id": "4ww-w6qDQgbW"
      }
    },
    {
      "cell_type": "markdown",
      "source": [
        "## *Values*"
      ],
      "metadata": {
        "id": "1nW5xaRhQptX"
      }
    },
    {
      "cell_type": "code",
      "source": [
        "thisdict = {\n",
        "  \"brand\": \"Ford\",\n",
        "  \"model\": \"Mustang\",\n",
        "  \"year\": 1964\n",
        "}\n",
        "\n",
        "x = thisdict.values()\n",
        "\n",
        "print(x)\n"
      ],
      "metadata": {
        "colab": {
          "base_uri": "https://localhost:8080/"
        },
        "id": "nSffRofHQfcl",
        "outputId": "7c890c6e-f358-400e-d55e-5311a0cc215f"
      },
      "execution_count": null,
      "outputs": [
        {
          "output_type": "stream",
          "name": "stdout",
          "text": [
            "dict_values(['Ford', 'Mustang', 1964])\n"
          ]
        }
      ]
    },
    {
      "cell_type": "code",
      "source": [
        "car = {\n",
        "\"brand\": \"Ford\",\n",
        "\"model\": \"Mustang\",\n",
        "\"year\": 1964\n",
        "}\n",
        "\n",
        "x = car.values()\n",
        "\n",
        "print(x) #before the change\n",
        "\n",
        "car[\"year1\"] = 2020\n",
        "\n",
        "print(x) #after the change\n"
      ],
      "metadata": {
        "colab": {
          "base_uri": "https://localhost:8080/"
        },
        "id": "UJwXxGqwQdqt",
        "outputId": "a0dbb259-6bc1-4a18-e1c2-837a34a8c97b"
      },
      "execution_count": null,
      "outputs": [
        {
          "output_type": "stream",
          "name": "stdout",
          "text": [
            "dict_values(['Ford', 'Mustang', 1964])\n",
            "dict_values(['Ford', 'Mustang', 1964, 2020])\n"
          ]
        }
      ]
    },
    {
      "cell_type": "markdown",
      "source": [
        "## *Items*"
      ],
      "metadata": {
        "id": "IRe48sJKRbIm"
      }
    },
    {
      "cell_type": "code",
      "source": [
        "thisdict = {\n",
        "  \"brand\": \"Ford\",\n",
        "  \"model\": \"Mustang\",\n",
        "  \"year\": 1964\n",
        "}\n",
        "\n",
        "x = thisdict.items()\n",
        "\n",
        "print(x)"
      ],
      "metadata": {
        "colab": {
          "base_uri": "https://localhost:8080/"
        },
        "id": "WmG1amUDQ6kF",
        "outputId": "28d177a6-90c4-46de-ddc9-d8f89acc6e53"
      },
      "execution_count": null,
      "outputs": [
        {
          "output_type": "stream",
          "name": "stdout",
          "text": [
            "dict_items([('brand', 'Ford'), ('model', 'Mustang'), ('year', 1964)])\n"
          ]
        }
      ]
    },
    {
      "cell_type": "code",
      "source": [
        "car = {\n",
        "\"brand\": \"Ford\",\n",
        "\"model\": \"Mustang\",\n",
        "\"year\": 1964\n",
        "}\n",
        "\n",
        "x = car.items()\n",
        "\n",
        "print(x) #before the change\n",
        "\n",
        "car[\"year\"] = 2020\n",
        "\n",
        "print(x) #after the change"
      ],
      "metadata": {
        "colab": {
          "base_uri": "https://localhost:8080/"
        },
        "id": "ZIOZ729RRm9V",
        "outputId": "d0af09e0-40d0-4415-ec98-0fe78311d64a"
      },
      "execution_count": null,
      "outputs": [
        {
          "output_type": "stream",
          "name": "stdout",
          "text": [
            "dict_items([('brand', 'Ford'), ('model', 'Mustang'), ('year', 1964)])\n",
            "dict_items([('brand', 'Ford'), ('model', 'Mustang'), ('year', 2020)])\n"
          ]
        }
      ]
    },
    {
      "cell_type": "markdown",
      "source": [
        "## *Update*"
      ],
      "metadata": {
        "id": "85lwOmiXSf9i"
      }
    },
    {
      "cell_type": "code",
      "source": [
        "thisdict =\t{\n",
        "  \"brand\": \"Ford\",\n",
        "  \"model\": \"Mustang\",\n",
        "  \"year\": 1964\n",
        "}\n",
        "\n",
        "thisdict[\"year\"] = 2018\n",
        "\n",
        "print(thisdict)\n"
      ],
      "metadata": {
        "colab": {
          "base_uri": "https://localhost:8080/"
        },
        "id": "WklNL_HyR188",
        "outputId": "7d0e1428-dea5-4fd3-8e64-c71feb38c99e"
      },
      "execution_count": null,
      "outputs": [
        {
          "output_type": "stream",
          "name": "stdout",
          "text": [
            "{'brand': 'Ford', 'model': 'Mustang', 'year': 2018}\n"
          ]
        }
      ]
    },
    {
      "cell_type": "markdown",
      "source": [
        "## *Add Items*"
      ],
      "metadata": {
        "id": "RnTEhzImS_vy"
      }
    },
    {
      "cell_type": "code",
      "source": [
        "thisdict = {\n",
        "  \"brand\": \"Ford\",\n",
        "  \"model\": \"Mustang\",\n",
        "  \"year\": 1964\n",
        "}\n",
        "thisdict[\"color\"] = \"red\"\n",
        "print(thisdict)"
      ],
      "metadata": {
        "colab": {
          "base_uri": "https://localhost:8080/"
        },
        "id": "rO9ifHUASnnx",
        "outputId": "5d9392a9-c9d5-4981-b4a6-4ab36583a26a"
      },
      "execution_count": null,
      "outputs": [
        {
          "output_type": "stream",
          "name": "stdout",
          "text": [
            "{'brand': 'Ford', 'model': 'Mustang', 'year': 1964, 'color': 'red'}\n"
          ]
        }
      ]
    },
    {
      "cell_type": "markdown",
      "source": [
        "## *Delete Items*"
      ],
      "metadata": {
        "id": "PtDY1WxtTWg2"
      }
    },
    {
      "cell_type": "code",
      "source": [
        "thisdict = {\n",
        "  \"brand\": \"Ford\",\n",
        "  \"model\": \"Mustang\",\n",
        "  \"year\": 1964\n",
        "}\n",
        "del thisdict[\"model\"]\n",
        "print(thisdict)"
      ],
      "metadata": {
        "colab": {
          "base_uri": "https://localhost:8080/"
        },
        "id": "JoYd4qoOTJWM",
        "outputId": "9f6b0ce4-6359-4438-bd4b-f567647a0ff2"
      },
      "execution_count": null,
      "outputs": [
        {
          "output_type": "stream",
          "name": "stdout",
          "text": [
            "{'brand': 'Ford', 'year': 1964}\n"
          ]
        }
      ]
    },
    {
      "cell_type": "markdown",
      "source": [
        "## *Looping*"
      ],
      "metadata": {
        "id": "da6ssSlBndeJ"
      }
    },
    {
      "cell_type": "code",
      "source": [
        "thisdict =\t{\n",
        "  \"brand\": \"Ford\",\n",
        "  \"model\": \"Mustang\",\n",
        "  \"year\": 1964\n",
        "}\n",
        "for x in thisdict:\n",
        "  print(x)\n",
        "print(\"=================\")\n",
        "for x in thisdict.keys():\n",
        "  print(x)\n",
        "print(\"=================\")\n",
        "for x in thisdict.values():\n",
        "  print(x)\n",
        "print(\"=================\")\n",
        "for x, y in thisdict.items():\n",
        "  print(x, y)"
      ],
      "metadata": {
        "colab": {
          "base_uri": "https://localhost:8080/"
        },
        "id": "A_ze6V5pTijF",
        "outputId": "4cc8a348-69e9-4ec9-e45e-d84a8049f961"
      },
      "execution_count": null,
      "outputs": [
        {
          "output_type": "stream",
          "name": "stdout",
          "text": [
            "brand\n",
            "model\n",
            "year\n",
            "=================\n",
            "brand\n",
            "model\n",
            "year\n",
            "=================\n",
            "Ford\n",
            "Mustang\n",
            "1964\n",
            "=================\n",
            "brand Ford\n",
            "model Mustang\n",
            "year 1964\n"
          ]
        }
      ]
    },
    {
      "cell_type": "markdown",
      "source": [
        "## Copy"
      ],
      "metadata": {
        "id": "MbKHPVZzoeWy"
      }
    },
    {
      "cell_type": "code",
      "source": [
        "thisdict = {\n",
        "  \"brand\": \"Ford\",\n",
        "  \"model\": \"Mustang\",\n",
        "  \"year\": 1964\n",
        "}\n",
        "mydict = dict(thisdict)\n",
        "print(mydict)"
      ],
      "metadata": {
        "colab": {
          "base_uri": "https://localhost:8080/"
        },
        "id": "-lECpuY6nnuY",
        "outputId": "4bbcc349-6613-4100-b7cb-c86e4079f396"
      },
      "execution_count": null,
      "outputs": [
        {
          "output_type": "stream",
          "name": "stdout",
          "text": [
            "{'brand': 'Ford', 'model': 'Mustang', 'year': 1964}\n"
          ]
        }
      ]
    },
    {
      "cell_type": "markdown",
      "source": [
        "## **Question**"
      ],
      "metadata": {
        "id": "8RSc4bRi8v7J"
      }
    },
    {
      "cell_type": "markdown",
      "source": [
        "Convert 2 lists into a dictionary"
      ],
      "metadata": {
        "id": "32Qdyf1r9AZF"
      }
    },
    {
      "cell_type": "code",
      "source": [
        "A = ['Ten', 'Twenty', 'Thirty']\n",
        "B = [10, 20, 30]\n",
        "\n",
        "###{'Ten':10,'Twenty':20, 'Thirty':30}\n",
        "dict(zip(A,B))"
      ],
      "metadata": {
        "id": "vUbXQIdColb2",
        "colab": {
          "base_uri": "https://localhost:8080/"
        },
        "outputId": "685740df-a7b6-405d-e540-951892be141c"
      },
      "execution_count": null,
      "outputs": [
        {
          "output_type": "execute_result",
          "data": {
            "text/plain": [
              "{'Ten': 10, 'Thirty': 30, 'Twenty': 20}"
            ]
          },
          "metadata": {},
          "execution_count": 167
        }
      ]
    },
    {
      "cell_type": "code",
      "source": [
        "a={}\n",
        "print(type(a))\n",
        "\n",
        "a=set()\n",
        "print(type(a))"
      ],
      "metadata": {
        "colab": {
          "base_uri": "https://localhost:8080/"
        },
        "id": "GzIxiJMaB_Q5",
        "outputId": "eaf21533-dd42-4972-e992-c9a12e4be122"
      },
      "execution_count": null,
      "outputs": [
        {
          "output_type": "stream",
          "name": "stdout",
          "text": [
            "<class 'dict'>\n",
            "<class 'set'>\n"
          ]
        }
      ]
    },
    {
      "cell_type": "code",
      "source": [
        "A = ['a','b','c']\n",
        "B = [1,2,3]\n",
        "\n",
        "res = {}\n",
        "for key in range(len(A)):\n",
        "  res[A[key]] = B[key]\n",
        "          \n",
        "res"
      ],
      "metadata": {
        "colab": {
          "base_uri": "https://localhost:8080/"
        },
        "id": "D9M0ef2ZCdaU",
        "outputId": "4a189e5c-02c2-42f6-c34a-c808cecd1143"
      },
      "execution_count": null,
      "outputs": [
        {
          "output_type": "execute_result",
          "data": {
            "text/plain": [
              "{'a': 1, 'b': 2, 'c': 3}"
            ]
          },
          "metadata": {},
          "execution_count": 173
        }
      ]
    },
    {
      "cell_type": "code",
      "source": [
        "list1 = [\"aa\", \"bb\", \"cc\"]\n",
        "list2 = [1, 2, 3]\n",
        "result = {list1[i]: list2[i] for i in range(len(list1))}\n",
        "print (\"Resultant dictionary is : \" +  str(result))"
      ],
      "metadata": {
        "colab": {
          "base_uri": "https://localhost:8080/"
        },
        "id": "f77GVHTsDIgs",
        "outputId": "9d165735-b279-4e85-918c-d29f0a53610b"
      },
      "execution_count": null,
      "outputs": [
        {
          "output_type": "stream",
          "name": "stdout",
          "text": [
            "Resultant dictionary is : {'aa': 1, 'bb': 2, 'cc': 3}\n"
          ]
        }
      ]
    },
    {
      "cell_type": "markdown",
      "source": [
        "## **Question**"
      ],
      "metadata": {
        "id": "N5obGZAg-fyB"
      }
    },
    {
      "cell_type": "markdown",
      "source": [
        "Merge 2 dictionaries"
      ],
      "metadata": {
        "id": "BXvaGXF9-lc0"
      }
    },
    {
      "cell_type": "code",
      "source": [
        "A={1:\"one\"}\n",
        "B={2:\"two\"}\n",
        "###{1:\"one\",2:\"two\"}"
      ],
      "metadata": {
        "id": "COg554479Ro0"
      },
      "execution_count": null,
      "outputs": []
    },
    {
      "cell_type": "code",
      "source": [
        "{**A,**B}"
      ],
      "metadata": {
        "id": "C72G4-La9iE3",
        "colab": {
          "base_uri": "https://localhost:8080/"
        },
        "outputId": "a72c6f9d-c770-4e06-8d29-0d87f12f97e4"
      },
      "execution_count": null,
      "outputs": [
        {
          "output_type": "execute_result",
          "data": {
            "text/plain": [
              "{1: 'one', 2: 'two'}"
            ]
          },
          "metadata": {},
          "execution_count": 180
        }
      ]
    },
    {
      "cell_type": "code",
      "source": [
        "dict1 = {'a': 1, 'b': 2}\n",
        "dict2 = {'c': 3, 'd': 4}\n",
        "dict2.update(dict1)\n",
        "print(dict2)"
      ],
      "metadata": {
        "colab": {
          "base_uri": "https://localhost:8080/"
        },
        "id": "t8zyekg6DvWd",
        "outputId": "e399c2b7-20bf-4c04-804e-69be4d876af1"
      },
      "execution_count": null,
      "outputs": [
        {
          "output_type": "stream",
          "name": "stdout",
          "text": [
            "{'c': 3, 'd': 4, 'a': 1, 'b': 2}\n"
          ]
        }
      ]
    },
    {
      "cell_type": "code",
      "source": [
        ""
      ],
      "metadata": {
        "id": "KsfNlnGvEoQ2"
      },
      "execution_count": null,
      "outputs": []
    }
  ]
}